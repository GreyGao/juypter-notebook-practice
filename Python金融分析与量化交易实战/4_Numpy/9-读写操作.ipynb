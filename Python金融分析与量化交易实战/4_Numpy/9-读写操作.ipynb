{
 "cells": [
  {
   "cell_type": "code",
   "execution_count": 1,
   "id": "96010b71",
   "metadata": {},
   "outputs": [],
   "source": [
    "import numpy as np"
   ]
  },
  {
   "cell_type": "code",
   "execution_count": 4,
   "id": "dd6c391d",
   "metadata": {},
   "outputs": [
    {
     "name": "stdout",
     "output_type": "stream",
     "text": [
      "Writing ./gao.txt\n"
     ]
    }
   ],
   "source": [
    "%%writefile ./gao.txt\n",
    "1 2 3 4 5 6\n",
    "2 3 5 8 7 9"
   ]
  },
  {
   "cell_type": "markdown",
   "id": "b95fef2e",
   "metadata": {},
   "source": [
    "### 使用py进行读取数据"
   ]
  },
  {
   "cell_type": "code",
   "execution_count": 5,
   "id": "a3ea67c4",
   "metadata": {
    "scrolled": true
   },
   "outputs": [
    {
     "data": {
      "text/plain": [
       "array([[1., 2., 3., 4., 5., 6.],\n",
       "       [2., 3., 5., 8., 7., 9.]])"
      ]
     },
     "execution_count": 5,
     "metadata": {},
     "output_type": "execute_result"
    }
   ],
   "source": [
    "data = []\n",
    "with open('gao.txt') as f:\n",
    "    for line in f.readlines():\n",
    "        fileds = line.split()\n",
    "        cur_data = [float(x) for x in fileds]\n",
    "        data.append(cur_data)\n",
    "data = np.array(data)\n",
    "data"
   ]
  },
  {
   "cell_type": "markdown",
   "id": "bce9d9ac",
   "metadata": {},
   "source": [
    "### 使用numpy进行读取数据"
   ]
  },
  {
   "cell_type": "code",
   "execution_count": 6,
   "id": "a8756a5b",
   "metadata": {
    "scrolled": true
   },
   "outputs": [
    {
     "data": {
      "text/plain": [
       "array([[1., 2., 3., 4., 5., 6.],\n",
       "       [2., 3., 5., 8., 7., 9.]])"
      ]
     },
     "execution_count": 6,
     "metadata": {},
     "output_type": "execute_result"
    }
   ],
   "source": [
    "data = np.loadtxt('gao.txt')\n",
    "data"
   ]
  },
  {
   "cell_type": "code",
   "execution_count": 7,
   "id": "bbb489d6",
   "metadata": {},
   "outputs": [
    {
     "name": "stdout",
     "output_type": "stream",
     "text": [
      "Writing gao2.txt\n"
     ]
    }
   ],
   "source": [
    "%%writefile gao2.txt\n",
    "1,2,3,4,5,6\n",
    "2,3,5,8,7,9\n"
   ]
  },
  {
   "cell_type": "markdown",
   "id": "8bbe1e19",
   "metadata": {},
   "source": [
    "#### 分隔符"
   ]
  },
  {
   "cell_type": "code",
   "execution_count": 9,
   "id": "b2e0dc97",
   "metadata": {},
   "outputs": [
    {
     "data": {
      "text/plain": [
       "array([[1., 2., 3., 4., 5., 6.],\n",
       "       [2., 3., 5., 8., 7., 9.]])"
      ]
     },
     "execution_count": 9,
     "metadata": {},
     "output_type": "execute_result"
    }
   ],
   "source": [
    "data = np.loadtxt('gao2.txt', delimiter=',')\n",
    "data"
   ]
  },
  {
   "cell_type": "code",
   "execution_count": 10,
   "id": "7f5015b1",
   "metadata": {},
   "outputs": [
    {
     "name": "stdout",
     "output_type": "stream",
     "text": [
      "Writing gao3.txt\n"
     ]
    }
   ],
   "source": [
    "%%writefile gao3.txt\n",
    "x,y,z,w,a,b\n",
    "1,2,3,4,5,6\n",
    "2,3,5,8,7,9"
   ]
  },
  {
   "cell_type": "markdown",
   "id": "f53913f8",
   "metadata": {},
   "source": [
    "#### 忽略行"
   ]
  },
  {
   "cell_type": "code",
   "execution_count": 11,
   "id": "1931dc98",
   "metadata": {},
   "outputs": [
    {
     "data": {
      "text/plain": [
       "array([[1., 2., 3., 4., 5., 6.],\n",
       "       [2., 3., 5., 8., 7., 9.]])"
      ]
     },
     "execution_count": 11,
     "metadata": {},
     "output_type": "execute_result"
    }
   ],
   "source": [
    "data = np.loadtxt('gao3.txt', delimiter=',', skiprows=1)\n",
    "data"
   ]
  },
  {
   "cell_type": "markdown",
   "id": "8412f222",
   "metadata": {},
   "source": [
    "### 使用numpy进行保存数据"
   ]
  },
  {
   "cell_type": "code",
   "execution_count": 18,
   "id": "bb9e6f6d",
   "metadata": {},
   "outputs": [
    {
     "data": {
      "text/plain": [
       "array([[1, 2, 3],\n",
       "       [4, 5, 6]])"
      ]
     },
     "execution_count": 18,
     "metadata": {},
     "output_type": "execute_result"
    }
   ],
   "source": [
    "gao_arr=np.array(([1,2,3], [4,5,6]))\n",
    "gao_arr"
   ]
  },
  {
   "cell_type": "code",
   "execution_count": 14,
   "id": "064890e6",
   "metadata": {},
   "outputs": [],
   "source": [
    "np.savetxt('gao4.txt', gao_arr)"
   ]
  },
  {
   "cell_type": "code",
   "execution_count": 20,
   "id": "1ae73773",
   "metadata": {},
   "outputs": [],
   "source": [
    "np.savetxt('gao4.txt', gao_arr, fmt='%d')"
   ]
  },
  {
   "cell_type": "code",
   "execution_count": 21,
   "id": "f7b722a0",
   "metadata": {},
   "outputs": [],
   "source": [
    "np.savetxt('gao4.txt',gao_arr,fmt='%d',delimiter = ',')"
   ]
  },
  {
   "cell_type": "code",
   "execution_count": 22,
   "id": "276e295d",
   "metadata": {},
   "outputs": [],
   "source": [
    "np.savetxt('gao4.txt',gao_arr,fmt='%.2f',delimiter = ',')"
   ]
  },
  {
   "cell_type": "markdown",
   "id": "f9879023",
   "metadata": {},
   "source": [
    "### 使用numpy进行array数组结构读写"
   ]
  },
  {
   "cell_type": "code",
   "execution_count": 23,
   "id": "6585d392",
   "metadata": {},
   "outputs": [],
   "source": [
    "gao_arr = np.array([[1,2,3],[4,5,6]])\n",
    "np.save('gao_arr.npy', gao_arr)"
   ]
  },
  {
   "cell_type": "code",
   "execution_count": 24,
   "id": "ded65258",
   "metadata": {},
   "outputs": [
    {
     "data": {
      "text/plain": [
       "array([[1, 2, 3],\n",
       "       [4, 5, 6]])"
      ]
     },
     "execution_count": 24,
     "metadata": {},
     "output_type": "execute_result"
    }
   ],
   "source": [
    "gao = np.load('gao_arr.npy')\n",
    "gao"
   ]
  },
  {
   "cell_type": "code",
   "execution_count": 25,
   "id": "413a9b63",
   "metadata": {},
   "outputs": [
    {
     "data": {
      "text/plain": [
       "array([0, 1, 2, 3, 4, 5, 6, 7, 8, 9])"
      ]
     },
     "execution_count": 25,
     "metadata": {},
     "output_type": "execute_result"
    }
   ],
   "source": [
    "gao_arr2 = np.arange(10)\n",
    "gao_arr2"
   ]
  },
  {
   "cell_type": "code",
   "execution_count": 26,
   "id": "b7a3787e",
   "metadata": {},
   "outputs": [],
   "source": [
    "np.savez('gao.npz',a=gao_arr,b=gao_arr2)"
   ]
  },
  {
   "cell_type": "code",
   "execution_count": null,
   "id": "a918b7ba",
   "metadata": {},
   "outputs": [],
   "source": []
  }
 ],
 "metadata": {
  "kernelspec": {
   "display_name": "Python 3 (ipykernel)",
   "language": "python",
   "name": "python3"
  },
  "language_info": {
   "codemirror_mode": {
    "name": "ipython",
    "version": 3
   },
   "file_extension": ".py",
   "mimetype": "text/x-python",
   "name": "python",
   "nbconvert_exporter": "python",
   "pygments_lexer": "ipython3",
   "version": "3.11.5"
  }
 },
 "nbformat": 4,
 "nbformat_minor": 5
}

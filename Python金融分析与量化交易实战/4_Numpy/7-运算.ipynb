{
 "cells": [
  {
   "cell_type": "code",
   "execution_count": 1,
   "id": "7b212338",
   "metadata": {},
   "outputs": [],
   "source": [
    "import numpy as np"
   ]
  },
  {
   "cell_type": "code",
   "execution_count": 7,
   "id": "fe8ec055",
   "metadata": {},
   "outputs": [],
   "source": [
    "x = np.array([5,5])\n",
    "y = np.array([3,3])"
   ]
  },
  {
   "cell_type": "markdown",
   "id": "05b05a9f",
   "metadata": {},
   "source": [
    "### 乘法"
   ]
  },
  {
   "cell_type": "code",
   "execution_count": 8,
   "id": "be20550d",
   "metadata": {},
   "outputs": [
    {
     "data": {
      "text/plain": [
       "array([15, 15])"
      ]
     },
     "execution_count": 8,
     "metadata": {},
     "output_type": "execute_result"
    }
   ],
   "source": [
    "np.multiply(x,y)"
   ]
  },
  {
   "cell_type": "code",
   "execution_count": 9,
   "id": "be083c7f",
   "metadata": {},
   "outputs": [
    {
     "data": {
      "text/plain": [
       "array([5, 5])"
      ]
     },
     "execution_count": 9,
     "metadata": {},
     "output_type": "execute_result"
    }
   ],
   "source": [
    "x"
   ]
  },
  {
   "cell_type": "code",
   "execution_count": 10,
   "id": "3d747d89",
   "metadata": {},
   "outputs": [
    {
     "data": {
      "text/plain": [
       "array([3, 3])"
      ]
     },
     "execution_count": 10,
     "metadata": {},
     "output_type": "execute_result"
    }
   ],
   "source": [
    "y"
   ]
  },
  {
   "cell_type": "markdown",
   "id": "d9b57403",
   "metadata": {},
   "source": [
    "### 点积"
   ]
  },
  {
   "cell_type": "markdown",
   "id": "4f22a2b4",
   "metadata": {},
   "source": [
    "#### 向量的点积\n",
    "当`dot`用于两个向量时，它计算的是这两个向量的内积（即点积）。"
   ]
  },
  {
   "cell_type": "code",
   "execution_count": 15,
   "id": "eca3a68d",
   "metadata": {
    "scrolled": false
   },
   "outputs": [
    {
     "name": "stdout",
     "output_type": "stream",
     "text": [
      "32\n"
     ]
    }
   ],
   "source": [
    "# 创建两个向量\n",
    "a = np.array([1,2,3])\n",
    "b = np.array([4,5,6])\n",
    "\n",
    "# 计算点积\n",
    "dot_product = np.dot(a, b)\n",
    "\n",
    "print(dot_product) # 输出: 32 (1*4 + 2*5 + 3*6)"
   ]
  },
  {
   "cell_type": "markdown",
   "id": "1418ec8e",
   "metadata": {},
   "source": [
    "#### 矩阵与向量的乘积\n",
    "当`dot`用于矩阵和向量时，它将矩阵和向量相乘，返回一个新的向量。"
   ]
  },
  {
   "cell_type": "code",
   "execution_count": 22,
   "id": "d1a25f5e",
   "metadata": {},
   "outputs": [
    {
     "name": "stdout",
     "output_type": "stream",
     "text": [
      "(2, 3)\n",
      "(3,)\n",
      "[ 50 122]\n"
     ]
    }
   ],
   "source": [
    "# 创建一个矩阵和一个向量\n",
    "A = np.array([[1,2,3], [4,5,6]])\n",
    "v = np.array([7,8,9,])\n",
    "print(A.shape)\n",
    "print(v.shape)\n",
    "\n",
    "# 矩阵和向量的乘积\n",
    "product = np.dot(A, v)\n",
    "\n",
    "print(product) # 输出: [ 50 122 ]"
   ]
  },
  {
   "cell_type": "markdown",
   "id": "b8105f1b",
   "metadata": {},
   "source": [
    "#### 矩阵的乘积\n",
    "当`dot`用于两个矩阵时，它计算的是矩阵的乘积。\n",
    "给定两个矩阵A和B，其中A是一个mxn的矩阵，B是一个nxp的矩阵，则它们的乘积C将得到一个mxp的矩阵。C中的每个元素cij是通过取A的第i行和B的第j列对应元素的乘积之和的到的。"
   ]
  },
  {
   "cell_type": "code",
   "execution_count": 18,
   "id": "90636e9e",
   "metadata": {},
   "outputs": [
    {
     "name": "stdout",
     "output_type": "stream",
     "text": [
      "[[19 22]\n",
      " [43 50]]\n"
     ]
    }
   ],
   "source": [
    "# 创建两个矩阵\n",
    "A = np.array([[1,2], [3,4]])\n",
    "B = np.array([[5,6], [7,8]])\n",
    "\n",
    "# 矩阵的乘积\n",
    "product = np.dot(A, B)\n",
    "\n",
    "print(product)\n",
    "# 输出:\n",
    "# [[19 22]\n",
    "#  [43 50]]"
   ]
  },
  {
   "cell_type": "markdown",
   "id": "f59c5b94",
   "metadata": {},
   "source": [
    "### 逻辑运算"
   ]
  },
  {
   "cell_type": "code",
   "execution_count": 27,
   "id": "daab7c9b",
   "metadata": {},
   "outputs": [],
   "source": [
    "x = np.array([0,1,0])\n",
    "y = np.array([0,1,2])"
   ]
  },
  {
   "cell_type": "code",
   "execution_count": 28,
   "id": "e64d16a5",
   "metadata": {},
   "outputs": [
    {
     "data": {
      "text/plain": [
       "array([ True,  True, False])"
      ]
     },
     "execution_count": 28,
     "metadata": {},
     "output_type": "execute_result"
    }
   ],
   "source": [
    "x == y"
   ]
  },
  {
   "cell_type": "code",
   "execution_count": 30,
   "id": "2a8453de",
   "metadata": {},
   "outputs": [
    {
     "data": {
      "text/plain": [
       "array([False,  True, False])"
      ]
     },
     "execution_count": 30,
     "metadata": {},
     "output_type": "execute_result"
    }
   ],
   "source": [
    "np.logical_and(x,y)"
   ]
  },
  {
   "cell_type": "code",
   "execution_count": 31,
   "id": "6eacb097",
   "metadata": {
    "scrolled": true
   },
   "outputs": [
    {
     "data": {
      "text/plain": [
       "array([False,  True,  True])"
      ]
     },
     "execution_count": 31,
     "metadata": {},
     "output_type": "execute_result"
    }
   ],
   "source": [
    "np.logical_or(x,y)"
   ]
  },
  {
   "cell_type": "code",
   "execution_count": 32,
   "id": "a8424259",
   "metadata": {},
   "outputs": [
    {
     "data": {
      "text/plain": [
       "array([1, 0, 1])"
      ]
     },
     "execution_count": 32,
     "metadata": {},
     "output_type": "execute_result"
    }
   ],
   "source": [
    "np.logical_not(x,y)"
   ]
  }
 ],
 "metadata": {
  "kernelspec": {
   "display_name": "Python 3 (ipykernel)",
   "language": "python",
   "name": "python3"
  },
  "language_info": {
   "codemirror_mode": {
    "name": "ipython",
    "version": 3
   },
   "file_extension": ".py",
   "mimetype": "text/x-python",
   "name": "python",
   "nbconvert_exporter": "python",
   "pygments_lexer": "ipython3",
   "version": "3.11.5"
  }
 },
 "nbformat": 4,
 "nbformat_minor": 5
}

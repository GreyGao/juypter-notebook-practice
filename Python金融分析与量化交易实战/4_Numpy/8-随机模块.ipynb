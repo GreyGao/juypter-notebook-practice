{
 "cells": [
  {
   "cell_type": "code",
   "execution_count": 1,
   "id": "76b4e536",
   "metadata": {},
   "outputs": [],
   "source": [
    "import numpy as np"
   ]
  },
  {
   "cell_type": "markdown",
   "id": "d904bd7a",
   "metadata": {},
   "source": [
    "### 随机构造数组\n",
    "所有生成的元素都是0-1的值"
   ]
  },
  {
   "cell_type": "code",
   "execution_count": 3,
   "id": "ef04a65f",
   "metadata": {},
   "outputs": [
    {
     "data": {
      "text/plain": [
       "array([[0.25771196, 0.36799257],\n",
       "       [0.30636307, 0.22427902],\n",
       "       [0.25502102, 0.66835686]])"
      ]
     },
     "execution_count": 3,
     "metadata": {},
     "output_type": "execute_result"
    }
   ],
   "source": [
    "np.random.rand(3,2)"
   ]
  },
  {
   "cell_type": "code",
   "execution_count": 4,
   "id": "6564ec20",
   "metadata": {},
   "outputs": [
    {
     "data": {
      "text/plain": [
       "0.7630714821602074"
      ]
     },
     "execution_count": 4,
     "metadata": {},
     "output_type": "execute_result"
    }
   ],
   "source": [
    "np.random.rand()"
   ]
  },
  {
   "cell_type": "code",
   "execution_count": 5,
   "id": "16bf5b3f",
   "metadata": {},
   "outputs": [
    {
     "data": {
      "text/plain": [
       "array([0.51666661, 0.38310966, 0.31149733])"
      ]
     },
     "execution_count": 5,
     "metadata": {},
     "output_type": "execute_result"
    }
   ],
   "source": [
    "np.random.rand(3)"
   ]
  },
  {
   "cell_type": "markdown",
   "id": "4dcb8865",
   "metadata": {},
   "source": [
    "### 随机生成整数 randint(low,high,size,dtype)\n",
    "所有生成的元素都是int，low,high左闭又开"
   ]
  },
  {
   "cell_type": "code",
   "execution_count": 12,
   "id": "65406e2a",
   "metadata": {},
   "outputs": [
    {
     "data": {
      "text/plain": [
       "array([0, 8, 6, 9, 9])"
      ]
     },
     "execution_count": 12,
     "metadata": {},
     "output_type": "execute_result"
    }
   ],
   "source": [
    "np.random.randint(0,10,size=5)"
   ]
  },
  {
   "cell_type": "markdown",
   "id": "dc07dbf8",
   "metadata": {},
   "source": [
    "### 随机采样"
   ]
  },
  {
   "cell_type": "code",
   "execution_count": 13,
   "id": "57879bd2",
   "metadata": {},
   "outputs": [
    {
     "data": {
      "text/plain": [
       "0.12575980035027712"
      ]
     },
     "execution_count": 13,
     "metadata": {},
     "output_type": "execute_result"
    }
   ],
   "source": [
    "np.random.random_sample()"
   ]
  },
  {
   "cell_type": "markdown",
   "id": "ebb63d3f",
   "metadata": {},
   "source": [
    "### 正态分布\n",
    "在NumPy库中，`numpy.random.normal` 函数用于根据正态分布（高斯分布）生成随机数。正态分布由两个参数定义：均值（mean）和标准差（stddev），分别决定了分布的中心和宽度。"
   ]
  },
  {
   "cell_type": "markdown",
   "id": "fac1fd2d",
   "metadata": {},
   "source": [
    "```py\n",
    "numpy.random.normal(loc=0.0, scale=1.0, size=None)\n",
    "```\n",
    "- loc：浮点数或类浮点数，表示分布的均值（对应于分布的中心）。\n",
    "- scale：浮点数或类浮点数，表示分布的标准差（对应于分布的宽度）。\n",
    "- size：输出随机数的形状，可以是一个整数或整数元组。如果不提供，size 默认为None，这意味着返回单个值。"
   ]
  },
  {
   "cell_type": "code",
   "execution_count": 26,
   "id": "3f1c1e05",
   "metadata": {},
   "outputs": [
    {
     "name": "stdout",
     "output_type": "stream",
     "text": [
      "[0.96 1.03 0.76 1.04 0.99 0.85 1.01 0.96 1.04 0.93]\n",
      "0.9559009093580221\n"
     ]
    }
   ],
   "source": [
    "# 生成一个均值为 0，标准差为 0.1，形状为 (3,4) 的随机数数组\n",
    "mean = 1       # 均值\n",
    "std = 0.1      # 标准差\n",
    "shape = (10) # 形状\n",
    "\n",
    "random_values = np.random.normal(mean, std, shape)\n",
    "# np.set_printoptions(precision=2)\n",
    "\n",
    "print(random_values)\n",
    "print(random_values.mean())"
   ]
  },
  {
   "cell_type": "markdown",
   "id": "114eb6b7",
   "metadata": {},
   "source": [
    "### 洗牌"
   ]
  },
  {
   "cell_type": "code",
   "execution_count": 27,
   "id": "261a7784",
   "metadata": {},
   "outputs": [
    {
     "data": {
      "text/plain": [
       "array([0, 1, 2, 3, 4, 5, 6, 7, 8, 9])"
      ]
     },
     "execution_count": 27,
     "metadata": {},
     "output_type": "execute_result"
    }
   ],
   "source": [
    "arr = np.arange(10)\n",
    "arr"
   ]
  },
  {
   "cell_type": "code",
   "execution_count": 29,
   "id": "de008e25",
   "metadata": {},
   "outputs": [
    {
     "data": {
      "text/plain": [
       "array([4, 6, 5, 3, 7, 9, 2, 1, 8, 0])"
      ]
     },
     "execution_count": 29,
     "metadata": {},
     "output_type": "execute_result"
    }
   ],
   "source": [
    "np.random.shuffle(arr)\n",
    "arr"
   ]
  },
  {
   "cell_type": "markdown",
   "id": "164dc2c9",
   "metadata": {},
   "source": [
    "### 随机种子"
   ]
  },
  {
   "cell_type": "code",
   "execution_count": 30,
   "id": "bc0b50e8",
   "metadata": {},
   "outputs": [],
   "source": [
    "np.random.seed(100)"
   ]
  },
  {
   "cell_type": "code",
   "execution_count": null,
   "id": "07718748",
   "metadata": {},
   "outputs": [],
   "source": []
  }
 ],
 "metadata": {
  "kernelspec": {
   "display_name": "Python 3 (ipykernel)",
   "language": "python",
   "name": "python3"
  },
  "language_info": {
   "codemirror_mode": {
    "name": "ipython",
    "version": 3
   },
   "file_extension": ".py",
   "mimetype": "text/x-python",
   "name": "python",
   "nbconvert_exporter": "python",
   "pygments_lexer": "ipython3",
   "version": "3.11.5"
  }
 },
 "nbformat": 4,
 "nbformat_minor": 5
}

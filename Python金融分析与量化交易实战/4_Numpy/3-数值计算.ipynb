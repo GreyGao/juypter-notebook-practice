{
 "cells": [
  {
   "cell_type": "markdown",
   "id": "ea3dc45c",
   "metadata": {},
   "source": [
    "## array数组的数值计算"
   ]
  },
  {
   "cell_type": "code",
   "execution_count": 1,
   "id": "15f8a8f6",
   "metadata": {},
   "outputs": [
    {
     "data": {
      "text/plain": [
       "array([[1, 2, 3],\n",
       "       [4, 5, 6]])"
      ]
     },
     "execution_count": 1,
     "metadata": {},
     "output_type": "execute_result"
    }
   ],
   "source": [
    "import numpy as np\n",
    "gao_array = np.array([[1,2,3], [4,5,6]])\n",
    "gao_array"
   ]
  },
  {
   "cell_type": "markdown",
   "id": "bdd03cc6",
   "metadata": {},
   "source": [
    "### 求和sum"
   ]
  },
  {
   "cell_type": "code",
   "execution_count": 3,
   "id": "552e3e2e",
   "metadata": {},
   "outputs": [
    {
     "data": {
      "text/plain": [
       "21"
      ]
     },
     "execution_count": 3,
     "metadata": {},
     "output_type": "execute_result"
    }
   ],
   "source": [
    "np.sum(gao_array)"
   ]
  },
  {
   "cell_type": "markdown",
   "id": "ceabfa3b",
   "metadata": {},
   "source": [
    "#### 沿着某一维度\n",
    "- 可画图感受较为直观"
   ]
  },
  {
   "cell_type": "code",
   "execution_count": 7,
   "id": "cb32805f",
   "metadata": {},
   "outputs": [
    {
     "data": {
      "text/plain": [
       "array([5, 7, 9])"
      ]
     },
     "execution_count": 7,
     "metadata": {},
     "output_type": "execute_result"
    }
   ],
   "source": [
    "np.sum(gao_array, axis=0)"
   ]
  },
  {
   "cell_type": "code",
   "execution_count": 8,
   "id": "cb890393",
   "metadata": {},
   "outputs": [
    {
     "data": {
      "text/plain": [
       "array([ 6, 15])"
      ]
     },
     "execution_count": 8,
     "metadata": {},
     "output_type": "execute_result"
    }
   ],
   "source": [
    "np.sum(gao_array, axis=1)"
   ]
  },
  {
   "cell_type": "code",
   "execution_count": 6,
   "id": "494bce45",
   "metadata": {},
   "outputs": [
    {
     "data": {
      "text/plain": [
       "(2, 3)"
      ]
     },
     "execution_count": 6,
     "metadata": {},
     "output_type": "execute_result"
    }
   ],
   "source": [
    "gao_array.shape"
   ]
  },
  {
   "cell_type": "markdown",
   "id": "b69d0742",
   "metadata": {},
   "source": [
    "### 最大值最小值"
   ]
  },
  {
   "cell_type": "code",
   "execution_count": 9,
   "id": "c33de22d",
   "metadata": {},
   "outputs": [
    {
     "data": {
      "text/plain": [
       "1"
      ]
     },
     "execution_count": 9,
     "metadata": {},
     "output_type": "execute_result"
    }
   ],
   "source": [
    "np.min(gao_array)"
   ]
  },
  {
   "cell_type": "code",
   "execution_count": 10,
   "id": "b05d6b93",
   "metadata": {},
   "outputs": [
    {
     "data": {
      "text/plain": [
       "array([1, 2, 3])"
      ]
     },
     "execution_count": 10,
     "metadata": {},
     "output_type": "execute_result"
    }
   ],
   "source": [
    "np.min(gao_array, axis=0)"
   ]
  },
  {
   "cell_type": "code",
   "execution_count": 11,
   "id": "0f8f05e4",
   "metadata": {
    "scrolled": true
   },
   "outputs": [
    {
     "data": {
      "text/plain": [
       "array([1, 4])"
      ]
     },
     "execution_count": 11,
     "metadata": {},
     "output_type": "execute_result"
    }
   ],
   "source": [
    "np.min(gao_array, axis=1)"
   ]
  },
  {
   "cell_type": "code",
   "execution_count": 12,
   "id": "02672985",
   "metadata": {},
   "outputs": [
    {
     "data": {
      "text/plain": [
       "6"
      ]
     },
     "execution_count": 12,
     "metadata": {},
     "output_type": "execute_result"
    }
   ],
   "source": [
    "np.max(gao_array)"
   ]
  },
  {
   "cell_type": "markdown",
   "id": "52aeaee3",
   "metadata": {},
   "source": [
    "#### 最大值最小值的索引"
   ]
  },
  {
   "cell_type": "code",
   "execution_count": 13,
   "id": "98f0170e",
   "metadata": {},
   "outputs": [
    {
     "data": {
      "text/plain": [
       "5"
      ]
     },
     "execution_count": 13,
     "metadata": {},
     "output_type": "execute_result"
    }
   ],
   "source": [
    "np.argmax(gao_array)"
   ]
  },
  {
   "cell_type": "code",
   "execution_count": 14,
   "id": "8c0bb473",
   "metadata": {},
   "outputs": [
    {
     "data": {
      "text/plain": [
       "array([2, 2])"
      ]
     },
     "execution_count": 14,
     "metadata": {},
     "output_type": "execute_result"
    }
   ],
   "source": [
    "np.argmax(gao_array, axis=1)"
   ]
  },
  {
   "cell_type": "code",
   "execution_count": 15,
   "id": "5ee0a786",
   "metadata": {},
   "outputs": [
    {
     "data": {
      "text/plain": [
       "array([1, 1, 1])"
      ]
     },
     "execution_count": 15,
     "metadata": {},
     "output_type": "execute_result"
    }
   ],
   "source": [
    "np.argmax(gao_array, axis=0)"
   ]
  },
  {
   "cell_type": "markdown",
   "id": "2b598f35",
   "metadata": {},
   "source": [
    "### 方差\n",
    "- 方差是观测值与其平均值偏差的平方的平均值\n",
    "- 方差给出了数据的总体分散程度：方差越大，数据的分散程度越高。"
   ]
  },
  {
   "cell_type": "code",
   "execution_count": 19,
   "id": "359aa54a",
   "metadata": {},
   "outputs": [
    {
     "data": {
      "text/plain": [
       "array([2.25, 2.25, 2.25])"
      ]
     },
     "execution_count": 19,
     "metadata": {},
     "output_type": "execute_result"
    }
   ],
   "source": [
    "gao_array.var(axis=0)"
   ]
  },
  {
   "cell_type": "markdown",
   "id": "8f48e537",
   "metadata": {},
   "source": [
    "### 标准差\n",
    "- 标准差以与原始数据相同的单位表示，因此更容易直观地理解。标准差越大，表明数据点与均值的偏差越大，数据的一致性越低。"
   ]
  },
  {
   "cell_type": "code",
   "execution_count": 16,
   "id": "ec963413",
   "metadata": {},
   "outputs": [
    {
     "data": {
      "text/plain": [
       "1.707825127659933"
      ]
     },
     "execution_count": 16,
     "metadata": {},
     "output_type": "execute_result"
    }
   ],
   "source": [
    "np.std(gao_array)"
   ]
  },
  {
   "cell_type": "code",
   "execution_count": 17,
   "id": "639d9d8b",
   "metadata": {},
   "outputs": [
    {
     "data": {
      "text/plain": [
       "array([1.5, 1.5, 1.5])"
      ]
     },
     "execution_count": 17,
     "metadata": {},
     "output_type": "execute_result"
    }
   ],
   "source": [
    "np.std(gao_array,axis=0)"
   ]
  },
  {
   "cell_type": "code",
   "execution_count": 22,
   "id": "236aa085",
   "metadata": {},
   "outputs": [
    {
     "data": {
      "text/plain": [
       "array([0., 0.])"
      ]
     },
     "execution_count": 22,
     "metadata": {},
     "output_type": "execute_result"
    }
   ],
   "source": [
    "arr2=np.array([[1,1,1], [2,2,2]])\n",
    "arr2.std(axis=1)"
   ]
  },
  {
   "cell_type": "markdown",
   "id": "726b07d8",
   "metadata": {},
   "source": [
    "### 切片函数（补位不满足条件的数据）\n",
    "- clip(min,max)"
   ]
  },
  {
   "cell_type": "code",
   "execution_count": 23,
   "id": "79d77032",
   "metadata": {},
   "outputs": [
    {
     "data": {
      "text/plain": [
       "array([[2, 2, 2],\n",
       "       [2, 2, 2]])"
      ]
     },
     "execution_count": 23,
     "metadata": {},
     "output_type": "execute_result"
    }
   ],
   "source": [
    "arr2.clip(2)"
   ]
  },
  {
   "cell_type": "code",
   "execution_count": 26,
   "id": "64817728",
   "metadata": {},
   "outputs": [
    {
     "data": {
      "text/plain": [
       "array([[3, 3, 3],\n",
       "       [4, 5, 5]])"
      ]
     },
     "execution_count": 26,
     "metadata": {},
     "output_type": "execute_result"
    }
   ],
   "source": [
    "gao_array.clip(3, 5)"
   ]
  },
  {
   "cell_type": "markdown",
   "id": "eff6c96b",
   "metadata": {},
   "source": [
    "### 四舍五入"
   ]
  },
  {
   "cell_type": "code",
   "execution_count": 29,
   "id": "378416ed",
   "metadata": {},
   "outputs": [
    {
     "data": {
      "text/plain": [
       "array([1., 4., 6.])"
      ]
     },
     "execution_count": 29,
     "metadata": {},
     "output_type": "execute_result"
    }
   ],
   "source": [
    "arr3 = np.array([1.2,3.56,6.41])\n",
    "arr3.round()"
   ]
  },
  {
   "cell_type": "code",
   "execution_count": 30,
   "id": "64a281db",
   "metadata": {
    "scrolled": true
   },
   "outputs": [
    {
     "data": {
      "text/plain": [
       "array([1.2, 3.6, 6.4])"
      ]
     },
     "execution_count": 30,
     "metadata": {},
     "output_type": "execute_result"
    }
   ],
   "source": [
    "arr3.round(decimals=1)"
   ]
  }
 ],
 "metadata": {
  "kernelspec": {
   "display_name": "Python 3 (ipykernel)",
   "language": "python",
   "name": "python3"
  },
  "language_info": {
   "codemirror_mode": {
    "name": "ipython",
    "version": 3
   },
   "file_extension": ".py",
   "mimetype": "text/x-python",
   "name": "python",
   "nbconvert_exporter": "python",
   "pygments_lexer": "ipython3",
   "version": "3.11.5"
  }
 },
 "nbformat": 4,
 "nbformat_minor": 5
}

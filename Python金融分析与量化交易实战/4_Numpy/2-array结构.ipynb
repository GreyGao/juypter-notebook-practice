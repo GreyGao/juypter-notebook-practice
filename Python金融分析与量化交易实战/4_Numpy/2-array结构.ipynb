{
 "cells": [
  {
   "cell_type": "code",
   "execution_count": 1,
   "id": "5286c9fb",
   "metadata": {},
   "outputs": [],
   "source": [
    "import numpy as np"
   ]
  },
  {
   "cell_type": "markdown",
   "id": "5a835e99",
   "metadata": {},
   "source": [
    "#### 对于ndarray结构来说，里面所有的元素必须是同一类型的 如果不是的话，会自动的向下进行转换"
   ]
  },
  {
   "cell_type": "code",
   "execution_count": 39,
   "id": "02f8a3e6",
   "metadata": {},
   "outputs": [
    {
     "data": {
      "text/plain": [
       "array([1. , 2. , 3. , 4. , 5. , 6.1])"
      ]
     },
     "execution_count": 39,
     "metadata": {},
     "output_type": "execute_result"
    }
   ],
   "source": [
    "gao_list = [1,2,3,4,5,6.1]\n",
    "gao_array = np.array(gao_list)\n",
    "gao_array"
   ]
  },
  {
   "cell_type": "markdown",
   "id": "10658d94",
   "metadata": {},
   "source": [
    "### 基本属性及操作"
   ]
  },
  {
   "cell_type": "code",
   "execution_count": 6,
   "id": "77203188",
   "metadata": {},
   "outputs": [
    {
     "data": {
      "text/plain": [
       "numpy.ndarray"
      ]
     },
     "execution_count": 6,
     "metadata": {},
     "output_type": "execute_result"
    }
   ],
   "source": [
    "type(gao_array)"
   ]
  },
  {
   "cell_type": "code",
   "execution_count": 8,
   "id": "78ee3682",
   "metadata": {},
   "outputs": [
    {
     "data": {
      "text/plain": [
       "dtype('float64')"
      ]
     },
     "execution_count": 8,
     "metadata": {},
     "output_type": "execute_result"
    }
   ],
   "source": [
    "gao_array.dtype"
   ]
  },
  {
   "cell_type": "code",
   "execution_count": 9,
   "id": "7f78ac4f",
   "metadata": {},
   "outputs": [
    {
     "data": {
      "text/plain": [
       "8"
      ]
     },
     "execution_count": 9,
     "metadata": {},
     "output_type": "execute_result"
    }
   ],
   "source": [
    "gao_array.itemsize"
   ]
  },
  {
   "cell_type": "code",
   "execution_count": 11,
   "id": "12ab80df",
   "metadata": {},
   "outputs": [
    {
     "data": {
      "text/plain": [
       "6"
      ]
     },
     "execution_count": 11,
     "metadata": {},
     "output_type": "execute_result"
    }
   ],
   "source": [
    "gao_array.size"
   ]
  },
  {
   "cell_type": "code",
   "execution_count": 12,
   "id": "8e35b6ce",
   "metadata": {},
   "outputs": [
    {
     "data": {
      "text/plain": [
       "(6,)"
      ]
     },
     "execution_count": 12,
     "metadata": {},
     "output_type": "execute_result"
    }
   ],
   "source": [
    "gao_array.shape"
   ]
  },
  {
   "cell_type": "code",
   "execution_count": 38,
   "id": "d7911d05",
   "metadata": {},
   "outputs": [
    {
     "data": {
      "text/plain": [
       "array([[0, 0, 0],\n",
       "       [0, 0, 0],\n",
       "       [0, 0, 0]])"
      ]
     },
     "execution_count": 38,
     "metadata": {},
     "output_type": "execute_result"
    }
   ],
   "source": [
    "gao_array.fill(0)\n",
    "gao_array"
   ]
  },
  {
   "cell_type": "markdown",
   "id": "130ef737",
   "metadata": {},
   "source": [
    "#### arange(x,y,z)\n",
    "- 为了创建数字组成的数组，NumPy提供了一个类似于range的函数，该函数返回数组而不是列表\n",
    "- arange(x,y,z) 从x到y,每隔z个索引创建一个"
   ]
  },
  {
   "cell_type": "code",
   "execution_count": 40,
   "id": "eab7e3bf",
   "metadata": {},
   "outputs": [
    {
     "data": {
      "text/plain": [
       "array([ 0,  5, 10, 15, 20, 25, 30, 35, 40, 45, 50, 55, 60, 65, 70, 75, 80,\n",
       "       85, 90, 95])"
      ]
     },
     "execution_count": 40,
     "metadata": {},
     "output_type": "execute_result"
    }
   ],
   "source": [
    "gao_array = np.arange(0, 100, 5)\n",
    "gao_array"
   ]
  },
  {
   "cell_type": "markdown",
   "id": "76a462b9",
   "metadata": {},
   "source": [
    "### 索引与切片"
   ]
  },
  {
   "cell_type": "code",
   "execution_count": 17,
   "id": "455609f3",
   "metadata": {},
   "outputs": [
    {
     "data": {
      "text/plain": [
       "array([1, 2, 3, 4, 5, 6])"
      ]
     },
     "execution_count": 17,
     "metadata": {},
     "output_type": "execute_result"
    }
   ],
   "source": [
    "gao_list = [1,2,3,4,5,6]\n",
    "gao_array = np.array(gao_list)\n",
    "gao_array"
   ]
  },
  {
   "cell_type": "code",
   "execution_count": 18,
   "id": "ef266ad8",
   "metadata": {},
   "outputs": [
    {
     "data": {
      "text/plain": [
       "2"
      ]
     },
     "execution_count": 18,
     "metadata": {},
     "output_type": "execute_result"
    }
   ],
   "source": [
    "gao_array[1]"
   ]
  },
  {
   "cell_type": "code",
   "execution_count": 19,
   "id": "a0a68502",
   "metadata": {},
   "outputs": [
    {
     "data": {
      "text/plain": [
       "array([2, 3])"
      ]
     },
     "execution_count": 19,
     "metadata": {},
     "output_type": "execute_result"
    }
   ],
   "source": [
    "gao_array[1:3]"
   ]
  },
  {
   "cell_type": "code",
   "execution_count": 20,
   "id": "aabbc339",
   "metadata": {},
   "outputs": [
    {
     "data": {
      "text/plain": [
       "array([1, 2, 3, 4, 5])"
      ]
     },
     "execution_count": 20,
     "metadata": {},
     "output_type": "execute_result"
    }
   ],
   "source": [
    "gao_array[:-1]"
   ]
  },
  {
   "cell_type": "code",
   "execution_count": 21,
   "id": "a00bba30",
   "metadata": {},
   "outputs": [
    {
     "data": {
      "text/plain": [
       "array([5, 6])"
      ]
     },
     "execution_count": 21,
     "metadata": {},
     "output_type": "execute_result"
    }
   ],
   "source": [
    "gao_array[-2:]"
   ]
  },
  {
   "cell_type": "markdown",
   "id": "cc837806",
   "metadata": {},
   "source": [
    "### 矩阵格式（多维）"
   ]
  },
  {
   "cell_type": "code",
   "execution_count": 22,
   "id": "cdd27fa5",
   "metadata": {},
   "outputs": [
    {
     "data": {
      "text/plain": [
       "array([[1, 2, 3],\n",
       "       [4, 5, 6],\n",
       "       [7, 8, 9]])"
      ]
     },
     "execution_count": 22,
     "metadata": {},
     "output_type": "execute_result"
    }
   ],
   "source": [
    "gao_array = np.array([[1,2,3],\n",
    "                      [4,5,6],\n",
    "                      [7,8,9]])\n",
    "gao_array"
   ]
  },
  {
   "cell_type": "code",
   "execution_count": 23,
   "id": "e5b92afa",
   "metadata": {},
   "outputs": [
    {
     "data": {
      "text/plain": [
       "2"
      ]
     },
     "execution_count": 23,
     "metadata": {},
     "output_type": "execute_result"
    }
   ],
   "source": [
    "gao_array.ndim"
   ]
  },
  {
   "cell_type": "code",
   "execution_count": 25,
   "id": "c0eb4605",
   "metadata": {},
   "outputs": [
    {
     "data": {
      "text/plain": [
       "(3, 3)"
      ]
     },
     "execution_count": 25,
     "metadata": {},
     "output_type": "execute_result"
    }
   ],
   "source": [
    "gao_array.shape"
   ]
  },
  {
   "cell_type": "code",
   "execution_count": 26,
   "id": "cb90ec1d",
   "metadata": {},
   "outputs": [
    {
     "data": {
      "text/plain": [
       "9"
      ]
     },
     "execution_count": 26,
     "metadata": {},
     "output_type": "execute_result"
    }
   ],
   "source": [
    "gao_array.size"
   ]
  },
  {
   "cell_type": "code",
   "execution_count": 27,
   "id": "c7cc6647",
   "metadata": {},
   "outputs": [
    {
     "data": {
      "text/plain": [
       "3"
      ]
     },
     "execution_count": 27,
     "metadata": {},
     "output_type": "execute_result"
    }
   ],
   "source": [
    "gao_array[0,2]"
   ]
  },
  {
   "cell_type": "code",
   "execution_count": 28,
   "id": "c7fb7437",
   "metadata": {},
   "outputs": [
    {
     "data": {
      "text/plain": [
       "array([4, 5, 6])"
      ]
     },
     "execution_count": 28,
     "metadata": {},
     "output_type": "execute_result"
    }
   ],
   "source": [
    "gao_array[1]"
   ]
  },
  {
   "cell_type": "code",
   "execution_count": 29,
   "id": "43a5fe5c",
   "metadata": {},
   "outputs": [
    {
     "data": {
      "text/plain": [
       "array([2, 5, 8])"
      ]
     },
     "execution_count": 29,
     "metadata": {},
     "output_type": "execute_result"
    }
   ],
   "source": [
    "gao_array[:, 1]"
   ]
  },
  {
   "cell_type": "code",
   "execution_count": 30,
   "id": "31d15f38",
   "metadata": {},
   "outputs": [
    {
     "data": {
      "text/plain": [
       "array([1, 2])"
      ]
     },
     "execution_count": 30,
     "metadata": {},
     "output_type": "execute_result"
    }
   ],
   "source": [
    "gao_array[0,0:2]"
   ]
  },
  {
   "cell_type": "markdown",
   "id": "4f55af80",
   "metadata": {},
   "source": [
    "### 赋值与拷贝\n",
    "#### 浅拷贝"
   ]
  },
  {
   "cell_type": "code",
   "execution_count": 31,
   "id": "84839af0",
   "metadata": {},
   "outputs": [
    {
     "data": {
      "text/plain": [
       "True"
      ]
     },
     "execution_count": 31,
     "metadata": {},
     "output_type": "execute_result"
    }
   ],
   "source": [
    "gao_array2 = gao_array\n",
    "id(gao_array2) == id(gao_array)"
   ]
  },
  {
   "cell_type": "code",
   "execution_count": 32,
   "id": "2a44fe32",
   "metadata": {},
   "outputs": [
    {
     "data": {
      "text/plain": [
       "array([[1, 2, 3],\n",
       "       [4, 5, 6],\n",
       "       [7, 8, 9]])"
      ]
     },
     "execution_count": 32,
     "metadata": {},
     "output_type": "execute_result"
    }
   ],
   "source": [
    "gao_array"
   ]
  },
  {
   "cell_type": "code",
   "execution_count": 33,
   "id": "4513d56b",
   "metadata": {},
   "outputs": [
    {
     "data": {
      "text/plain": [
       "array([[  1,   2,   3],\n",
       "       [  4, 100,   6],\n",
       "       [  7,   8,   9]])"
      ]
     },
     "execution_count": 33,
     "metadata": {},
     "output_type": "execute_result"
    }
   ],
   "source": [
    "gao_array2[1,1] = 100\n",
    "gao_array"
   ]
  },
  {
   "cell_type": "markdown",
   "id": "287880bb",
   "metadata": {},
   "source": [
    "#### 深拷贝"
   ]
  },
  {
   "cell_type": "code",
   "execution_count": 35,
   "id": "414b457d",
   "metadata": {},
   "outputs": [
    {
     "data": {
      "text/plain": [
       "array([[1, 2, 3],\n",
       "       [4, 5, 6],\n",
       "       [7, 8, 9]])"
      ]
     },
     "execution_count": 35,
     "metadata": {},
     "output_type": "execute_result"
    }
   ],
   "source": [
    "gao_array[1,1] = 5\n",
    "gao_array2 = gao_array.copy()\n",
    "gao_array2"
   ]
  },
  {
   "cell_type": "code",
   "execution_count": 36,
   "id": "78593dd3",
   "metadata": {},
   "outputs": [
    {
     "data": {
      "text/plain": [
       "array([[1, 2, 3],\n",
       "       [4, 5, 6],\n",
       "       [7, 8, 9]])"
      ]
     },
     "execution_count": 36,
     "metadata": {},
     "output_type": "execute_result"
    }
   ],
   "source": [
    "gao_array2[1,1] = 100\n",
    "gao_array"
   ]
  },
  {
   "cell_type": "code",
   "execution_count": 37,
   "id": "ce29eeb7",
   "metadata": {},
   "outputs": [
    {
     "data": {
      "text/plain": [
       "array([[  1,   2,   3],\n",
       "       [  4, 100,   6],\n",
       "       [  7,   8,   9]])"
      ]
     },
     "execution_count": 37,
     "metadata": {},
     "output_type": "execute_result"
    }
   ],
   "source": [
    "gao_array2"
   ]
  },
  {
   "cell_type": "markdown",
   "id": "9a23b42f",
   "metadata": {},
   "source": [
    "### 数据索引的方法\n",
    "#### 布尔类型索引"
   ]
  },
  {
   "cell_type": "code",
   "execution_count": 47,
   "id": "201bbaaa",
   "metadata": {},
   "outputs": [
    {
     "data": {
      "text/plain": [
       "array([False, False, False, False, False, False,  True,  True,  True,\n",
       "        True])"
      ]
     },
     "execution_count": 47,
     "metadata": {},
     "output_type": "execute_result"
    }
   ],
   "source": [
    "bool_f = np.array([0,0,0,0,0,0,1,1,1,1], dtype=bool)\n",
    "bool_f"
   ]
  },
  {
   "cell_type": "code",
   "execution_count": 43,
   "id": "c16b0e68",
   "metadata": {},
   "outputs": [
    {
     "data": {
      "text/plain": [
       "array([ 0, 10, 20, 30, 40, 50, 60, 70, 80, 90])"
      ]
     },
     "execution_count": 43,
     "metadata": {},
     "output_type": "execute_result"
    }
   ],
   "source": [
    "data = np.arange(0, 100, 10)\n",
    "data"
   ]
  },
  {
   "cell_type": "code",
   "execution_count": 48,
   "id": "e0dcd566",
   "metadata": {
    "scrolled": true
   },
   "outputs": [
    {
     "data": {
      "text/plain": [
       "array([60, 70, 80, 90])"
      ]
     },
     "execution_count": 48,
     "metadata": {},
     "output_type": "execute_result"
    }
   ],
   "source": [
    "data[bool_f]"
   ]
  },
  {
   "cell_type": "code",
   "execution_count": 49,
   "id": "f6712891",
   "metadata": {},
   "outputs": [
    {
     "data": {
      "text/plain": [
       "array([0.55893692, 0.35263046, 0.97676241, 0.56955574, 0.96042838,\n",
       "       0.56750665, 0.43918526, 0.98771053, 0.03040825, 0.28980286])"
      ]
     },
     "execution_count": 49,
     "metadata": {},
     "output_type": "execute_result"
    }
   ],
   "source": [
    "random_arr = np.random.rand(10)\n",
    "random_arr"
   ]
  },
  {
   "cell_type": "code",
   "execution_count": 50,
   "id": "9ad83b01",
   "metadata": {},
   "outputs": [
    {
     "data": {
      "text/plain": [
       "array([ True, False,  True,  True,  True,  True, False,  True, False,\n",
       "       False])"
      ]
     },
     "execution_count": 50,
     "metadata": {},
     "output_type": "execute_result"
    }
   ],
   "source": [
    "bool_f = random_arr > 0.5\n",
    "bool_f"
   ]
  },
  {
   "cell_type": "code",
   "execution_count": 53,
   "id": "5eb51641",
   "metadata": {},
   "outputs": [
    {
     "data": {
      "text/plain": [
       "array([0.55893692, 0.97676241, 0.56955574, 0.96042838, 0.56750665,\n",
       "       0.98771053])"
      ]
     },
     "execution_count": 53,
     "metadata": {},
     "output_type": "execute_result"
    }
   ],
   "source": [
    "random_arr[bool_f]"
   ]
  },
  {
   "cell_type": "code",
   "execution_count": 58,
   "id": "86fa28ae",
   "metadata": {
    "scrolled": true
   },
   "outputs": [
    {
     "data": {
      "text/plain": [
       "(array([4, 5, 6, 7, 8, 9]),)"
      ]
     },
     "execution_count": 58,
     "metadata": {},
     "output_type": "execute_result"
    }
   ],
   "source": [
    "np.where(data > 30)"
   ]
  },
  {
   "cell_type": "markdown",
   "id": "79b3fb72",
   "metadata": {},
   "source": [
    "### 类型及类型转换"
   ]
  },
  {
   "cell_type": "code",
   "execution_count": 70,
   "id": "bc9b36b7",
   "metadata": {},
   "outputs": [
    {
     "name": "stdout",
     "output_type": "stream",
     "text": [
      "float64\n",
      "[1.  2.  3.5]\n"
     ]
    }
   ],
   "source": [
    "arr3 = np.array([1, 2, 3.5], dtype=float)\n",
    "print(arr3.dtype)\n",
    "print(arr3)"
   ]
  },
  {
   "cell_type": "code",
   "execution_count": 74,
   "id": "6951e6f7",
   "metadata": {},
   "outputs": [
    {
     "data": {
      "text/plain": [
       "array([1. , 2. , 3.5], dtype=float32)"
      ]
     },
     "execution_count": 74,
     "metadata": {},
     "output_type": "execute_result"
    }
   ],
   "source": [
    "arr3.astype(np.float32)"
   ]
  },
  {
   "cell_type": "code",
   "execution_count": 75,
   "id": "5aa773c6",
   "metadata": {},
   "outputs": [
    {
     "data": {
      "text/plain": [
       "array([1. , 2. , 3.5])"
      ]
     },
     "execution_count": 75,
     "metadata": {},
     "output_type": "execute_result"
    }
   ],
   "source": [
    "arr3"
   ]
  }
 ],
 "metadata": {
  "kernelspec": {
   "display_name": "Python 3 (ipykernel)",
   "language": "python",
   "name": "python3"
  },
  "language_info": {
   "codemirror_mode": {
    "name": "ipython",
    "version": 3
   },
   "file_extension": ".py",
   "mimetype": "text/x-python",
   "name": "python",
   "nbconvert_exporter": "python",
   "pygments_lexer": "ipython3",
   "version": "3.11.5"
  }
 },
 "nbformat": 4,
 "nbformat_minor": 5
}

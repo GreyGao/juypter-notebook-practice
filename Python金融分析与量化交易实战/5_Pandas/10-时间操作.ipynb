{
 "cells": [
  {
   "cell_type": "code",
   "execution_count": 1,
   "id": "bfe27903",
   "metadata": {},
   "outputs": [],
   "source": [
    "import datetime"
   ]
  },
  {
   "cell_type": "code",
   "execution_count": 2,
   "id": "35e6aa6d",
   "metadata": {},
   "outputs": [
    {
     "data": {
      "text/plain": [
       "datetime.datetime(2017, 11, 24, 10, 30)"
      ]
     },
     "execution_count": 2,
     "metadata": {},
     "output_type": "execute_result"
    }
   ],
   "source": [
    "dt = datetime.datetime(year=2017,month=11,day=24,hour=10,minute=30)\n",
    "dt"
   ]
  },
  {
   "cell_type": "code",
   "execution_count": 3,
   "id": "2e46dcc5",
   "metadata": {},
   "outputs": [
    {
     "name": "stdout",
     "output_type": "stream",
     "text": [
      "2017-11-24 10:30:00\n"
     ]
    }
   ],
   "source": [
    "print (dt)"
   ]
  },
  {
   "cell_type": "code",
   "execution_count": 4,
   "id": "76e947dd",
   "metadata": {},
   "outputs": [
    {
     "data": {
      "text/plain": [
       "Timestamp('2017-11-24 00:00:00')"
      ]
     },
     "execution_count": 4,
     "metadata": {},
     "output_type": "execute_result"
    }
   ],
   "source": [
    "import pandas as pd\n",
    "ts = pd.Timestamp('2017-11-24')\n",
    "ts"
   ]
  },
  {
   "cell_type": "code",
   "execution_count": 5,
   "id": "d8ef4162",
   "metadata": {},
   "outputs": [
    {
     "data": {
      "text/plain": [
       "11"
      ]
     },
     "execution_count": 5,
     "metadata": {},
     "output_type": "execute_result"
    }
   ],
   "source": [
    "ts.month"
   ]
  },
  {
   "cell_type": "code",
   "execution_count": 6,
   "id": "157439ed",
   "metadata": {},
   "outputs": [
    {
     "data": {
      "text/plain": [
       "24"
      ]
     },
     "execution_count": 6,
     "metadata": {},
     "output_type": "execute_result"
    }
   ],
   "source": [
    "ts.day"
   ]
  },
  {
   "cell_type": "code",
   "execution_count": 7,
   "id": "5697ff4c",
   "metadata": {},
   "outputs": [
    {
     "data": {
      "text/plain": [
       "Timestamp('2017-11-29 00:00:00')"
      ]
     },
     "execution_count": 7,
     "metadata": {},
     "output_type": "execute_result"
    }
   ],
   "source": [
    "ts + pd.Timedelta('5 days')"
   ]
  },
  {
   "cell_type": "code",
   "execution_count": 8,
   "id": "e93d35d5",
   "metadata": {},
   "outputs": [
    {
     "data": {
      "text/plain": [
       "Timestamp('2017-11-24 00:00:00')"
      ]
     },
     "execution_count": 8,
     "metadata": {},
     "output_type": "execute_result"
    }
   ],
   "source": [
    "pd.to_datetime('2017-11-24')"
   ]
  },
  {
   "cell_type": "code",
   "execution_count": 9,
   "id": "4bb64005",
   "metadata": {},
   "outputs": [
    {
     "name": "stderr",
     "output_type": "stream",
     "text": [
      "/var/folders/8b/_jq932mj0xvf9snzr4htnw6h0000gn/T/ipykernel_18139/2511836769.py:1: UserWarning: Parsing dates in %d/%m/%Y format when dayfirst=False (the default) was specified. Pass `dayfirst=True` or specify a format to silence this warning.\n",
      "  pd.to_datetime('24/11/2017')\n"
     ]
    },
    {
     "data": {
      "text/plain": [
       "Timestamp('2017-11-24 00:00:00')"
      ]
     },
     "execution_count": 9,
     "metadata": {},
     "output_type": "execute_result"
    }
   ],
   "source": [
    "pd.to_datetime('24/11/2017')"
   ]
  },
  {
   "cell_type": "code",
   "execution_count": 10,
   "id": "5333d625",
   "metadata": {},
   "outputs": [
    {
     "data": {
      "text/plain": [
       "0    2017-11-24 00:00:00\n",
       "1    2017-11-25 00:00:00\n",
       "2    2017-11-26 00:00:00\n",
       "dtype: object"
      ]
     },
     "execution_count": 10,
     "metadata": {},
     "output_type": "execute_result"
    }
   ],
   "source": [
    "s = pd.Series(['2017-11-24 00:00:00','2017-11-25 00:00:00','2017-11-26 00:00:00'])\n",
    "s"
   ]
  },
  {
   "cell_type": "code",
   "execution_count": 11,
   "id": "86be77d5",
   "metadata": {},
   "outputs": [
    {
     "data": {
      "text/plain": [
       "0   2017-11-24\n",
       "1   2017-11-25\n",
       "2   2017-11-26\n",
       "dtype: datetime64[ns]"
      ]
     },
     "execution_count": 11,
     "metadata": {},
     "output_type": "execute_result"
    }
   ],
   "source": [
    "ts = pd.to_datetime(s)\n",
    "ts"
   ]
  },
  {
   "cell_type": "code",
   "execution_count": 12,
   "id": "cc48834e",
   "metadata": {},
   "outputs": [
    {
     "data": {
      "text/plain": [
       "0    0\n",
       "1    0\n",
       "2    0\n",
       "dtype: int32"
      ]
     },
     "execution_count": 12,
     "metadata": {},
     "output_type": "execute_result"
    }
   ],
   "source": [
    "ts.dt.hour"
   ]
  },
  {
   "cell_type": "code",
   "execution_count": 13,
   "id": "06498d21",
   "metadata": {},
   "outputs": [
    {
     "data": {
      "text/plain": [
       "0    4\n",
       "1    5\n",
       "2    6\n",
       "dtype: int32"
      ]
     },
     "execution_count": 13,
     "metadata": {},
     "output_type": "execute_result"
    }
   ],
   "source": [
    "ts.dt.weekday"
   ]
  },
  {
   "cell_type": "markdown",
   "id": "f878c428",
   "metadata": {},
   "source": [
    "### 构建时间序列"
   ]
  },
  {
   "cell_type": "code",
   "execution_count": 15,
   "id": "3f8e8215",
   "metadata": {
    "scrolled": true
   },
   "outputs": [
    {
     "data": {
      "text/plain": [
       "0   2023-11-14 00:00:00\n",
       "1   2023-11-14 12:00:00\n",
       "2   2023-11-15 00:00:00\n",
       "3   2023-11-15 12:00:00\n",
       "4   2023-11-16 00:00:00\n",
       "5   2023-11-16 12:00:00\n",
       "6   2023-11-17 00:00:00\n",
       "7   2023-11-17 12:00:00\n",
       "8   2023-11-18 00:00:00\n",
       "9   2023-11-18 12:00:00\n",
       "dtype: datetime64[ns]"
      ]
     },
     "execution_count": 15,
     "metadata": {},
     "output_type": "execute_result"
    }
   ],
   "source": [
    "pd.Series(pd.date_range(start='2023-11-14', periods=10, freq='12H'))"
   ]
  },
  {
   "cell_type": "markdown",
   "id": "2aec5e72",
   "metadata": {},
   "source": [
    "### 格式化数据的时间基本操作"
   ]
  },
  {
   "cell_type": "code",
   "execution_count": 16,
   "id": "cb518a91",
   "metadata": {
    "scrolled": true
   },
   "outputs": [
    {
     "data": {
      "text/html": [
       "<div>\n",
       "<style scoped>\n",
       "    .dataframe tbody tr th:only-of-type {\n",
       "        vertical-align: middle;\n",
       "    }\n",
       "\n",
       "    .dataframe tbody tr th {\n",
       "        vertical-align: top;\n",
       "    }\n",
       "\n",
       "    .dataframe thead th {\n",
       "        text-align: right;\n",
       "    }\n",
       "</style>\n",
       "<table border=\"1\" class=\"dataframe\">\n",
       "  <thead>\n",
       "    <tr style=\"text-align: right;\">\n",
       "      <th></th>\n",
       "      <th>Time</th>\n",
       "      <th>L06_347</th>\n",
       "      <th>LS06_347</th>\n",
       "      <th>LS06_348</th>\n",
       "    </tr>\n",
       "  </thead>\n",
       "  <tbody>\n",
       "    <tr>\n",
       "      <th>0</th>\n",
       "      <td>2009-01-01 00:00:00</td>\n",
       "      <td>0.137417</td>\n",
       "      <td>0.097500</td>\n",
       "      <td>0.016833</td>\n",
       "    </tr>\n",
       "    <tr>\n",
       "      <th>1</th>\n",
       "      <td>2009-01-01 03:00:00</td>\n",
       "      <td>0.131250</td>\n",
       "      <td>0.088833</td>\n",
       "      <td>0.016417</td>\n",
       "    </tr>\n",
       "    <tr>\n",
       "      <th>2</th>\n",
       "      <td>2009-01-01 06:00:00</td>\n",
       "      <td>0.113500</td>\n",
       "      <td>0.091250</td>\n",
       "      <td>0.016750</td>\n",
       "    </tr>\n",
       "    <tr>\n",
       "      <th>3</th>\n",
       "      <td>2009-01-01 09:00:00</td>\n",
       "      <td>0.135750</td>\n",
       "      <td>0.091500</td>\n",
       "      <td>0.016250</td>\n",
       "    </tr>\n",
       "    <tr>\n",
       "      <th>4</th>\n",
       "      <td>2009-01-01 12:00:00</td>\n",
       "      <td>0.140917</td>\n",
       "      <td>0.096167</td>\n",
       "      <td>0.017000</td>\n",
       "    </tr>\n",
       "  </tbody>\n",
       "</table>\n",
       "</div>"
      ],
      "text/plain": [
       "                  Time   L06_347  LS06_347  LS06_348\n",
       "0  2009-01-01 00:00:00  0.137417  0.097500  0.016833\n",
       "1  2009-01-01 03:00:00  0.131250  0.088833  0.016417\n",
       "2  2009-01-01 06:00:00  0.113500  0.091250  0.016750\n",
       "3  2009-01-01 09:00:00  0.135750  0.091500  0.016250\n",
       "4  2009-01-01 12:00:00  0.140917  0.096167  0.017000"
      ]
     },
     "execution_count": 16,
     "metadata": {},
     "output_type": "execute_result"
    }
   ],
   "source": [
    "data = pd.read_csv('./data/flowdata.csv')\n",
    "data.head()"
   ]
  },
  {
   "cell_type": "code",
   "execution_count": 18,
   "id": "f13b2d6a",
   "metadata": {},
   "outputs": [
    {
     "data": {
      "text/html": [
       "<div>\n",
       "<style scoped>\n",
       "    .dataframe tbody tr th:only-of-type {\n",
       "        vertical-align: middle;\n",
       "    }\n",
       "\n",
       "    .dataframe tbody tr th {\n",
       "        vertical-align: top;\n",
       "    }\n",
       "\n",
       "    .dataframe thead th {\n",
       "        text-align: right;\n",
       "    }\n",
       "</style>\n",
       "<table border=\"1\" class=\"dataframe\">\n",
       "  <thead>\n",
       "    <tr style=\"text-align: right;\">\n",
       "      <th></th>\n",
       "      <th>L06_347</th>\n",
       "      <th>LS06_347</th>\n",
       "      <th>LS06_348</th>\n",
       "    </tr>\n",
       "    <tr>\n",
       "      <th>Time</th>\n",
       "      <th></th>\n",
       "      <th></th>\n",
       "      <th></th>\n",
       "    </tr>\n",
       "  </thead>\n",
       "  <tbody>\n",
       "    <tr>\n",
       "      <th>2009-01-01 00:00:00</th>\n",
       "      <td>0.137417</td>\n",
       "      <td>0.097500</td>\n",
       "      <td>0.016833</td>\n",
       "    </tr>\n",
       "    <tr>\n",
       "      <th>2009-01-01 03:00:00</th>\n",
       "      <td>0.131250</td>\n",
       "      <td>0.088833</td>\n",
       "      <td>0.016417</td>\n",
       "    </tr>\n",
       "    <tr>\n",
       "      <th>2009-01-01 06:00:00</th>\n",
       "      <td>0.113500</td>\n",
       "      <td>0.091250</td>\n",
       "      <td>0.016750</td>\n",
       "    </tr>\n",
       "    <tr>\n",
       "      <th>2009-01-01 09:00:00</th>\n",
       "      <td>0.135750</td>\n",
       "      <td>0.091500</td>\n",
       "      <td>0.016250</td>\n",
       "    </tr>\n",
       "    <tr>\n",
       "      <th>2009-01-01 12:00:00</th>\n",
       "      <td>0.140917</td>\n",
       "      <td>0.096167</td>\n",
       "      <td>0.017000</td>\n",
       "    </tr>\n",
       "  </tbody>\n",
       "</table>\n",
       "</div>"
      ],
      "text/plain": [
       "                      L06_347  LS06_347  LS06_348\n",
       "Time                                             \n",
       "2009-01-01 00:00:00  0.137417  0.097500  0.016833\n",
       "2009-01-01 03:00:00  0.131250  0.088833  0.016417\n",
       "2009-01-01 06:00:00  0.113500  0.091250  0.016750\n",
       "2009-01-01 09:00:00  0.135750  0.091500  0.016250\n",
       "2009-01-01 12:00:00  0.140917  0.096167  0.017000"
      ]
     },
     "execution_count": 18,
     "metadata": {},
     "output_type": "execute_result"
    }
   ],
   "source": [
    "data['Time'] = pd.to_datetime(data['Time'])\n",
    "data = data.set_index('Time')\n",
    "data.head()"
   ]
  },
  {
   "cell_type": "code",
   "execution_count": 24,
   "id": "0cbcfc94",
   "metadata": {},
   "outputs": [
    {
     "data": {
      "text/html": [
       "<div>\n",
       "<style scoped>\n",
       "    .dataframe tbody tr th:only-of-type {\n",
       "        vertical-align: middle;\n",
       "    }\n",
       "\n",
       "    .dataframe tbody tr th {\n",
       "        vertical-align: top;\n",
       "    }\n",
       "\n",
       "    .dataframe thead th {\n",
       "        text-align: right;\n",
       "    }\n",
       "</style>\n",
       "<table border=\"1\" class=\"dataframe\">\n",
       "  <thead>\n",
       "    <tr style=\"text-align: right;\">\n",
       "      <th></th>\n",
       "      <th>L06_347</th>\n",
       "      <th>LS06_347</th>\n",
       "      <th>LS06_348</th>\n",
       "    </tr>\n",
       "    <tr>\n",
       "      <th>Time</th>\n",
       "      <th></th>\n",
       "      <th></th>\n",
       "      <th></th>\n",
       "    </tr>\n",
       "  </thead>\n",
       "  <tbody>\n",
       "    <tr>\n",
       "      <th>2009-01-01 00:00:00</th>\n",
       "      <td>0.137417</td>\n",
       "      <td>0.097500</td>\n",
       "      <td>0.016833</td>\n",
       "    </tr>\n",
       "    <tr>\n",
       "      <th>2009-01-01 03:00:00</th>\n",
       "      <td>0.131250</td>\n",
       "      <td>0.088833</td>\n",
       "      <td>0.016417</td>\n",
       "    </tr>\n",
       "    <tr>\n",
       "      <th>2009-01-01 06:00:00</th>\n",
       "      <td>0.113500</td>\n",
       "      <td>0.091250</td>\n",
       "      <td>0.016750</td>\n",
       "    </tr>\n",
       "    <tr>\n",
       "      <th>2009-01-01 09:00:00</th>\n",
       "      <td>0.135750</td>\n",
       "      <td>0.091500</td>\n",
       "      <td>0.016250</td>\n",
       "    </tr>\n",
       "    <tr>\n",
       "      <th>2009-01-01 12:00:00</th>\n",
       "      <td>0.140917</td>\n",
       "      <td>0.096167</td>\n",
       "      <td>0.017000</td>\n",
       "    </tr>\n",
       "  </tbody>\n",
       "</table>\n",
       "</div>"
      ],
      "text/plain": [
       "                      L06_347  LS06_347  LS06_348\n",
       "Time                                             \n",
       "2009-01-01 00:00:00  0.137417  0.097500  0.016833\n",
       "2009-01-01 03:00:00  0.131250  0.088833  0.016417\n",
       "2009-01-01 06:00:00  0.113500  0.091250  0.016750\n",
       "2009-01-01 09:00:00  0.135750  0.091500  0.016250\n",
       "2009-01-01 12:00:00  0.140917  0.096167  0.017000"
      ]
     },
     "execution_count": 24,
     "metadata": {},
     "output_type": "execute_result"
    }
   ],
   "source": [
    "data = pd.read_csv('./data/flowdata.csv', index_col=0, parse_dates=True)\n",
    "data.head()"
   ]
  },
  {
   "cell_type": "markdown",
   "id": "fe57a85c",
   "metadata": {},
   "source": [
    "### 根据时间索引取片段"
   ]
  },
  {
   "cell_type": "code",
   "execution_count": 25,
   "id": "67c0cb67",
   "metadata": {},
   "outputs": [
    {
     "data": {
      "text/html": [
       "<div>\n",
       "<style scoped>\n",
       "    .dataframe tbody tr th:only-of-type {\n",
       "        vertical-align: middle;\n",
       "    }\n",
       "\n",
       "    .dataframe tbody tr th {\n",
       "        vertical-align: top;\n",
       "    }\n",
       "\n",
       "    .dataframe thead th {\n",
       "        text-align: right;\n",
       "    }\n",
       "</style>\n",
       "<table border=\"1\" class=\"dataframe\">\n",
       "  <thead>\n",
       "    <tr style=\"text-align: right;\">\n",
       "      <th></th>\n",
       "      <th>L06_347</th>\n",
       "      <th>LS06_347</th>\n",
       "      <th>LS06_348</th>\n",
       "    </tr>\n",
       "    <tr>\n",
       "      <th>Time</th>\n",
       "      <th></th>\n",
       "      <th></th>\n",
       "      <th></th>\n",
       "    </tr>\n",
       "  </thead>\n",
       "  <tbody>\n",
       "    <tr>\n",
       "      <th>2012-01-01 09:00:00</th>\n",
       "      <td>0.330750</td>\n",
       "      <td>0.293583</td>\n",
       "      <td>0.029750</td>\n",
       "    </tr>\n",
       "    <tr>\n",
       "      <th>2012-01-01 12:00:00</th>\n",
       "      <td>0.295000</td>\n",
       "      <td>0.285167</td>\n",
       "      <td>0.031750</td>\n",
       "    </tr>\n",
       "    <tr>\n",
       "      <th>2012-01-01 15:00:00</th>\n",
       "      <td>0.301417</td>\n",
       "      <td>0.287750</td>\n",
       "      <td>0.031417</td>\n",
       "    </tr>\n",
       "    <tr>\n",
       "      <th>2012-01-01 18:00:00</th>\n",
       "      <td>0.322083</td>\n",
       "      <td>0.304167</td>\n",
       "      <td>0.038083</td>\n",
       "    </tr>\n",
       "  </tbody>\n",
       "</table>\n",
       "</div>"
      ],
      "text/plain": [
       "                      L06_347  LS06_347  LS06_348\n",
       "Time                                             \n",
       "2012-01-01 09:00:00  0.330750  0.293583  0.029750\n",
       "2012-01-01 12:00:00  0.295000  0.285167  0.031750\n",
       "2012-01-01 15:00:00  0.301417  0.287750  0.031417\n",
       "2012-01-01 18:00:00  0.322083  0.304167  0.038083"
      ]
     },
     "execution_count": 25,
     "metadata": {},
     "output_type": "execute_result"
    }
   ],
   "source": [
    "data[pd.Timestamp('2012-01-01 09:00'):pd.Timestamp('2012-01-01 19:00')]"
   ]
  },
  {
   "cell_type": "code",
   "execution_count": 26,
   "id": "65714534",
   "metadata": {},
   "outputs": [
    {
     "data": {
      "text/html": [
       "<div>\n",
       "<style scoped>\n",
       "    .dataframe tbody tr th:only-of-type {\n",
       "        vertical-align: middle;\n",
       "    }\n",
       "\n",
       "    .dataframe tbody tr th {\n",
       "        vertical-align: top;\n",
       "    }\n",
       "\n",
       "    .dataframe thead th {\n",
       "        text-align: right;\n",
       "    }\n",
       "</style>\n",
       "<table border=\"1\" class=\"dataframe\">\n",
       "  <thead>\n",
       "    <tr style=\"text-align: right;\">\n",
       "      <th></th>\n",
       "      <th>L06_347</th>\n",
       "      <th>LS06_347</th>\n",
       "      <th>LS06_348</th>\n",
       "    </tr>\n",
       "    <tr>\n",
       "      <th>Time</th>\n",
       "      <th></th>\n",
       "      <th></th>\n",
       "      <th></th>\n",
       "    </tr>\n",
       "  </thead>\n",
       "  <tbody>\n",
       "    <tr>\n",
       "      <th>2012-01-01 09:00:00</th>\n",
       "      <td>0.330750</td>\n",
       "      <td>0.293583</td>\n",
       "      <td>0.029750</td>\n",
       "    </tr>\n",
       "    <tr>\n",
       "      <th>2012-01-01 12:00:00</th>\n",
       "      <td>0.295000</td>\n",
       "      <td>0.285167</td>\n",
       "      <td>0.031750</td>\n",
       "    </tr>\n",
       "    <tr>\n",
       "      <th>2012-01-01 15:00:00</th>\n",
       "      <td>0.301417</td>\n",
       "      <td>0.287750</td>\n",
       "      <td>0.031417</td>\n",
       "    </tr>\n",
       "    <tr>\n",
       "      <th>2012-01-01 18:00:00</th>\n",
       "      <td>0.322083</td>\n",
       "      <td>0.304167</td>\n",
       "      <td>0.038083</td>\n",
       "    </tr>\n",
       "  </tbody>\n",
       "</table>\n",
       "</div>"
      ],
      "text/plain": [
       "                      L06_347  LS06_347  LS06_348\n",
       "Time                                             \n",
       "2012-01-01 09:00:00  0.330750  0.293583  0.029750\n",
       "2012-01-01 12:00:00  0.295000  0.285167  0.031750\n",
       "2012-01-01 15:00:00  0.301417  0.287750  0.031417\n",
       "2012-01-01 18:00:00  0.322083  0.304167  0.038083"
      ]
     },
     "execution_count": 26,
     "metadata": {},
     "output_type": "execute_result"
    }
   ],
   "source": [
    "data[('2012-01-01 09:00'):('2012-01-01 19:00')]"
   ]
  },
  {
   "cell_type": "code",
   "execution_count": 27,
   "id": "b480bb97",
   "metadata": {},
   "outputs": [
    {
     "data": {
      "text/html": [
       "<div>\n",
       "<style scoped>\n",
       "    .dataframe tbody tr th:only-of-type {\n",
       "        vertical-align: middle;\n",
       "    }\n",
       "\n",
       "    .dataframe tbody tr th {\n",
       "        vertical-align: top;\n",
       "    }\n",
       "\n",
       "    .dataframe thead th {\n",
       "        text-align: right;\n",
       "    }\n",
       "</style>\n",
       "<table border=\"1\" class=\"dataframe\">\n",
       "  <thead>\n",
       "    <tr style=\"text-align: right;\">\n",
       "      <th></th>\n",
       "      <th>L06_347</th>\n",
       "      <th>LS06_347</th>\n",
       "      <th>LS06_348</th>\n",
       "    </tr>\n",
       "    <tr>\n",
       "      <th>Time</th>\n",
       "      <th></th>\n",
       "      <th></th>\n",
       "      <th></th>\n",
       "    </tr>\n",
       "  </thead>\n",
       "  <tbody>\n",
       "    <tr>\n",
       "      <th>2013-01-01 12:00:00</th>\n",
       "      <td>1.710000</td>\n",
       "      <td>1.710000</td>\n",
       "      <td>0.129583</td>\n",
       "    </tr>\n",
       "    <tr>\n",
       "      <th>2013-01-01 15:00:00</th>\n",
       "      <td>1.420000</td>\n",
       "      <td>1.420000</td>\n",
       "      <td>0.096333</td>\n",
       "    </tr>\n",
       "    <tr>\n",
       "      <th>2013-01-01 18:00:00</th>\n",
       "      <td>1.178583</td>\n",
       "      <td>1.178583</td>\n",
       "      <td>0.083083</td>\n",
       "    </tr>\n",
       "    <tr>\n",
       "      <th>2013-01-01 21:00:00</th>\n",
       "      <td>0.898250</td>\n",
       "      <td>0.898250</td>\n",
       "      <td>0.077167</td>\n",
       "    </tr>\n",
       "    <tr>\n",
       "      <th>2013-01-02 00:00:00</th>\n",
       "      <td>0.860000</td>\n",
       "      <td>0.860000</td>\n",
       "      <td>0.075000</td>\n",
       "    </tr>\n",
       "  </tbody>\n",
       "</table>\n",
       "</div>"
      ],
      "text/plain": [
       "                      L06_347  LS06_347  LS06_348\n",
       "Time                                             \n",
       "2013-01-01 12:00:00  1.710000  1.710000  0.129583\n",
       "2013-01-01 15:00:00  1.420000  1.420000  0.096333\n",
       "2013-01-01 18:00:00  1.178583  1.178583  0.083083\n",
       "2013-01-01 21:00:00  0.898250  0.898250  0.077167\n",
       "2013-01-02 00:00:00  0.860000  0.860000  0.075000"
      ]
     },
     "execution_count": 27,
     "metadata": {},
     "output_type": "execute_result"
    }
   ],
   "source": [
    "data.tail(5)"
   ]
  },
  {
   "cell_type": "code",
   "execution_count": 33,
   "id": "c01d3486",
   "metadata": {},
   "outputs": [
    {
     "data": {
      "text/html": [
       "<div>\n",
       "<style scoped>\n",
       "    .dataframe tbody tr th:only-of-type {\n",
       "        vertical-align: middle;\n",
       "    }\n",
       "\n",
       "    .dataframe tbody tr th {\n",
       "        vertical-align: top;\n",
       "    }\n",
       "\n",
       "    .dataframe thead th {\n",
       "        text-align: right;\n",
       "    }\n",
       "</style>\n",
       "<table border=\"1\" class=\"dataframe\">\n",
       "  <thead>\n",
       "    <tr style=\"text-align: right;\">\n",
       "      <th></th>\n",
       "      <th>L06_347</th>\n",
       "      <th>LS06_347</th>\n",
       "      <th>LS06_348</th>\n",
       "    </tr>\n",
       "    <tr>\n",
       "      <th>Time</th>\n",
       "      <th></th>\n",
       "      <th></th>\n",
       "      <th></th>\n",
       "    </tr>\n",
       "  </thead>\n",
       "  <tbody>\n",
       "    <tr>\n",
       "      <th>2012-01-01 00:00:00</th>\n",
       "      <td>0.307167</td>\n",
       "      <td>0.273917</td>\n",
       "      <td>0.028000</td>\n",
       "    </tr>\n",
       "    <tr>\n",
       "      <th>2012-01-01 03:00:00</th>\n",
       "      <td>0.302917</td>\n",
       "      <td>0.270833</td>\n",
       "      <td>0.030583</td>\n",
       "    </tr>\n",
       "    <tr>\n",
       "      <th>2012-01-01 06:00:00</th>\n",
       "      <td>0.331500</td>\n",
       "      <td>0.284750</td>\n",
       "      <td>0.030917</td>\n",
       "    </tr>\n",
       "    <tr>\n",
       "      <th>2012-01-01 09:00:00</th>\n",
       "      <td>0.330750</td>\n",
       "      <td>0.293583</td>\n",
       "      <td>0.029750</td>\n",
       "    </tr>\n",
       "    <tr>\n",
       "      <th>2012-01-01 12:00:00</th>\n",
       "      <td>0.295000</td>\n",
       "      <td>0.285167</td>\n",
       "      <td>0.031750</td>\n",
       "    </tr>\n",
       "    <tr>\n",
       "      <th>...</th>\n",
       "      <td>...</td>\n",
       "      <td>...</td>\n",
       "      <td>...</td>\n",
       "    </tr>\n",
       "    <tr>\n",
       "      <th>2012-12-31 09:00:00</th>\n",
       "      <td>0.682750</td>\n",
       "      <td>0.682750</td>\n",
       "      <td>0.066583</td>\n",
       "    </tr>\n",
       "    <tr>\n",
       "      <th>2012-12-31 12:00:00</th>\n",
       "      <td>0.651250</td>\n",
       "      <td>0.651250</td>\n",
       "      <td>0.063833</td>\n",
       "    </tr>\n",
       "    <tr>\n",
       "      <th>2012-12-31 15:00:00</th>\n",
       "      <td>0.629000</td>\n",
       "      <td>0.629000</td>\n",
       "      <td>0.061833</td>\n",
       "    </tr>\n",
       "    <tr>\n",
       "      <th>2012-12-31 18:00:00</th>\n",
       "      <td>0.617333</td>\n",
       "      <td>0.617333</td>\n",
       "      <td>0.060583</td>\n",
       "    </tr>\n",
       "    <tr>\n",
       "      <th>2012-12-31 21:00:00</th>\n",
       "      <td>0.846500</td>\n",
       "      <td>0.846500</td>\n",
       "      <td>0.170167</td>\n",
       "    </tr>\n",
       "  </tbody>\n",
       "</table>\n",
       "<p>2928 rows × 3 columns</p>\n",
       "</div>"
      ],
      "text/plain": [
       "                      L06_347  LS06_347  LS06_348\n",
       "Time                                             \n",
       "2012-01-01 00:00:00  0.307167  0.273917  0.028000\n",
       "2012-01-01 03:00:00  0.302917  0.270833  0.030583\n",
       "2012-01-01 06:00:00  0.331500  0.284750  0.030917\n",
       "2012-01-01 09:00:00  0.330750  0.293583  0.029750\n",
       "2012-01-01 12:00:00  0.295000  0.285167  0.031750\n",
       "...                       ...       ...       ...\n",
       "2012-12-31 09:00:00  0.682750  0.682750  0.066583\n",
       "2012-12-31 12:00:00  0.651250  0.651250  0.063833\n",
       "2012-12-31 15:00:00  0.629000  0.629000  0.061833\n",
       "2012-12-31 18:00:00  0.617333  0.617333  0.060583\n",
       "2012-12-31 21:00:00  0.846500  0.846500  0.170167\n",
       "\n",
       "[2928 rows x 3 columns]"
      ]
     },
     "execution_count": 33,
     "metadata": {},
     "output_type": "execute_result"
    }
   ],
   "source": [
    "data['2012-01':'2012-12']"
   ]
  },
  {
   "cell_type": "code",
   "execution_count": 34,
   "id": "93a79050",
   "metadata": {},
   "outputs": [
    {
     "data": {
      "text/html": [
       "<div>\n",
       "<style scoped>\n",
       "    .dataframe tbody tr th:only-of-type {\n",
       "        vertical-align: middle;\n",
       "    }\n",
       "\n",
       "    .dataframe tbody tr th {\n",
       "        vertical-align: top;\n",
       "    }\n",
       "\n",
       "    .dataframe thead th {\n",
       "        text-align: right;\n",
       "    }\n",
       "</style>\n",
       "<table border=\"1\" class=\"dataframe\">\n",
       "  <thead>\n",
       "    <tr style=\"text-align: right;\">\n",
       "      <th></th>\n",
       "      <th>L06_347</th>\n",
       "      <th>LS06_347</th>\n",
       "      <th>LS06_348</th>\n",
       "    </tr>\n",
       "    <tr>\n",
       "      <th>Time</th>\n",
       "      <th></th>\n",
       "      <th></th>\n",
       "      <th></th>\n",
       "    </tr>\n",
       "  </thead>\n",
       "  <tbody>\n",
       "    <tr>\n",
       "      <th>2009-01-01 00:00:00</th>\n",
       "      <td>0.137417</td>\n",
       "      <td>0.097500</td>\n",
       "      <td>0.016833</td>\n",
       "    </tr>\n",
       "    <tr>\n",
       "      <th>2009-01-01 03:00:00</th>\n",
       "      <td>0.131250</td>\n",
       "      <td>0.088833</td>\n",
       "      <td>0.016417</td>\n",
       "    </tr>\n",
       "    <tr>\n",
       "      <th>2009-01-01 06:00:00</th>\n",
       "      <td>0.113500</td>\n",
       "      <td>0.091250</td>\n",
       "      <td>0.016750</td>\n",
       "    </tr>\n",
       "    <tr>\n",
       "      <th>2009-01-01 09:00:00</th>\n",
       "      <td>0.135750</td>\n",
       "      <td>0.091500</td>\n",
       "      <td>0.016250</td>\n",
       "    </tr>\n",
       "    <tr>\n",
       "      <th>2009-01-01 12:00:00</th>\n",
       "      <td>0.140917</td>\n",
       "      <td>0.096167</td>\n",
       "      <td>0.017000</td>\n",
       "    </tr>\n",
       "    <tr>\n",
       "      <th>...</th>\n",
       "      <td>...</td>\n",
       "      <td>...</td>\n",
       "      <td>...</td>\n",
       "    </tr>\n",
       "    <tr>\n",
       "      <th>2013-01-01 12:00:00</th>\n",
       "      <td>1.710000</td>\n",
       "      <td>1.710000</td>\n",
       "      <td>0.129583</td>\n",
       "    </tr>\n",
       "    <tr>\n",
       "      <th>2013-01-01 15:00:00</th>\n",
       "      <td>1.420000</td>\n",
       "      <td>1.420000</td>\n",
       "      <td>0.096333</td>\n",
       "    </tr>\n",
       "    <tr>\n",
       "      <th>2013-01-01 18:00:00</th>\n",
       "      <td>1.178583</td>\n",
       "      <td>1.178583</td>\n",
       "      <td>0.083083</td>\n",
       "    </tr>\n",
       "    <tr>\n",
       "      <th>2013-01-01 21:00:00</th>\n",
       "      <td>0.898250</td>\n",
       "      <td>0.898250</td>\n",
       "      <td>0.077167</td>\n",
       "    </tr>\n",
       "    <tr>\n",
       "      <th>2013-01-02 00:00:00</th>\n",
       "      <td>0.860000</td>\n",
       "      <td>0.860000</td>\n",
       "      <td>0.075000</td>\n",
       "    </tr>\n",
       "  </tbody>\n",
       "</table>\n",
       "<p>1001 rows × 3 columns</p>\n",
       "</div>"
      ],
      "text/plain": [
       "                      L06_347  LS06_347  LS06_348\n",
       "Time                                             \n",
       "2009-01-01 00:00:00  0.137417  0.097500  0.016833\n",
       "2009-01-01 03:00:00  0.131250  0.088833  0.016417\n",
       "2009-01-01 06:00:00  0.113500  0.091250  0.016750\n",
       "2009-01-01 09:00:00  0.135750  0.091500  0.016250\n",
       "2009-01-01 12:00:00  0.140917  0.096167  0.017000\n",
       "...                       ...       ...       ...\n",
       "2013-01-01 12:00:00  1.710000  1.710000  0.129583\n",
       "2013-01-01 15:00:00  1.420000  1.420000  0.096333\n",
       "2013-01-01 18:00:00  1.178583  1.178583  0.083083\n",
       "2013-01-01 21:00:00  0.898250  0.898250  0.077167\n",
       "2013-01-02 00:00:00  0.860000  0.860000  0.075000\n",
       "\n",
       "[1001 rows x 3 columns]"
      ]
     },
     "execution_count": 34,
     "metadata": {},
     "output_type": "execute_result"
    }
   ],
   "source": [
    "data[data.index.month == 1]"
   ]
  },
  {
   "cell_type": "code",
   "execution_count": 37,
   "id": "1e49baf7",
   "metadata": {},
   "outputs": [
    {
     "data": {
      "text/html": [
       "<div>\n",
       "<style scoped>\n",
       "    .dataframe tbody tr th:only-of-type {\n",
       "        vertical-align: middle;\n",
       "    }\n",
       "\n",
       "    .dataframe tbody tr th {\n",
       "        vertical-align: top;\n",
       "    }\n",
       "\n",
       "    .dataframe thead th {\n",
       "        text-align: right;\n",
       "    }\n",
       "</style>\n",
       "<table border=\"1\" class=\"dataframe\">\n",
       "  <thead>\n",
       "    <tr style=\"text-align: right;\">\n",
       "      <th></th>\n",
       "      <th>L06_347</th>\n",
       "      <th>LS06_347</th>\n",
       "      <th>LS06_348</th>\n",
       "    </tr>\n",
       "    <tr>\n",
       "      <th>Time</th>\n",
       "      <th></th>\n",
       "      <th></th>\n",
       "      <th></th>\n",
       "    </tr>\n",
       "  </thead>\n",
       "  <tbody>\n",
       "    <tr>\n",
       "      <th>2009-01-01 09:00:00</th>\n",
       "      <td>0.135750</td>\n",
       "      <td>0.091500</td>\n",
       "      <td>0.016250</td>\n",
       "    </tr>\n",
       "    <tr>\n",
       "      <th>2009-01-01 12:00:00</th>\n",
       "      <td>0.140917</td>\n",
       "      <td>0.096167</td>\n",
       "      <td>0.017000</td>\n",
       "    </tr>\n",
       "    <tr>\n",
       "      <th>2009-01-02 09:00:00</th>\n",
       "      <td>0.141917</td>\n",
       "      <td>0.097083</td>\n",
       "      <td>0.016417</td>\n",
       "    </tr>\n",
       "    <tr>\n",
       "      <th>2009-01-02 12:00:00</th>\n",
       "      <td>0.147833</td>\n",
       "      <td>0.101917</td>\n",
       "      <td>0.016417</td>\n",
       "    </tr>\n",
       "    <tr>\n",
       "      <th>2009-01-03 09:00:00</th>\n",
       "      <td>0.124583</td>\n",
       "      <td>0.084417</td>\n",
       "      <td>0.015833</td>\n",
       "    </tr>\n",
       "    <tr>\n",
       "      <th>...</th>\n",
       "      <td>...</td>\n",
       "      <td>...</td>\n",
       "      <td>...</td>\n",
       "    </tr>\n",
       "    <tr>\n",
       "      <th>2012-12-30 12:00:00</th>\n",
       "      <td>1.465000</td>\n",
       "      <td>1.465000</td>\n",
       "      <td>0.086833</td>\n",
       "    </tr>\n",
       "    <tr>\n",
       "      <th>2012-12-31 09:00:00</th>\n",
       "      <td>0.682750</td>\n",
       "      <td>0.682750</td>\n",
       "      <td>0.066583</td>\n",
       "    </tr>\n",
       "    <tr>\n",
       "      <th>2012-12-31 12:00:00</th>\n",
       "      <td>0.651250</td>\n",
       "      <td>0.651250</td>\n",
       "      <td>0.063833</td>\n",
       "    </tr>\n",
       "    <tr>\n",
       "      <th>2013-01-01 09:00:00</th>\n",
       "      <td>2.055000</td>\n",
       "      <td>2.055000</td>\n",
       "      <td>0.175667</td>\n",
       "    </tr>\n",
       "    <tr>\n",
       "      <th>2013-01-01 12:00:00</th>\n",
       "      <td>1.710000</td>\n",
       "      <td>1.710000</td>\n",
       "      <td>0.129583</td>\n",
       "    </tr>\n",
       "  </tbody>\n",
       "</table>\n",
       "<p>2924 rows × 3 columns</p>\n",
       "</div>"
      ],
      "text/plain": [
       "                      L06_347  LS06_347  LS06_348\n",
       "Time                                             \n",
       "2009-01-01 09:00:00  0.135750  0.091500  0.016250\n",
       "2009-01-01 12:00:00  0.140917  0.096167  0.017000\n",
       "2009-01-02 09:00:00  0.141917  0.097083  0.016417\n",
       "2009-01-02 12:00:00  0.147833  0.101917  0.016417\n",
       "2009-01-03 09:00:00  0.124583  0.084417  0.015833\n",
       "...                       ...       ...       ...\n",
       "2012-12-30 12:00:00  1.465000  1.465000  0.086833\n",
       "2012-12-31 09:00:00  0.682750  0.682750  0.066583\n",
       "2012-12-31 12:00:00  0.651250  0.651250  0.063833\n",
       "2013-01-01 09:00:00  2.055000  2.055000  0.175667\n",
       "2013-01-01 12:00:00  1.710000  1.710000  0.129583\n",
       "\n",
       "[2924 rows x 3 columns]"
      ]
     },
     "execution_count": 37,
     "metadata": {},
     "output_type": "execute_result"
    }
   ],
   "source": [
    "data[(data.index.hour >= 8) & (data.index.hour <=12)]"
   ]
  },
  {
   "cell_type": "code",
   "execution_count": 36,
   "id": "92a86a04",
   "metadata": {},
   "outputs": [
    {
     "data": {
      "text/html": [
       "<div>\n",
       "<style scoped>\n",
       "    .dataframe tbody tr th:only-of-type {\n",
       "        vertical-align: middle;\n",
       "    }\n",
       "\n",
       "    .dataframe tbody tr th {\n",
       "        vertical-align: top;\n",
       "    }\n",
       "\n",
       "    .dataframe thead th {\n",
       "        text-align: right;\n",
       "    }\n",
       "</style>\n",
       "<table border=\"1\" class=\"dataframe\">\n",
       "  <thead>\n",
       "    <tr style=\"text-align: right;\">\n",
       "      <th></th>\n",
       "      <th>L06_347</th>\n",
       "      <th>LS06_347</th>\n",
       "      <th>LS06_348</th>\n",
       "    </tr>\n",
       "    <tr>\n",
       "      <th>Time</th>\n",
       "      <th></th>\n",
       "      <th></th>\n",
       "      <th></th>\n",
       "    </tr>\n",
       "  </thead>\n",
       "  <tbody>\n",
       "    <tr>\n",
       "      <th>2009-01-01 09:00:00</th>\n",
       "      <td>0.135750</td>\n",
       "      <td>0.091500</td>\n",
       "      <td>0.016250</td>\n",
       "    </tr>\n",
       "    <tr>\n",
       "      <th>2009-01-01 12:00:00</th>\n",
       "      <td>0.140917</td>\n",
       "      <td>0.096167</td>\n",
       "      <td>0.017000</td>\n",
       "    </tr>\n",
       "    <tr>\n",
       "      <th>2009-01-02 09:00:00</th>\n",
       "      <td>0.141917</td>\n",
       "      <td>0.097083</td>\n",
       "      <td>0.016417</td>\n",
       "    </tr>\n",
       "    <tr>\n",
       "      <th>2009-01-02 12:00:00</th>\n",
       "      <td>0.147833</td>\n",
       "      <td>0.101917</td>\n",
       "      <td>0.016417</td>\n",
       "    </tr>\n",
       "    <tr>\n",
       "      <th>2009-01-03 09:00:00</th>\n",
       "      <td>0.124583</td>\n",
       "      <td>0.084417</td>\n",
       "      <td>0.015833</td>\n",
       "    </tr>\n",
       "    <tr>\n",
       "      <th>...</th>\n",
       "      <td>...</td>\n",
       "      <td>...</td>\n",
       "      <td>...</td>\n",
       "    </tr>\n",
       "    <tr>\n",
       "      <th>2012-12-30 12:00:00</th>\n",
       "      <td>1.465000</td>\n",
       "      <td>1.465000</td>\n",
       "      <td>0.086833</td>\n",
       "    </tr>\n",
       "    <tr>\n",
       "      <th>2012-12-31 09:00:00</th>\n",
       "      <td>0.682750</td>\n",
       "      <td>0.682750</td>\n",
       "      <td>0.066583</td>\n",
       "    </tr>\n",
       "    <tr>\n",
       "      <th>2012-12-31 12:00:00</th>\n",
       "      <td>0.651250</td>\n",
       "      <td>0.651250</td>\n",
       "      <td>0.063833</td>\n",
       "    </tr>\n",
       "    <tr>\n",
       "      <th>2013-01-01 09:00:00</th>\n",
       "      <td>2.055000</td>\n",
       "      <td>2.055000</td>\n",
       "      <td>0.175667</td>\n",
       "    </tr>\n",
       "    <tr>\n",
       "      <th>2013-01-01 12:00:00</th>\n",
       "      <td>1.710000</td>\n",
       "      <td>1.710000</td>\n",
       "      <td>0.129583</td>\n",
       "    </tr>\n",
       "  </tbody>\n",
       "</table>\n",
       "<p>2924 rows × 3 columns</p>\n",
       "</div>"
      ],
      "text/plain": [
       "                      L06_347  LS06_347  LS06_348\n",
       "Time                                             \n",
       "2009-01-01 09:00:00  0.135750  0.091500  0.016250\n",
       "2009-01-01 12:00:00  0.140917  0.096167  0.017000\n",
       "2009-01-02 09:00:00  0.141917  0.097083  0.016417\n",
       "2009-01-02 12:00:00  0.147833  0.101917  0.016417\n",
       "2009-01-03 09:00:00  0.124583  0.084417  0.015833\n",
       "...                       ...       ...       ...\n",
       "2012-12-30 12:00:00  1.465000  1.465000  0.086833\n",
       "2012-12-31 09:00:00  0.682750  0.682750  0.066583\n",
       "2012-12-31 12:00:00  0.651250  0.651250  0.063833\n",
       "2013-01-01 09:00:00  2.055000  2.055000  0.175667\n",
       "2013-01-01 12:00:00  1.710000  1.710000  0.129583\n",
       "\n",
       "[2924 rows x 3 columns]"
      ]
     },
     "execution_count": 36,
     "metadata": {},
     "output_type": "execute_result"
    }
   ],
   "source": [
    "data.between_time('08:00','12:00')"
   ]
  },
  {
   "cell_type": "markdown",
   "id": "1077ef1a",
   "metadata": {},
   "source": [
    "### 时间的重采样\n",
    "在 Pandas 中，`resample` 方法是一个非常有用的工具，用于对时间序列数据进行重新采样和频率转换。这个方法特别适用于处理时间序列数据，比如股票价格、气象数据等，它允许你将数据重采样到不同的时间频率上。\n",
    "- `rule`：重采样频率，例如 'D' 代表每天，'M' 代表每月，'H' 代表每小时等。\n",
    "- `on`：指定 DataFrame 中用于定义时间戳的列（如果时间戳不是索引的话）。\n",
    "- `how`：指定重采样时如何聚合数据，例如 'sum'、'mean'、'max' 等。"
   ]
  },
  {
   "cell_type": "code",
   "execution_count": 41,
   "id": "28b7b5e9",
   "metadata": {},
   "outputs": [
    {
     "data": {
      "text/html": [
       "<div>\n",
       "<style scoped>\n",
       "    .dataframe tbody tr th:only-of-type {\n",
       "        vertical-align: middle;\n",
       "    }\n",
       "\n",
       "    .dataframe tbody tr th {\n",
       "        vertical-align: top;\n",
       "    }\n",
       "\n",
       "    .dataframe thead th {\n",
       "        text-align: right;\n",
       "    }\n",
       "</style>\n",
       "<table border=\"1\" class=\"dataframe\">\n",
       "  <thead>\n",
       "    <tr style=\"text-align: right;\">\n",
       "      <th></th>\n",
       "      <th>value</th>\n",
       "    </tr>\n",
       "    <tr>\n",
       "      <th>date</th>\n",
       "      <th></th>\n",
       "    </tr>\n",
       "  </thead>\n",
       "  <tbody>\n",
       "    <tr>\n",
       "      <th>2020-01-01</th>\n",
       "      <td>0.539080</td>\n",
       "    </tr>\n",
       "    <tr>\n",
       "      <th>2020-01-02</th>\n",
       "      <td>0.126181</td>\n",
       "    </tr>\n",
       "    <tr>\n",
       "      <th>2020-01-03</th>\n",
       "      <td>-1.336694</td>\n",
       "    </tr>\n",
       "    <tr>\n",
       "      <th>2020-01-04</th>\n",
       "      <td>0.574811</td>\n",
       "    </tr>\n",
       "    <tr>\n",
       "      <th>2020-01-05</th>\n",
       "      <td>0.014419</td>\n",
       "    </tr>\n",
       "    <tr>\n",
       "      <th>...</th>\n",
       "      <td>...</td>\n",
       "    </tr>\n",
       "    <tr>\n",
       "      <th>2020-04-05</th>\n",
       "      <td>0.399628</td>\n",
       "    </tr>\n",
       "    <tr>\n",
       "      <th>2020-04-06</th>\n",
       "      <td>0.087052</td>\n",
       "    </tr>\n",
       "    <tr>\n",
       "      <th>2020-04-07</th>\n",
       "      <td>0.855043</td>\n",
       "    </tr>\n",
       "    <tr>\n",
       "      <th>2020-04-08</th>\n",
       "      <td>-0.559662</td>\n",
       "    </tr>\n",
       "    <tr>\n",
       "      <th>2020-04-09</th>\n",
       "      <td>-1.106415</td>\n",
       "    </tr>\n",
       "  </tbody>\n",
       "</table>\n",
       "<p>100 rows × 1 columns</p>\n",
       "</div>"
      ],
      "text/plain": [
       "               value\n",
       "date                \n",
       "2020-01-01  0.539080\n",
       "2020-01-02  0.126181\n",
       "2020-01-03 -1.336694\n",
       "2020-01-04  0.574811\n",
       "2020-01-05  0.014419\n",
       "...              ...\n",
       "2020-04-05  0.399628\n",
       "2020-04-06  0.087052\n",
       "2020-04-07  0.855043\n",
       "2020-04-08 -0.559662\n",
       "2020-04-09 -1.106415\n",
       "\n",
       "[100 rows x 1 columns]"
      ]
     },
     "execution_count": 41,
     "metadata": {},
     "output_type": "execute_result"
    }
   ],
   "source": [
    "import pandas as pd\n",
    "import numpy as np\n",
    "\n",
    "# 创建一个示例 DataFrame\n",
    "rng = pd.date_range('2020-01-01', periods=100, freq='D')\n",
    "df = pd.DataFrame({ 'date': rng, 'value': np.random.randn(len(rng)) })\n",
    "df = df.set_index('date')\n",
    "df"
   ]
  },
  {
   "cell_type": "code",
   "execution_count": 46,
   "id": "1d33a8b1",
   "metadata": {},
   "outputs": [
    {
     "data": {
      "text/html": [
       "<div>\n",
       "<style scoped>\n",
       "    .dataframe tbody tr th:only-of-type {\n",
       "        vertical-align: middle;\n",
       "    }\n",
       "\n",
       "    .dataframe tbody tr th {\n",
       "        vertical-align: top;\n",
       "    }\n",
       "\n",
       "    .dataframe thead th {\n",
       "        text-align: right;\n",
       "    }\n",
       "</style>\n",
       "<table border=\"1\" class=\"dataframe\">\n",
       "  <thead>\n",
       "    <tr style=\"text-align: right;\">\n",
       "      <th></th>\n",
       "      <th>value</th>\n",
       "    </tr>\n",
       "    <tr>\n",
       "      <th>date</th>\n",
       "      <th></th>\n",
       "    </tr>\n",
       "  </thead>\n",
       "  <tbody>\n",
       "    <tr>\n",
       "      <th>2020-01-31</th>\n",
       "      <td>0.041147</td>\n",
       "    </tr>\n",
       "    <tr>\n",
       "      <th>2020-02-29</th>\n",
       "      <td>-0.154683</td>\n",
       "    </tr>\n",
       "    <tr>\n",
       "      <th>2020-03-31</th>\n",
       "      <td>0.019440</td>\n",
       "    </tr>\n",
       "    <tr>\n",
       "      <th>2020-04-30</th>\n",
       "      <td>-0.183931</td>\n",
       "    </tr>\n",
       "  </tbody>\n",
       "</table>\n",
       "</div>"
      ],
      "text/plain": [
       "               value\n",
       "date                \n",
       "2020-01-31  0.041147\n",
       "2020-02-29 -0.154683\n",
       "2020-03-31  0.019440\n",
       "2020-04-30 -0.183931"
      ]
     },
     "execution_count": 46,
     "metadata": {},
     "output_type": "execute_result"
    }
   ],
   "source": [
    "# 按照每月的平均值重新采样\n",
    "monthly_resampled_data = df.resample('M').mean()\n",
    "monthly_resampled_data"
   ]
  },
  {
   "cell_type": "code",
   "execution_count": 38,
   "id": "6c7648db",
   "metadata": {},
   "outputs": [
    {
     "data": {
      "text/html": [
       "<div>\n",
       "<style scoped>\n",
       "    .dataframe tbody tr th:only-of-type {\n",
       "        vertical-align: middle;\n",
       "    }\n",
       "\n",
       "    .dataframe tbody tr th {\n",
       "        vertical-align: top;\n",
       "    }\n",
       "\n",
       "    .dataframe thead th {\n",
       "        text-align: right;\n",
       "    }\n",
       "</style>\n",
       "<table border=\"1\" class=\"dataframe\">\n",
       "  <thead>\n",
       "    <tr style=\"text-align: right;\">\n",
       "      <th></th>\n",
       "      <th>L06_347</th>\n",
       "      <th>LS06_347</th>\n",
       "      <th>LS06_348</th>\n",
       "    </tr>\n",
       "    <tr>\n",
       "      <th>Time</th>\n",
       "      <th></th>\n",
       "      <th></th>\n",
       "      <th></th>\n",
       "    </tr>\n",
       "  </thead>\n",
       "  <tbody>\n",
       "    <tr>\n",
       "      <th>2009-01-01 00:00:00</th>\n",
       "      <td>0.137417</td>\n",
       "      <td>0.097500</td>\n",
       "      <td>0.016833</td>\n",
       "    </tr>\n",
       "    <tr>\n",
       "      <th>2009-01-01 03:00:00</th>\n",
       "      <td>0.131250</td>\n",
       "      <td>0.088833</td>\n",
       "      <td>0.016417</td>\n",
       "    </tr>\n",
       "    <tr>\n",
       "      <th>2009-01-01 06:00:00</th>\n",
       "      <td>0.113500</td>\n",
       "      <td>0.091250</td>\n",
       "      <td>0.016750</td>\n",
       "    </tr>\n",
       "    <tr>\n",
       "      <th>2009-01-01 09:00:00</th>\n",
       "      <td>0.135750</td>\n",
       "      <td>0.091500</td>\n",
       "      <td>0.016250</td>\n",
       "    </tr>\n",
       "    <tr>\n",
       "      <th>2009-01-01 12:00:00</th>\n",
       "      <td>0.140917</td>\n",
       "      <td>0.096167</td>\n",
       "      <td>0.017000</td>\n",
       "    </tr>\n",
       "    <tr>\n",
       "      <th>...</th>\n",
       "      <td>...</td>\n",
       "      <td>...</td>\n",
       "      <td>...</td>\n",
       "    </tr>\n",
       "    <tr>\n",
       "      <th>2013-01-01 12:00:00</th>\n",
       "      <td>1.710000</td>\n",
       "      <td>1.710000</td>\n",
       "      <td>0.129583</td>\n",
       "    </tr>\n",
       "    <tr>\n",
       "      <th>2013-01-01 15:00:00</th>\n",
       "      <td>1.420000</td>\n",
       "      <td>1.420000</td>\n",
       "      <td>0.096333</td>\n",
       "    </tr>\n",
       "    <tr>\n",
       "      <th>2013-01-01 18:00:00</th>\n",
       "      <td>1.178583</td>\n",
       "      <td>1.178583</td>\n",
       "      <td>0.083083</td>\n",
       "    </tr>\n",
       "    <tr>\n",
       "      <th>2013-01-01 21:00:00</th>\n",
       "      <td>0.898250</td>\n",
       "      <td>0.898250</td>\n",
       "      <td>0.077167</td>\n",
       "    </tr>\n",
       "    <tr>\n",
       "      <th>2013-01-02 00:00:00</th>\n",
       "      <td>0.860000</td>\n",
       "      <td>0.860000</td>\n",
       "      <td>0.075000</td>\n",
       "    </tr>\n",
       "  </tbody>\n",
       "</table>\n",
       "<p>11697 rows × 3 columns</p>\n",
       "</div>"
      ],
      "text/plain": [
       "                      L06_347  LS06_347  LS06_348\n",
       "Time                                             \n",
       "2009-01-01 00:00:00  0.137417  0.097500  0.016833\n",
       "2009-01-01 03:00:00  0.131250  0.088833  0.016417\n",
       "2009-01-01 06:00:00  0.113500  0.091250  0.016750\n",
       "2009-01-01 09:00:00  0.135750  0.091500  0.016250\n",
       "2009-01-01 12:00:00  0.140917  0.096167  0.017000\n",
       "...                       ...       ...       ...\n",
       "2013-01-01 12:00:00  1.710000  1.710000  0.129583\n",
       "2013-01-01 15:00:00  1.420000  1.420000  0.096333\n",
       "2013-01-01 18:00:00  1.178583  1.178583  0.083083\n",
       "2013-01-01 21:00:00  0.898250  0.898250  0.077167\n",
       "2013-01-02 00:00:00  0.860000  0.860000  0.075000\n",
       "\n",
       "[11697 rows x 3 columns]"
      ]
     },
     "execution_count": 38,
     "metadata": {},
     "output_type": "execute_result"
    }
   ],
   "source": [
    "data"
   ]
  },
  {
   "cell_type": "markdown",
   "id": "86c13506",
   "metadata": {},
   "source": [
    "### 重组"
   ]
  },
  {
   "cell_type": "code",
   "execution_count": 48,
   "id": "f04ec554",
   "metadata": {},
   "outputs": [
    {
     "data": {
      "text/html": [
       "<div>\n",
       "<style scoped>\n",
       "    .dataframe tbody tr th:only-of-type {\n",
       "        vertical-align: middle;\n",
       "    }\n",
       "\n",
       "    .dataframe tbody tr th {\n",
       "        vertical-align: top;\n",
       "    }\n",
       "\n",
       "    .dataframe thead th {\n",
       "        text-align: right;\n",
       "    }\n",
       "</style>\n",
       "<table border=\"1\" class=\"dataframe\">\n",
       "  <thead>\n",
       "    <tr style=\"text-align: right;\">\n",
       "      <th></th>\n",
       "      <th>L06_347</th>\n",
       "      <th>LS06_347</th>\n",
       "      <th>LS06_348</th>\n",
       "    </tr>\n",
       "    <tr>\n",
       "      <th>Time</th>\n",
       "      <th></th>\n",
       "      <th></th>\n",
       "      <th></th>\n",
       "    </tr>\n",
       "  </thead>\n",
       "  <tbody>\n",
       "    <tr>\n",
       "      <th>2009-01-01</th>\n",
       "      <td>0.125010</td>\n",
       "      <td>0.092281</td>\n",
       "      <td>0.016635</td>\n",
       "    </tr>\n",
       "    <tr>\n",
       "      <th>2009-01-02</th>\n",
       "      <td>0.124146</td>\n",
       "      <td>0.095781</td>\n",
       "      <td>0.016406</td>\n",
       "    </tr>\n",
       "    <tr>\n",
       "      <th>2009-01-03</th>\n",
       "      <td>0.113562</td>\n",
       "      <td>0.085542</td>\n",
       "      <td>0.016094</td>\n",
       "    </tr>\n",
       "    <tr>\n",
       "      <th>2009-01-04</th>\n",
       "      <td>0.140198</td>\n",
       "      <td>0.102708</td>\n",
       "      <td>0.017323</td>\n",
       "    </tr>\n",
       "    <tr>\n",
       "      <th>2009-01-05</th>\n",
       "      <td>0.128812</td>\n",
       "      <td>0.104490</td>\n",
       "      <td>0.018167</td>\n",
       "    </tr>\n",
       "    <tr>\n",
       "      <th>...</th>\n",
       "      <td>...</td>\n",
       "      <td>...</td>\n",
       "      <td>...</td>\n",
       "    </tr>\n",
       "    <tr>\n",
       "      <th>2012-12-29</th>\n",
       "      <td>0.807604</td>\n",
       "      <td>0.807604</td>\n",
       "      <td>0.078031</td>\n",
       "    </tr>\n",
       "    <tr>\n",
       "      <th>2012-12-30</th>\n",
       "      <td>1.027240</td>\n",
       "      <td>1.027240</td>\n",
       "      <td>0.088000</td>\n",
       "    </tr>\n",
       "    <tr>\n",
       "      <th>2012-12-31</th>\n",
       "      <td>0.748365</td>\n",
       "      <td>0.748365</td>\n",
       "      <td>0.081417</td>\n",
       "    </tr>\n",
       "    <tr>\n",
       "      <th>2013-01-01</th>\n",
       "      <td>1.733042</td>\n",
       "      <td>1.733042</td>\n",
       "      <td>0.142198</td>\n",
       "    </tr>\n",
       "    <tr>\n",
       "      <th>2013-01-02</th>\n",
       "      <td>0.860000</td>\n",
       "      <td>0.860000</td>\n",
       "      <td>0.075000</td>\n",
       "    </tr>\n",
       "  </tbody>\n",
       "</table>\n",
       "<p>1463 rows × 3 columns</p>\n",
       "</div>"
      ],
      "text/plain": [
       "             L06_347  LS06_347  LS06_348\n",
       "Time                                    \n",
       "2009-01-01  0.125010  0.092281  0.016635\n",
       "2009-01-02  0.124146  0.095781  0.016406\n",
       "2009-01-03  0.113562  0.085542  0.016094\n",
       "2009-01-04  0.140198  0.102708  0.017323\n",
       "2009-01-05  0.128812  0.104490  0.018167\n",
       "...              ...       ...       ...\n",
       "2012-12-29  0.807604  0.807604  0.078031\n",
       "2012-12-30  1.027240  1.027240  0.088000\n",
       "2012-12-31  0.748365  0.748365  0.081417\n",
       "2013-01-01  1.733042  1.733042  0.142198\n",
       "2013-01-02  0.860000  0.860000  0.075000\n",
       "\n",
       "[1463 rows x 3 columns]"
      ]
     },
     "execution_count": 48,
     "metadata": {},
     "output_type": "execute_result"
    }
   ],
   "source": [
    "data.resample('D').mean()"
   ]
  }
 ],
 "metadata": {
  "kernelspec": {
   "display_name": "Python 3 (ipykernel)",
   "language": "python",
   "name": "python3"
  },
  "language_info": {
   "codemirror_mode": {
    "name": "ipython",
    "version": 3
   },
   "file_extension": ".py",
   "mimetype": "text/x-python",
   "name": "python",
   "nbconvert_exporter": "python",
   "pygments_lexer": "ipython3",
   "version": "3.11.5"
  }
 },
 "nbformat": 4,
 "nbformat_minor": 5
}

{
 "cells": [
  {
   "cell_type": "markdown",
   "id": "d41a31fd",
   "metadata": {},
   "source": [
    "## 列表\n",
    "- 通过[]创建\n",
    "- 任何类型都可以存储"
   ]
  },
  {
   "cell_type": "code",
   "execution_count": 1,
   "id": "053e6ec4",
   "metadata": {},
   "outputs": [],
   "source": [
    "gao = []"
   ]
  },
  {
   "cell_type": "code",
   "execution_count": 2,
   "id": "224d7da4",
   "metadata": {},
   "outputs": [
    {
     "data": {
      "text/plain": [
       "list"
      ]
     },
     "execution_count": 2,
     "metadata": {},
     "output_type": "execute_result"
    }
   ],
   "source": [
    "type(gao)"
   ]
  },
  {
   "cell_type": "code",
   "execution_count": 3,
   "id": "ac4d370f",
   "metadata": {},
   "outputs": [
    {
     "data": {
      "text/plain": [
       "[1, 2, 3, 4]"
      ]
     },
     "execution_count": 3,
     "metadata": {},
     "output_type": "execute_result"
    }
   ],
   "source": [
    "gao = [1, 2, 3 , 4]\n",
    "gao"
   ]
  },
  {
   "cell_type": "code",
   "execution_count": 4,
   "id": "b727f9a0",
   "metadata": {},
   "outputs": [
    {
     "data": {
      "text/plain": [
       "list"
      ]
     },
     "execution_count": 4,
     "metadata": {},
     "output_type": "execute_result"
    }
   ],
   "source": [
    "gao = list([1,2,3])\n",
    "type(gao)"
   ]
  },
  {
   "cell_type": "code",
   "execution_count": 5,
   "id": "4e0ec3ef",
   "metadata": {},
   "outputs": [
    {
     "data": {
      "text/plain": [
       "[1, 2, 3]"
      ]
     },
     "execution_count": 5,
     "metadata": {},
     "output_type": "execute_result"
    }
   ],
   "source": [
    "gao"
   ]
  },
  {
   "cell_type": "markdown",
   "id": "b81005d3",
   "metadata": {},
   "source": [
    "### List操作"
   ]
  },
  {
   "cell_type": "code",
   "execution_count": 6,
   "id": "7e70d2d3",
   "metadata": {},
   "outputs": [
    {
     "data": {
      "text/plain": [
       "3"
      ]
     },
     "execution_count": 6,
     "metadata": {},
     "output_type": "execute_result"
    }
   ],
   "source": [
    "len(gao)"
   ]
  },
  {
   "cell_type": "code",
   "execution_count": 7,
   "id": "8901f0f9",
   "metadata": {},
   "outputs": [
    {
     "data": {
      "text/plain": [
       "[4, 5, 6, 'gao', 'grey']"
      ]
     },
     "execution_count": 7,
     "metadata": {},
     "output_type": "execute_result"
    }
   ],
   "source": [
    "a = [4, 5, 6]\n",
    "b = ['gao', 'grey']\n",
    "a + b"
   ]
  },
  {
   "cell_type": "code",
   "execution_count": 8,
   "id": "5b192833",
   "metadata": {},
   "outputs": [
    {
     "data": {
      "text/plain": [
       "['gao', 'grey', 4, 5, 6]"
      ]
     },
     "execution_count": 8,
     "metadata": {},
     "output_type": "execute_result"
    }
   ],
   "source": [
    "b + a"
   ]
  },
  {
   "cell_type": "code",
   "execution_count": 9,
   "id": "bb7bd72c",
   "metadata": {},
   "outputs": [
    {
     "data": {
      "text/plain": [
       "[4, 5, 6, 4, 5, 6]"
      ]
     },
     "execution_count": 9,
     "metadata": {},
     "output_type": "execute_result"
    }
   ],
   "source": [
    "a * 2"
   ]
  },
  {
   "cell_type": "code",
   "execution_count": 10,
   "id": "90ac4c96",
   "metadata": {},
   "outputs": [
    {
     "data": {
      "text/plain": [
       "['gao', 'grey', 'gao', 'grey', 'gao', 'grey']"
      ]
     },
     "execution_count": 10,
     "metadata": {},
     "output_type": "execute_result"
    }
   ],
   "source": [
    "b * 3"
   ]
  },
  {
   "cell_type": "markdown",
   "id": "8c672ebc",
   "metadata": {},
   "source": [
    "#### 索引\n",
    "- 与字符串索引逻辑一致"
   ]
  },
  {
   "cell_type": "code",
   "execution_count": 12,
   "id": "1d6a8749",
   "metadata": {
    "scrolled": true
   },
   "outputs": [
    {
     "ename": "IndexError",
     "evalue": "list index out of range",
     "output_type": "error",
     "traceback": [
      "\u001b[0;31m---------------------------------------------------------------------------\u001b[0m",
      "\u001b[0;31mIndexError\u001b[0m                                Traceback (most recent call last)",
      "Cell \u001b[0;32mIn[12], line 1\u001b[0m\n\u001b[0;32m----> 1\u001b[0m a[\u001b[38;5;241m3\u001b[39m]\n",
      "\u001b[0;31mIndexError\u001b[0m: list index out of range"
     ]
    }
   ],
   "source": [
    "a[3]"
   ]
  },
  {
   "cell_type": "code",
   "execution_count": 13,
   "id": "7f981451",
   "metadata": {},
   "outputs": [
    {
     "data": {
      "text/plain": [
       "6"
      ]
     },
     "execution_count": 13,
     "metadata": {},
     "output_type": "execute_result"
    }
   ],
   "source": [
    "a[2]"
   ]
  },
  {
   "cell_type": "code",
   "execution_count": 14,
   "id": "50c33677",
   "metadata": {
    "scrolled": true
   },
   "outputs": [
    {
     "data": {
      "text/plain": [
       "[1, 5, 6]"
      ]
     },
     "execution_count": 14,
     "metadata": {},
     "output_type": "execute_result"
    }
   ],
   "source": [
    "a[0] = 1\n",
    "a"
   ]
  },
  {
   "cell_type": "code",
   "execution_count": 15,
   "id": "bfec1dbf",
   "metadata": {},
   "outputs": [
    {
     "data": {
      "text/plain": [
       "['gao', 'grey', 'mid']"
      ]
     },
     "execution_count": 15,
     "metadata": {},
     "output_type": "execute_result"
    }
   ],
   "source": [
    "a[:] = ['gao', 'grey', 'mid'] \n",
    "a"
   ]
  },
  {
   "cell_type": "code",
   "execution_count": 16,
   "id": "e985599e",
   "metadata": {},
   "outputs": [
    {
     "data": {
      "text/plain": [
       "1"
      ]
     },
     "execution_count": 16,
     "metadata": {},
     "output_type": "execute_result"
    }
   ],
   "source": [
    "a.index('grey')"
   ]
  },
  {
   "cell_type": "markdown",
   "id": "905ec46f",
   "metadata": {},
   "source": [
    "#### 删除操作"
   ]
  },
  {
   "cell_type": "code",
   "execution_count": 17,
   "id": "428ad343",
   "metadata": {},
   "outputs": [],
   "source": [
    "a = [1,2,3,4,5,6,7,8,9]"
   ]
  },
  {
   "cell_type": "code",
   "execution_count": 18,
   "id": "402a740d",
   "metadata": {},
   "outputs": [
    {
     "data": {
      "text/plain": [
       "[2, 3, 4, 5, 6, 7, 8, 9]"
      ]
     },
     "execution_count": 18,
     "metadata": {},
     "output_type": "execute_result"
    }
   ],
   "source": [
    "del a[0]\n",
    "a"
   ]
  },
  {
   "cell_type": "markdown",
   "id": "263337a7",
   "metadata": {},
   "source": [
    "每次执行会重复调用"
   ]
  },
  {
   "cell_type": "code",
   "execution_count": 19,
   "id": "f9a7a4d1",
   "metadata": {},
   "outputs": [
    {
     "data": {
      "text/plain": [
       "[2]"
      ]
     },
     "execution_count": 19,
     "metadata": {},
     "output_type": "execute_result"
    }
   ],
   "source": [
    "del a[1:]\n",
    "a"
   ]
  },
  {
   "cell_type": "markdown",
   "id": "c9f644d6",
   "metadata": {},
   "source": [
    "#### 是否存在"
   ]
  },
  {
   "cell_type": "code",
   "execution_count": 20,
   "id": "23b2c74a",
   "metadata": {},
   "outputs": [
    {
     "data": {
      "text/plain": [
       "True"
      ]
     },
     "execution_count": 20,
     "metadata": {},
     "output_type": "execute_result"
    }
   ],
   "source": [
    "a = [1,2,3,4,5,6,7,8,9]\n",
    "9 in a"
   ]
  },
  {
   "cell_type": "code",
   "execution_count": 21,
   "id": "ce84c863",
   "metadata": {},
   "outputs": [
    {
     "data": {
      "text/plain": [
       "True"
      ]
     },
     "execution_count": 21,
     "metadata": {},
     "output_type": "execute_result"
    }
   ],
   "source": [
    "10 not in a"
   ]
  },
  {
   "cell_type": "code",
   "execution_count": 22,
   "id": "4fa50230",
   "metadata": {
    "scrolled": true
   },
   "outputs": [
    {
     "data": {
      "text/plain": [
       "False"
      ]
     },
     "execution_count": 22,
     "metadata": {},
     "output_type": "execute_result"
    }
   ],
   "source": [
    "'g' in gao"
   ]
  },
  {
   "cell_type": "code",
   "execution_count": 23,
   "id": "05640067",
   "metadata": {},
   "outputs": [],
   "source": [
    "gao = ['grey', 'gao']"
   ]
  },
  {
   "cell_type": "code",
   "execution_count": 24,
   "id": "90f19341",
   "metadata": {},
   "outputs": [
    {
     "data": {
      "text/plain": [
       "False"
      ]
     },
     "execution_count": 24,
     "metadata": {},
     "output_type": "execute_result"
    }
   ],
   "source": [
    "'g' in gao"
   ]
  },
  {
   "cell_type": "code",
   "execution_count": 25,
   "id": "2a08a031",
   "metadata": {},
   "outputs": [
    {
     "data": {
      "text/plain": [
       "True"
      ]
     },
     "execution_count": 25,
     "metadata": {},
     "output_type": "execute_result"
    }
   ],
   "source": [
    "'grey' in gao"
   ]
  },
  {
   "cell_type": "code",
   "execution_count": 26,
   "id": "2bb89e52",
   "metadata": {},
   "outputs": [
    {
     "data": {
      "text/plain": [
       "True"
      ]
     },
     "execution_count": 26,
     "metadata": {},
     "output_type": "execute_result"
    }
   ],
   "source": [
    "gao2 = 'grey gao'\n",
    "'g' in gao2"
   ]
  },
  {
   "cell_type": "markdown",
   "id": "e560dfb5",
   "metadata": {},
   "source": [
    "#### 多层List"
   ]
  },
  {
   "cell_type": "code",
   "execution_count": 27,
   "id": "6a5b0b11",
   "metadata": {
    "scrolled": true
   },
   "outputs": [
    {
     "data": {
      "text/plain": [
       "[3, 4]"
      ]
     },
     "execution_count": 27,
     "metadata": {},
     "output_type": "execute_result"
    }
   ],
   "source": [
    "gao3 = [1,2,[3,4]]\n",
    "gao3[2]"
   ]
  },
  {
   "cell_type": "code",
   "execution_count": 28,
   "id": "11dd4bcb",
   "metadata": {},
   "outputs": [
    {
     "data": {
      "text/plain": [
       "4"
      ]
     },
     "execution_count": 28,
     "metadata": {},
     "output_type": "execute_result"
    }
   ],
   "source": [
    "gao3[2][1]"
   ]
  },
  {
   "cell_type": "markdown",
   "id": "9b64a674",
   "metadata": {},
   "source": [
    "#### 计数"
   ]
  },
  {
   "cell_type": "code",
   "execution_count": 29,
   "id": "d3a20be7",
   "metadata": {},
   "outputs": [
    {
     "data": {
      "text/plain": [
       "2"
      ]
     },
     "execution_count": 29,
     "metadata": {},
     "output_type": "execute_result"
    }
   ],
   "source": [
    "gao4=['apple', 'banana', 'banana','banana','banana','banana', 'apple']\n",
    "gao4.count('apple')"
   ]
  },
  {
   "cell_type": "code",
   "execution_count": 30,
   "id": "a7638b88",
   "metadata": {},
   "outputs": [
    {
     "data": {
      "text/plain": [
       "5"
      ]
     },
     "execution_count": 30,
     "metadata": {},
     "output_type": "execute_result"
    }
   ],
   "source": [
    "gao4.count('banana')"
   ]
  },
  {
   "cell_type": "markdown",
   "id": "d6f2d70e",
   "metadata": {},
   "source": [
    "#### 添加元素"
   ]
  },
  {
   "cell_type": "code",
   "execution_count": 31,
   "id": "1d30c4a3",
   "metadata": {},
   "outputs": [],
   "source": [
    "gao5 = []"
   ]
  },
  {
   "cell_type": "code",
   "execution_count": 32,
   "id": "7ed85aec",
   "metadata": {
    "scrolled": true
   },
   "outputs": [
    {
     "data": {
      "text/plain": [
       "['apple']"
      ]
     },
     "execution_count": 32,
     "metadata": {},
     "output_type": "execute_result"
    }
   ],
   "source": [
    "gao5.append('apple')\n",
    "gao5"
   ]
  },
  {
   "cell_type": "code",
   "execution_count": 34,
   "id": "214b378c",
   "metadata": {
    "scrolled": true
   },
   "outputs": [
    {
     "data": {
      "text/plain": [
       "['apple', ['sub1', 'sub2']]"
      ]
     },
     "execution_count": 34,
     "metadata": {},
     "output_type": "execute_result"
    }
   ],
   "source": [
    "gao5.append(['sub1', 'sub2'])\n",
    "gao5"
   ]
  },
  {
   "cell_type": "code",
   "execution_count": 35,
   "id": "70241101",
   "metadata": {},
   "outputs": [
    {
     "data": {
      "text/plain": [
       "['apple', 'banana', ['sub1', 'sub2']]"
      ]
     },
     "execution_count": 35,
     "metadata": {},
     "output_type": "execute_result"
    }
   ],
   "source": [
    "gao5.insert(1, 'banana')\n",
    "gao5"
   ]
  },
  {
   "cell_type": "markdown",
   "id": "3d34e2db",
   "metadata": {},
   "source": [
    "#### 删除元素"
   ]
  },
  {
   "cell_type": "code",
   "execution_count": 36,
   "id": "07d3f7ba",
   "metadata": {},
   "outputs": [
    {
     "data": {
      "text/plain": [
       "['apple', 'banana']"
      ]
     },
     "execution_count": 36,
     "metadata": {},
     "output_type": "execute_result"
    }
   ],
   "source": [
    "gao5.remove(['sub1', 'sub2'])\n",
    "gao5"
   ]
  },
  {
   "cell_type": "markdown",
   "id": "c75eb2b8",
   "metadata": {},
   "source": [
    "删除找到的第一个元素"
   ]
  },
  {
   "cell_type": "code",
   "execution_count": 37,
   "id": "98968d23",
   "metadata": {},
   "outputs": [
    {
     "data": {
      "text/plain": [
       "['apple', 'banana', 'a', 'b', 'c', 'd']"
      ]
     },
     "execution_count": 37,
     "metadata": {},
     "output_type": "execute_result"
    }
   ],
   "source": [
    "gao5.append('a')\n",
    "gao5.append('b')\n",
    "gao5.append('c')\n",
    "gao5.append('d')\n",
    "gao5"
   ]
  },
  {
   "cell_type": "markdown",
   "id": "614ba5d9",
   "metadata": {},
   "source": [
    "#### 弹出"
   ]
  },
  {
   "cell_type": "code",
   "execution_count": 38,
   "id": "a4f40f96",
   "metadata": {},
   "outputs": [
    {
     "data": {
      "text/plain": [
       "['apple', 'banana', 'a', 'b', 'c']"
      ]
     },
     "execution_count": 38,
     "metadata": {},
     "output_type": "execute_result"
    }
   ],
   "source": [
    "gao5.pop()\n",
    "gao5"
   ]
  },
  {
   "cell_type": "markdown",
   "id": "6f09cab3",
   "metadata": {},
   "source": [
    "#### 排序"
   ]
  },
  {
   "cell_type": "code",
   "execution_count": 42,
   "id": "4897490f",
   "metadata": {},
   "outputs": [
    {
     "data": {
      "text/plain": [
       "[0, 1, 1, 3, 4, 4, 5, 7, 8, 9]"
      ]
     },
     "execution_count": 42,
     "metadata": {},
     "output_type": "execute_result"
    }
   ],
   "source": [
    "gao6 = [1,5,7,1,4,8,9,0,4,3]\n",
    "gao6.sort()\n",
    "gao6"
   ]
  },
  {
   "cell_type": "markdown",
   "id": "d75448bb",
   "metadata": {},
   "source": [
    "改变原始数据的排序"
   ]
  },
  {
   "cell_type": "code",
   "execution_count": 43,
   "id": "2804e33a",
   "metadata": {},
   "outputs": [
    {
     "data": {
      "text/plain": [
       "[0, 1, 1, 3, 4, 4, 5, 7, 8, 9]"
      ]
     },
     "execution_count": 43,
     "metadata": {},
     "output_type": "execute_result"
    }
   ],
   "source": [
    "gao6 = [1,5,7,1,4,8,9,0,4,3]\n",
    "gao7 = sorted(gao6)\n",
    "gao7"
   ]
  },
  {
   "cell_type": "code",
   "execution_count": 44,
   "id": "13e1f0e0",
   "metadata": {},
   "outputs": [
    {
     "data": {
      "text/plain": [
       "[1, 5, 7, 1, 4, 8, 9, 0, 4, 3]"
      ]
     },
     "execution_count": 44,
     "metadata": {},
     "output_type": "execute_result"
    }
   ],
   "source": [
    "gao6"
   ]
  },
  {
   "cell_type": "markdown",
   "id": "8e208611",
   "metadata": {},
   "source": [
    "不改变原始数据的排序"
   ]
  },
  {
   "cell_type": "markdown",
   "id": "24ba1f93",
   "metadata": {},
   "source": [
    "#### 反转列表（改变原数据）"
   ]
  },
  {
   "cell_type": "code",
   "execution_count": 47,
   "id": "1b9c3baa",
   "metadata": {},
   "outputs": [
    {
     "data": {
      "text/plain": [
       "['gao', 'mid', 'grey']"
      ]
     },
     "execution_count": 47,
     "metadata": {},
     "output_type": "execute_result"
    }
   ],
   "source": [
    "gao8=['grey', 'mid', 'gao']\n",
    "gao8.reverse()\n",
    "gao8"
   ]
  },
  {
   "cell_type": "code",
   "execution_count": null,
   "id": "a5257c05",
   "metadata": {},
   "outputs": [],
   "source": []
  }
 ],
 "metadata": {
  "kernelspec": {
   "display_name": "Python 3 (ipykernel)",
   "language": "python",
   "name": "python3"
  },
  "language_info": {
   "codemirror_mode": {
    "name": "ipython",
    "version": 3
   },
   "file_extension": ".py",
   "mimetype": "text/x-python",
   "name": "python",
   "nbconvert_exporter": "python",
   "pygments_lexer": "ipython3",
   "version": "3.11.5"
  }
 },
 "nbformat": 4,
 "nbformat_minor": 5
}

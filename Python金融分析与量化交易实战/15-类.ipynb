{
 "cells": [
  {
   "cell_type": "markdown",
   "id": "86ac1de4",
   "metadata": {},
   "source": [
    "## 类：面向对象"
   ]
  },
  {
   "cell_type": "markdown",
   "id": "a6d3f6aa",
   "metadata": {},
   "source": [
    "### 构造类"
   ]
  },
  {
   "cell_type": "code",
   "execution_count": 25,
   "id": "1c951078",
   "metadata": {},
   "outputs": [],
   "source": [
    "class person:\n",
    "    '说明信息'\n",
    "    \n",
    "    hp = 100\n",
    "    \n",
    "    # 构造函数，与js中constructor意义相同\n",
    "    def __init__(self, name, age):\n",
    "        self.name = name\n",
    "        self.age = age\n",
    "        \n",
    "    # 展示\n",
    "    def display(self):\n",
    "        print('hp=', self.hp)\n",
    "        print('name=', self.name)\n",
    "        print('age=', self.age)\n",
    "    \n",
    "    def display_name(self):\n",
    "        print('name=', self.name)"
   ]
  },
  {
   "cell_type": "markdown",
   "id": "dd0947cc",
   "metadata": {},
   "source": [
    "### 类的描述信息"
   ]
  },
  {
   "cell_type": "code",
   "execution_count": 26,
   "id": "d1ed7e42",
   "metadata": {},
   "outputs": [
    {
     "data": {
      "text/plain": [
       "'说明信息'"
      ]
     },
     "execution_count": 26,
     "metadata": {},
     "output_type": "execute_result"
    }
   ],
   "source": [
    "person.__doc__"
   ]
  },
  {
   "cell_type": "markdown",
   "id": "50b73e95",
   "metadata": {},
   "source": [
    "###  创建实例"
   ]
  },
  {
   "cell_type": "code",
   "execution_count": 27,
   "id": "c12ac88a",
   "metadata": {},
   "outputs": [],
   "source": [
    "p1 = person('gao', 32)"
   ]
  },
  {
   "cell_type": "code",
   "execution_count": 28,
   "id": "1233c488",
   "metadata": {},
   "outputs": [],
   "source": [
    "p2 = person('asura', 99)"
   ]
  },
  {
   "cell_type": "code",
   "execution_count": 29,
   "id": "bdad4e0b",
   "metadata": {},
   "outputs": [
    {
     "name": "stdout",
     "output_type": "stream",
     "text": [
      "hp= 100\n",
      "name= gao\n",
      "age= 32\n"
     ]
    }
   ],
   "source": [
    "p1.display()"
   ]
  },
  {
   "cell_type": "code",
   "execution_count": 30,
   "id": "263827ea",
   "metadata": {},
   "outputs": [
    {
     "name": "stdout",
     "output_type": "stream",
     "text": [
      "name= asura\n"
     ]
    }
   ],
   "source": [
    "p2.display_name()"
   ]
  },
  {
   "cell_type": "code",
   "execution_count": 31,
   "id": "963a9180",
   "metadata": {},
   "outputs": [],
   "source": [
    "p1.hp = 50"
   ]
  },
  {
   "cell_type": "code",
   "execution_count": 32,
   "id": "e16a9231",
   "metadata": {},
   "outputs": [
    {
     "name": "stdout",
     "output_type": "stream",
     "text": [
      "hp= 50\n",
      "name= gao\n",
      "age= 32\n"
     ]
    }
   ],
   "source": [
    "p1.display()"
   ]
  },
  {
   "cell_type": "markdown",
   "id": "d602e19b",
   "metadata": {},
   "source": [
    "### 类属性的增删改查"
   ]
  },
  {
   "cell_type": "code",
   "execution_count": 33,
   "id": "7957743a",
   "metadata": {},
   "outputs": [
    {
     "data": {
      "text/plain": [
       "True"
      ]
     },
     "execution_count": 33,
     "metadata": {},
     "output_type": "execute_result"
    }
   ],
   "source": [
    "hasattr(p1, 'name')"
   ]
  },
  {
   "cell_type": "code",
   "execution_count": 34,
   "id": "7441b8a3",
   "metadata": {},
   "outputs": [
    {
     "data": {
      "text/plain": [
       "False"
      ]
     },
     "execution_count": 34,
     "metadata": {},
     "output_type": "execute_result"
    }
   ],
   "source": [
    "hasattr(p1, 'gender')"
   ]
  },
  {
   "cell_type": "code",
   "execution_count": 35,
   "id": "9d26d2a3",
   "metadata": {},
   "outputs": [
    {
     "data": {
      "text/plain": [
       "'gao'"
      ]
     },
     "execution_count": 35,
     "metadata": {},
     "output_type": "execute_result"
    }
   ],
   "source": [
    "getattr(p1, 'name')"
   ]
  },
  {
   "cell_type": "code",
   "execution_count": 36,
   "id": "51291fb3",
   "metadata": {},
   "outputs": [],
   "source": [
    "setattr(p1, 'name', 'greygao')"
   ]
  },
  {
   "cell_type": "code",
   "execution_count": 37,
   "id": "c2e51f2e",
   "metadata": {
    "scrolled": true
   },
   "outputs": [
    {
     "data": {
      "text/plain": [
       "'greygao'"
      ]
     },
     "execution_count": 37,
     "metadata": {},
     "output_type": "execute_result"
    }
   ],
   "source": [
    "getattr(p1, 'name')"
   ]
  },
  {
   "cell_type": "code",
   "execution_count": 38,
   "id": "08cb85c4",
   "metadata": {},
   "outputs": [],
   "source": [
    "delattr(p1, 'name')"
   ]
  },
  {
   "cell_type": "code",
   "execution_count": 40,
   "id": "89140c24",
   "metadata": {
    "scrolled": true
   },
   "outputs": [
    {
     "ename": "AttributeError",
     "evalue": "'person' object has no attribute 'name'",
     "output_type": "error",
     "traceback": [
      "\u001b[0;31m---------------------------------------------------------------------------\u001b[0m",
      "\u001b[0;31mAttributeError\u001b[0m                            Traceback (most recent call last)",
      "Cell \u001b[0;32mIn[40], line 1\u001b[0m\n\u001b[0;32m----> 1\u001b[0m \u001b[38;5;28mgetattr\u001b[39m(p1, \u001b[38;5;124m'\u001b[39m\u001b[38;5;124mname\u001b[39m\u001b[38;5;124m'\u001b[39m)\n",
      "\u001b[0;31mAttributeError\u001b[0m: 'person' object has no attribute 'name'"
     ]
    }
   ],
   "source": [
    "getattr(p1, 'name')"
   ]
  },
  {
   "cell_type": "markdown",
   "id": "210fe111",
   "metadata": {},
   "source": [
    "### 类的原型链属性"
   ]
  },
  {
   "cell_type": "code",
   "execution_count": 41,
   "id": "3128e751",
   "metadata": {},
   "outputs": [
    {
     "name": "stdout",
     "output_type": "stream",
     "text": [
      "说明信息\n",
      "person\n",
      "__main__\n",
      "(<class 'object'>,)\n",
      "{'__module__': '__main__', '__doc__': '说明信息', 'hp': 100, '__init__': <function person.__init__ at 0x10db16480>, 'display': <function person.display at 0x10ca2e2a0>, 'display_name': <function person.display_name at 0x10ca2ff60>, '__dict__': <attribute '__dict__' of 'person' objects>, '__weakref__': <attribute '__weakref__' of 'person' objects>}\n"
     ]
    }
   ],
   "source": [
    "print(person.__doc__)\n",
    "print(person.__name__)\n",
    "print(person.__module__)\n",
    "print(person.__bases__)\n",
    "print(person.__dict__)"
   ]
  },
  {
   "cell_type": "markdown",
   "id": "2ba05ecc",
   "metadata": {},
   "source": [
    "### 继承\n",
    "- 被继承的称为父类，继承类称为子类"
   ]
  },
  {
   "cell_type": "code",
   "execution_count": 58,
   "id": "8785c9cb",
   "metadata": {},
   "outputs": [],
   "source": [
    "# 这是一个父类\n",
    "class Animal:\n",
    "    def __init__(self, species):\n",
    "        print('调用父类的构造函数')\n",
    "        self.species = species\n",
    "        \n",
    "    def make_sound(self):\n",
    "        print('调用父类的make_sound')\n",
    "        print('Some generic animal sound')\n",
    "        \n",
    "    def eat(self):\n",
    "        print('调用父类的eat')\n",
    "        print('Eat some food.')\n",
    "        \n",
    "# 这是一个子类\n",
    "class Dog(Animal):\n",
    "    def __init__(self, name, species):\n",
    "        print('调用子类的构造函数')\n",
    "        super().__init__(species) # 调用基类的构造函数来初始化species属性\n",
    "        self.name = name\n",
    "        \n",
    "    def make_sound(self):\n",
    "        print('调用子类的make_sound')\n",
    "        print(f\"{self.name} says Woof!\")"
   ]
  },
  {
   "cell_type": "code",
   "execution_count": 59,
   "id": "3b23c06d",
   "metadata": {},
   "outputs": [
    {
     "name": "stdout",
     "output_type": "stream",
     "text": [
      "调用父类的构造函数\n",
      "调用父类的make_sound\n",
      "Some generic animal sound\n",
      "调用子类的构造函数\n",
      "调用父类的构造函数\n",
      "调用子类的make_sound\n",
      "buddy says Woof!\n",
      "调用父类的eat\n",
      "Eat some food.\n"
     ]
    }
   ],
   "source": [
    "# 使用类创建实例\n",
    "animal = Animal('GenericAnimal')\n",
    "animal.make_sound()\n",
    "\n",
    "dog = Dog('buddy', 'Dogs')\n",
    "dog.make_sound()\n",
    "dog.eat()"
   ]
  }
 ],
 "metadata": {
  "kernelspec": {
   "display_name": "Python 3 (ipykernel)",
   "language": "python",
   "name": "python3"
  },
  "language_info": {
   "codemirror_mode": {
    "name": "ipython",
    "version": 3
   },
   "file_extension": ".py",
   "mimetype": "text/x-python",
   "name": "python",
   "nbconvert_exporter": "python",
   "pygments_lexer": "ipython3",
   "version": "3.11.5"
  }
 },
 "nbformat": 4,
 "nbformat_minor": 5
}

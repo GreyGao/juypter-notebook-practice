{
 "cells": [
  {
   "cell_type": "markdown",
   "id": "e6dd3817",
   "metadata": {},
   "source": [
    "### 函数\n",
    "- py中参数数量定义严格，必须按指定的数量传参(如果没有指定默认值)\n",
    "- 如果进行运算，则要符合相同的类型，否则可能报错"
   ]
  },
  {
   "cell_type": "code",
   "execution_count": 2,
   "id": "a7e4eb42",
   "metadata": {},
   "outputs": [
    {
     "name": "stdout",
     "output_type": "stream",
     "text": [
      "3\n"
     ]
    }
   ],
   "source": [
    "def add_ab(a, b):\n",
    "    return a + b\n",
    "\n",
    "print(add_ab(1,2))"
   ]
  },
  {
   "cell_type": "markdown",
   "id": "826a1b7f",
   "metadata": {},
   "source": [
    "#### 参数默认值"
   ]
  },
  {
   "cell_type": "code",
   "execution_count": 6,
   "id": "93b96724",
   "metadata": {
    "scrolled": true
   },
   "outputs": [
    {
     "name": "stdout",
     "output_type": "stream",
     "text": [
      "5\n"
     ]
    }
   ],
   "source": [
    "def add_ab(a=2, b=3):\n",
    "    return a + b\n",
    "\n",
    "print(add_ab())"
   ]
  },
  {
   "cell_type": "code",
   "execution_count": 7,
   "id": "d202e2a4",
   "metadata": {},
   "outputs": [
    {
     "name": "stdout",
     "output_type": "stream",
     "text": [
      "4\n"
     ]
    }
   ],
   "source": [
    "print(add_ab(1))"
   ]
  },
  {
   "cell_type": "code",
   "execution_count": 8,
   "id": "cb1a76db",
   "metadata": {},
   "outputs": [
    {
     "name": "stdout",
     "output_type": "stream",
     "text": [
      "3\n"
     ]
    }
   ],
   "source": [
    "print(add_ab(b=1))"
   ]
  },
  {
   "cell_type": "markdown",
   "id": "83cd604e",
   "metadata": {},
   "source": [
    "只给b赋值的操作"
   ]
  },
  {
   "cell_type": "markdown",
   "id": "2bbbd909",
   "metadata": {},
   "source": [
    "#### 不确定参数数量(列表）"
   ]
  },
  {
   "cell_type": "code",
   "execution_count": 9,
   "id": "c11fe77c",
   "metadata": {},
   "outputs": [
    {
     "data": {
      "text/plain": [
       "10"
      ]
     },
     "execution_count": 9,
     "metadata": {},
     "output_type": "execute_result"
    }
   ],
   "source": [
    "def add_nums(a, *args):\n",
    "    for i in args:\n",
    "        a += i\n",
    "    return a\n",
    "\n",
    "add_nums(1,2,3,4)"
   ]
  },
  {
   "cell_type": "markdown",
   "id": "79030212",
   "metadata": {},
   "source": [
    "#### 不确定参数数量(字典）"
   ]
  },
  {
   "cell_type": "code",
   "execution_count": 11,
   "id": "d5b7c8c7",
   "metadata": {},
   "outputs": [
    {
     "name": "stdout",
     "output_type": "stream",
     "text": [
      "x 2\n",
      "y 3\n",
      "z 4\n"
     ]
    },
    {
     "data": {
      "text/plain": [
       "10"
      ]
     },
     "execution_count": 11,
     "metadata": {},
     "output_type": "execute_result"
    }
   ],
   "source": [
    "def add_nums2(a, **kvargs):\n",
    "    for k,v in kvargs.items():\n",
    "        print(k, v)\n",
    "        a += v\n",
    "    return a\n",
    "\n",
    "add_nums2(1, x=2, y=3, z=4)"
   ]
  },
  {
   "cell_type": "markdown",
   "id": "edad9ced",
   "metadata": {},
   "source": [
    "### 匿名函数\n",
    "- 基本语法：lambda arguments: expression\n",
    "- 这里的 arguments 表示函数的参数，expression 是一个表达式，其值将作为函数的返回值"
   ]
  },
  {
   "cell_type": "code",
   "execution_count": 14,
   "id": "ce5909d3",
   "metadata": {},
   "outputs": [
    {
     "data": {
      "text/plain": [
       "[(4, 'four'), (1, 'one'), (3, 'three'), (2, 'two')]"
      ]
     },
     "execution_count": 14,
     "metadata": {},
     "output_type": "execute_result"
    }
   ],
   "source": [
    "# 使用 lambda 函数给列表排序，按照元素的第二个元素排序\n",
    "pairs = [(1, 'one'), (2, 'two'), (3, 'three'), (4, 'four')]\n",
    "pairs.sort(key=lambda pair:pair[1])\n",
    "pairs"
   ]
  },
  {
   "cell_type": "code",
   "execution_count": 24,
   "id": "0140779f",
   "metadata": {},
   "outputs": [
    {
     "data": {
      "text/plain": [
       "[1, 4, 9, 16, 25]"
      ]
     },
     "execution_count": 24,
     "metadata": {},
     "output_type": "execute_result"
    }
   ],
   "source": [
    "# 使用 lambda 函数结合 map() 进行操作\n",
    "numbers = [1, 2, 3, 4, 5]\n",
    "squared = map(lambda x: x ** 2, numbers)  # 返回每个数字的平方\n",
    "list(squared)"
   ]
  },
  {
   "cell_type": "code",
   "execution_count": 25,
   "id": "372b35e1",
   "metadata": {},
   "outputs": [
    {
     "data": {
      "text/plain": [
       "[2, 4, 6, 8, 10]"
      ]
     },
     "execution_count": 25,
     "metadata": {},
     "output_type": "execute_result"
    }
   ],
   "source": [
    "# 使用 lambda 函数结合 filter() 进行过滤\n",
    "numbers = [1, 2, 3, 4, 5, 6, 7, 8, 9, 10]\n",
    "even_numbers = filter(lambda x: x%2 == 0, numbers)\n",
    "list(even_numbers)"
   ]
  }
 ],
 "metadata": {
  "kernelspec": {
   "display_name": "Python 3 (ipykernel)",
   "language": "python",
   "name": "python3"
  },
  "language_info": {
   "codemirror_mode": {
    "name": "ipython",
    "version": 3
   },
   "file_extension": ".py",
   "mimetype": "text/x-python",
   "name": "python",
   "nbconvert_exporter": "python",
   "pygments_lexer": "ipython3",
   "version": "3.11.5"
  }
 },
 "nbformat": 4,
 "nbformat_minor": 5
}

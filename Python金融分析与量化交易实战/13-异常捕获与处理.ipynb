{
 "cells": [
  {
   "cell_type": "code",
   "execution_count": 2,
   "id": "5cc9f4c2",
   "metadata": {},
   "outputs": [
    {
     "name": "stdout",
     "output_type": "stream",
     "text": [
      "please enter a number:1\n",
      "0.0\n",
      "please enter a number:-1\n"
     ]
    },
    {
     "ename": "ValueError",
     "evalue": "math domain error",
     "output_type": "error",
     "traceback": [
      "\u001b[0;31m---------------------------------------------------------------------------\u001b[0m",
      "\u001b[0;31mValueError\u001b[0m                                Traceback (most recent call last)",
      "Cell \u001b[0;32mIn[2], line 7\u001b[0m\n\u001b[1;32m      5\u001b[0m \u001b[38;5;28;01mif\u001b[39;00m input_num \u001b[38;5;241m==\u001b[39m \u001b[38;5;124m'\u001b[39m\u001b[38;5;124mq\u001b[39m\u001b[38;5;124m'\u001b[39m:\n\u001b[1;32m      6\u001b[0m     \u001b[38;5;28;01mbreak\u001b[39;00m;\n\u001b[0;32m----> 7\u001b[0m result \u001b[38;5;241m=\u001b[39m math\u001b[38;5;241m.\u001b[39mlog(\u001b[38;5;28mfloat\u001b[39m(input_num))\n\u001b[1;32m      8\u001b[0m \u001b[38;5;28mprint\u001b[39m(result)\n",
      "\u001b[0;31mValueError\u001b[0m: math domain error"
     ]
    }
   ],
   "source": [
    "import math\n",
    "\n",
    "for i in range(5):\n",
    "    input_num = input('please enter a number:')\n",
    "    if input_num == 'q':\n",
    "        break;\n",
    "    result = math.log(float(input_num))\n",
    "    print(result)"
   ]
  },
  {
   "cell_type": "markdown",
   "id": "6d9a5afb",
   "metadata": {},
   "source": [
    "### 错误捕获\n",
    "- try、except进行错误捕获\n",
    "- except的参数名必须是已经指定的ValueError、NameError"
   ]
  },
  {
   "cell_type": "code",
   "execution_count": 1,
   "id": "600c37e2",
   "metadata": {},
   "outputs": [
    {
     "name": "stdout",
     "output_type": "stream",
     "text": [
      "please enter a number:1\n",
      "0.0\n",
      "please enter a number:-1\n",
      "Get ValueError\n"
     ]
    }
   ],
   "source": [
    "import math\n",
    "\n",
    "for i in range(5):\n",
    "    try:\n",
    "        input_num = input('please enter a number:')\n",
    "        if input_num == 'q':\n",
    "            break;\n",
    "        result = math.log(float(input_num))\n",
    "        print(result)\n",
    "    except ValueError:\n",
    "        print('Get ValueError',)\n",
    "#         break;"
   ]
  },
  {
   "cell_type": "markdown",
   "id": "4292bc3f",
   "metadata": {},
   "source": [
    "#### 各种错误类型都捕获"
   ]
  },
  {
   "cell_type": "code",
   "execution_count": 2,
   "id": "68ca58da",
   "metadata": {},
   "outputs": [
    {
     "name": "stdout",
     "output_type": "stream",
     "text": [
      "please enter a number:q\n"
     ]
    }
   ],
   "source": [
    "import math\n",
    "\n",
    "for i in range(5):\n",
    "    try:\n",
    "        input_num = input('please enter a number:')\n",
    "        if input_num == 'q':\n",
    "            break;\n",
    "        result = 1/math.log(float(input_num))\n",
    "        print(result)\n",
    "    except ValueError:\n",
    "        print('Get ValueError',)\n",
    "    except NameError:\n",
    "        print('Get NameError',)\n",
    "    except Exception:\n",
    "        print('Unknown Error')"
   ]
  },
  {
   "cell_type": "markdown",
   "id": "7b461e6f",
   "metadata": {},
   "source": [
    "### 抛出错误"
   ]
  },
  {
   "cell_type": "code",
   "execution_count": 5,
   "id": "ca192a83",
   "metadata": {
    "scrolled": true
   },
   "outputs": [
    {
     "name": "stdout",
     "output_type": "stream",
     "text": [
      "gao\n",
      "gg\n"
     ]
    },
    {
     "ename": "GaoError",
     "evalue": "Invalid Value: gg",
     "output_type": "error",
     "traceback": [
      "\u001b[0;31m---------------------------------------------------------------------------\u001b[0m",
      "\u001b[0;31mGaoError\u001b[0m                                  Traceback (most recent call last)",
      "Cell \u001b[0;32mIn[5], line 8\u001b[0m\n\u001b[1;32m      6\u001b[0m cur_input \u001b[38;5;241m=\u001b[39m \u001b[38;5;28minput\u001b[39m(\u001b[38;5;124m'\u001b[39m\u001b[38;5;124m'\u001b[39m)\n\u001b[1;32m      7\u001b[0m \u001b[38;5;28;01mif\u001b[39;00m cur_input \u001b[38;5;129;01mnot\u001b[39;00m \u001b[38;5;129;01min\u001b[39;00m cur_list:\n\u001b[0;32m----> 8\u001b[0m     \u001b[38;5;28;01mraise\u001b[39;00m GaoError(\u001b[38;5;124m'\u001b[39m\u001b[38;5;124mInvalid Value: \u001b[39m\u001b[38;5;132;01m%s\u001b[39;00m\u001b[38;5;124m'\u001b[39m \u001b[38;5;241m%\u001b[39mcur_input)\n",
      "\u001b[0;31mGaoError\u001b[0m: Invalid Value: gg"
     ]
    }
   ],
   "source": [
    "class GaoError(ValueError):\n",
    "    pass\n",
    "cur_list = ['grey', 'gao']\n",
    "\n",
    "while True:\n",
    "    cur_input = input('')\n",
    "    if cur_input not in cur_list:\n",
    "        raise GaoError('Invalid Value: %s' %cur_input)"
   ]
  },
  {
   "cell_type": "markdown",
   "id": "bf2ea2ea",
   "metadata": {},
   "source": [
    "### try except finally无论如何都执行"
   ]
  },
  {
   "cell_type": "code",
   "execution_count": 6,
   "id": "9ff651a9",
   "metadata": {},
   "outputs": [
    {
     "name": "stdout",
     "output_type": "stream",
     "text": [
      "hello\n",
      "2\n"
     ]
    }
   ],
   "source": [
    "try:\n",
    "    print('hello')\n",
    "finally:\n",
    "    print('2')"
   ]
  }
 ],
 "metadata": {
  "kernelspec": {
   "display_name": "Python 3 (ipykernel)",
   "language": "python",
   "name": "python3"
  },
  "language_info": {
   "codemirror_mode": {
    "name": "ipython",
    "version": 3
   },
   "file_extension": ".py",
   "mimetype": "text/x-python",
   "name": "python",
   "nbconvert_exporter": "python",
   "pygments_lexer": "ipython3",
   "version": "3.11.5"
  }
 },
 "nbformat": 4,
 "nbformat_minor": 5
}

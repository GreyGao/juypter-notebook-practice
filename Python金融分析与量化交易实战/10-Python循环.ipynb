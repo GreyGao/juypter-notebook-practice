{
 "cells": [
  {
   "cell_type": "markdown",
   "id": "798d41ba",
   "metadata": {},
   "source": [
    "### 循环结构"
   ]
  },
  {
   "cell_type": "markdown",
   "id": "64543e39",
   "metadata": {},
   "source": [
    "#### while循环"
   ]
  },
  {
   "cell_type": "code",
   "execution_count": 2,
   "id": "dd482c71",
   "metadata": {},
   "outputs": [
    {
     "name": "stdout",
     "output_type": "stream",
     "text": [
      "0\n",
      "1\n",
      "2\n",
      "3\n",
      "4\n",
      "5\n",
      "6\n",
      "7\n",
      "8\n",
      "9\n"
     ]
    }
   ],
   "source": [
    "gao = 0\n",
    "while gao < 10:\n",
    "    print(gao)\n",
    "    gao += 1"
   ]
  },
  {
   "cell_type": "code",
   "execution_count": 7,
   "id": "9db3bc09",
   "metadata": {},
   "outputs": [
    {
     "data": {
      "text/plain": [
       "{'asura', 'gao', 'grey'}"
      ]
     },
     "execution_count": 7,
     "metadata": {},
     "output_type": "execute_result"
    }
   ],
   "source": [
    "gaos = {'grey', 'gao', 'asura'}\n",
    "gaos"
   ]
  },
  {
   "cell_type": "code",
   "execution_count": 8,
   "id": "187f6f53",
   "metadata": {},
   "outputs": [
    {
     "name": "stdout",
     "output_type": "stream",
     "text": [
      "gao\n",
      "grey\n",
      "asura\n"
     ]
    }
   ],
   "source": [
    "while gaos:\n",
    "    gao = gaos.pop()\n",
    "    print(gao)"
   ]
  },
  {
   "cell_type": "markdown",
   "id": "8388949d",
   "metadata": {},
   "source": [
    "while循环会执行到集合中为空则终止"
   ]
  },
  {
   "cell_type": "markdown",
   "id": "a5de8b49",
   "metadata": {},
   "source": [
    "#### for循环"
   ]
  },
  {
   "cell_type": "code",
   "execution_count": 9,
   "id": "d6f007a4",
   "metadata": {},
   "outputs": [
    {
     "data": {
      "text/plain": [
       "{'asura', 'gao', 'grey'}"
      ]
     },
     "execution_count": 9,
     "metadata": {},
     "output_type": "execute_result"
    }
   ],
   "source": [
    "gaos = set(['grey', 'gao', 'asura'])\n",
    "gaos"
   ]
  },
  {
   "cell_type": "code",
   "execution_count": 10,
   "id": "8df41bf5",
   "metadata": {},
   "outputs": [
    {
     "name": "stdout",
     "output_type": "stream",
     "text": [
      "gao\n",
      "grey\n",
      "asura\n"
     ]
    }
   ],
   "source": [
    "for item in gaos:\n",
    "    print(item)"
   ]
  },
  {
   "cell_type": "markdown",
   "id": "32c32af2",
   "metadata": {},
   "source": [
    "for in 会循环集合、列表中的所有元素"
   ]
  },
  {
   "cell_type": "code",
   "execution_count": 16,
   "id": "806d4e28",
   "metadata": {},
   "outputs": [
    {
     "name": "stdout",
     "output_type": "stream",
     "text": [
      "0\n",
      "list1\n",
      "1\n",
      "list2\n",
      "2\n",
      "list3\n",
      "3\n",
      "list4\n",
      "4\n",
      "list5\n"
     ]
    }
   ],
   "source": [
    "gaos = ['list1', 'list2', 'list3', 'list4', 'list5']\n",
    "\n",
    "for i in range(len(gaos)):\n",
    "    print(i)\n",
    "    print(gaos[i])\n",
    "    "
   ]
  },
  {
   "cell_type": "markdown",
   "id": "ce339a48",
   "metadata": {},
   "source": [
    "- for 循环一个从0-9，一共10个数字的循环\n",
    "- 使用range可以当作索引index使用"
   ]
  },
  {
   "cell_type": "code",
   "execution_count": 21,
   "id": "995b6917",
   "metadata": {
    "scrolled": false
   },
   "outputs": [
    {
     "name": "stdout",
     "output_type": "stream",
     "text": [
      "10\n",
      "偶数\n",
      "12\n",
      "偶数\n",
      "14\n",
      "偶数\n",
      "end\n"
     ]
    }
   ],
   "source": [
    "gaos = [10,11,12,13,14,15]\n",
    "for i in gaos:\n",
    "    if i%2 == 0:\n",
    "        print(i)\n",
    "    else:\n",
    "        # 跳过奇数操作接下来的命令\n",
    "        continue\n",
    "    print('偶数')\n",
    "print('end')"
   ]
  },
  {
   "cell_type": "code",
   "execution_count": 22,
   "id": "b8b95c39",
   "metadata": {},
   "outputs": [
    {
     "name": "stdout",
     "output_type": "stream",
     "text": [
      "10\n",
      "偶数\n",
      "end\n"
     ]
    }
   ],
   "source": [
    "gaos = [10,11,12,13,14,15]\n",
    "for i in gaos:\n",
    "    if i%2 == 0:\n",
    "        print(i)\n",
    "    else:\n",
    "        # 直接中断for循环\n",
    "        break\n",
    "    print('偶数')\n",
    "print('end')"
   ]
  }
 ],
 "metadata": {
  "kernelspec": {
   "display_name": "Python 3 (ipykernel)",
   "language": "python",
   "name": "python3"
  },
  "language_info": {
   "codemirror_mode": {
    "name": "ipython",
    "version": 3
   },
   "file_extension": ".py",
   "mimetype": "text/x-python",
   "name": "python",
   "nbconvert_exporter": "python",
   "pygments_lexer": "ipython3",
   "version": "3.11.5"
  }
 },
 "nbformat": 4,
 "nbformat_minor": 5
}

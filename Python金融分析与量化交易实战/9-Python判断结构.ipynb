{
 "cells": [
  {
   "cell_type": "markdown",
   "id": "63c602b9",
   "metadata": {},
   "source": [
    "### 判断结构"
   ]
  },
  {
   "cell_type": "code",
   "execution_count": 4,
   "id": "fe8f356b",
   "metadata": {},
   "outputs": [
    {
     "name": "stdout",
     "output_type": "stream",
     "text": [
      "yes\n",
      "end\n"
     ]
    }
   ],
   "source": [
    "gao = 100\n",
    "if gao > 50:\n",
    "    print('yes')\n",
    "else:\n",
    "    print('no')\n",
    "print('end')"
   ]
  },
  {
   "cell_type": "code",
   "execution_count": 5,
   "id": "131b076e",
   "metadata": {},
   "outputs": [
    {
     "name": "stdout",
     "output_type": "stream",
     "text": [
      "200\n"
     ]
    }
   ],
   "source": [
    "gao = 200\n",
    "if gao > 200:\n",
    "    print('yes')\n",
    "elif gao == 200:\n",
    "    print('200')\n",
    "else:\n",
    "    print('no')"
   ]
  },
  {
   "cell_type": "code",
   "execution_count": 6,
   "id": "8236c537",
   "metadata": {},
   "outputs": [
    {
     "name": "stdout",
     "output_type": "stream",
     "text": [
      "ok\n"
     ]
    }
   ],
   "source": [
    "gao = [123, 4, 556]\n",
    "if 123 in gao:\n",
    "    print('ok')"
   ]
  },
  {
   "cell_type": "code",
   "execution_count": 10,
   "id": "407350da",
   "metadata": {},
   "outputs": [
    {
     "name": "stdout",
     "output_type": "stream",
     "text": [
      "ok\n"
     ]
    }
   ],
   "source": [
    "gao = {'name': 'grey', 'age': 32}\n",
    "if 'name' in gao:\n",
    "    print('ok')"
   ]
  },
  {
   "cell_type": "markdown",
   "id": "b2398495",
   "metadata": {},
   "source": [
    "判断字典时，in判断的是字典的key"
   ]
  }
 ],
 "metadata": {
  "kernelspec": {
   "display_name": "Python 3 (ipykernel)",
   "language": "python",
   "name": "python3"
  },
  "language_info": {
   "codemirror_mode": {
    "name": "ipython",
    "version": 3
   },
   "file_extension": ".py",
   "mimetype": "text/x-python",
   "name": "python",
   "nbconvert_exporter": "python",
   "pygments_lexer": "ipython3",
   "version": "3.11.5"
  }
 },
 "nbformat": 4,
 "nbformat_minor": 5
}

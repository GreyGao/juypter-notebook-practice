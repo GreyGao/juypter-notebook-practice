{
 "cells": [
  {
   "cell_type": "code",
   "execution_count": 1,
   "id": "b7bf1a32",
   "metadata": {
    "scrolled": true
   },
   "outputs": [
    {
     "name": "stdout",
     "output_type": "stream",
     "text": [
      "Overwriting ./data/gao.txt\n"
     ]
    }
   ],
   "source": [
    "%%writefile ./data/gao.txt\n",
    "hello python\n",
    "today is a good day\n",
    "I'll write a python file."
   ]
  },
  {
   "cell_type": "markdown",
   "id": "2fce32d7",
   "metadata": {},
   "source": [
    "### 读取文件"
   ]
  },
  {
   "cell_type": "code",
   "execution_count": 14,
   "id": "9a25fd75",
   "metadata": {},
   "outputs": [],
   "source": [
    "txt = open('./data/gao.txt')"
   ]
  },
  {
   "cell_type": "markdown",
   "id": "94bf5aed",
   "metadata": {},
   "source": [
    "#### 读取全文"
   ]
  },
  {
   "cell_type": "code",
   "execution_count": 15,
   "id": "44c36357",
   "metadata": {},
   "outputs": [
    {
     "name": "stdout",
     "output_type": "stream",
     "text": [
      "hello python\n",
      "today is a good day\n",
      "I'll write a python file.\n",
      "\n"
     ]
    }
   ],
   "source": [
    "txt_read = txt.read()\n",
    "print(txt_read)\n",
    "# print(txt)"
   ]
  },
  {
   "cell_type": "markdown",
   "id": "1bcf77a7",
   "metadata": {},
   "source": [
    "#### 读取行\n",
    "行和全文阅读都需要重新open\n"
   ]
  },
  {
   "cell_type": "code",
   "execution_count": 17,
   "id": "3ed3058b",
   "metadata": {},
   "outputs": [
    {
     "name": "stdout",
     "output_type": "stream",
     "text": [
      "<class 'list'>\n",
      "['hello python\\n', 'today is a good day\\n', \"I'll write a python file.\\n\"]\n"
     ]
    }
   ],
   "source": [
    "txt = open('./data/gao.txt')\n",
    "txt_lines = txt.readlines()\n",
    "print(type(txt_lines))\n",
    "print(txt_lines)"
   ]
  },
  {
   "cell_type": "code",
   "execution_count": 12,
   "id": "23b70a20",
   "metadata": {},
   "outputs": [
    {
     "name": "stdout",
     "output_type": "stream",
     "text": [
      "curr line: hello python\n",
      "\n",
      "curr line: today is a good day\n",
      "\n",
      "curr line: I'll write a python file.\n",
      "\n"
     ]
    }
   ],
   "source": [
    "for line in txt_lines:\n",
    "    print('curr line:', line)"
   ]
  },
  {
   "cell_type": "markdown",
   "id": "b6dfadde",
   "metadata": {},
   "source": [
    "#### 关闭读取"
   ]
  },
  {
   "cell_type": "code",
   "execution_count": 18,
   "id": "a2442ecd",
   "metadata": {},
   "outputs": [
    {
     "data": {
      "text/plain": [
       "<_io.TextIOWrapper name='./data/gao.txt' mode='r' encoding='UTF-8'>"
      ]
     },
     "execution_count": 18,
     "metadata": {},
     "output_type": "execute_result"
    }
   ],
   "source": [
    "txt.close()\n",
    "txt"
   ]
  },
  {
   "cell_type": "markdown",
   "id": "7f68532f",
   "metadata": {},
   "source": [
    "### 写入文件\n",
    "#### open参数\n",
    "- w: 打开一个文件只用于写入。如果该文件已存在则打开文件，并从开头开始编辑，即原有内容会被删除。如果该文件不存在，创建新文件。\n",
    "- a: 打开一个文件用于追加。如果该文件已存在，文件指针将会放在文件的结尾。也就是说，新的内容将会被写入到已有内容之后。如果该文件不存在，创建新文件进行写入\n",
    "- r: 以只读方式打开文件。文件的指针将会放在文件的开头。这是默认模式。"
   ]
  },
  {
   "cell_type": "markdown",
   "id": "d39e65bb",
   "metadata": {},
   "source": [
    "#### 覆写新文件"
   ]
  },
  {
   "cell_type": "code",
   "execution_count": 19,
   "id": "f4810773",
   "metadata": {},
   "outputs": [],
   "source": [
    "txt = open('./data/write_sample.txt', 'w')\n",
    "txt.write('Test Line1\\n')\n",
    "txt.write('Test Line2\\n')\n",
    "txt.write('Test Line3\\n')\n",
    "txt.write('Test Line4\\n')\n",
    "txt.write('Test Line5\\n')\n",
    "txt.close()"
   ]
  },
  {
   "cell_type": "markdown",
   "id": "bc1c9751",
   "metadata": {},
   "source": [
    "#### 追加内容"
   ]
  },
  {
   "cell_type": "code",
   "execution_count": 20,
   "id": "69024272",
   "metadata": {},
   "outputs": [],
   "source": [
    "txt = open('./data/write_sample.txt', 'a')\n",
    "txt.write('Test Append1\\n')\n",
    "txt.write('Test Append2\\n')\n",
    "txt.close()"
   ]
  },
  {
   "cell_type": "markdown",
   "id": "1ef18df8",
   "metadata": {},
   "source": [
    "#### 在异常捕获中的使用\n",
    "任何读取、写入操作后，必须要完成close否则可能造成写入文件丢失"
   ]
  },
  {
   "cell_type": "code",
   "execution_count": 23,
   "id": "70f2f193",
   "metadata": {},
   "outputs": [
    {
     "name": "stdout",
     "output_type": "stream",
     "text": [
      "error: 50\n"
     ]
    }
   ],
   "source": [
    "txt = open('./data/write_count.txt', 'w')\n",
    "try:\n",
    "    for i in range(100):\n",
    "        10 / (i - 50)\n",
    "        txt.write(str(i) + '\\n')\n",
    "except Exception:\n",
    "    print('error:', i)\n",
    "finally:\n",
    "    txt.close()"
   ]
  },
  {
   "cell_type": "markdown",
   "id": "d43befaa",
   "metadata": {},
   "source": [
    "#### 使用with方式打开文件\n",
    "- 可以无需手动close\n",
    "- 自动进行try、except"
   ]
  },
  {
   "cell_type": "code",
   "execution_count": 24,
   "id": "9046de40",
   "metadata": {},
   "outputs": [],
   "source": [
    "with open('./data/write_count.txt', 'a') as f:\n",
    "    f.write('Use with to write')"
   ]
  }
 ],
 "metadata": {
  "kernelspec": {
   "display_name": "Python 3 (ipykernel)",
   "language": "python",
   "name": "python3"
  },
  "language_info": {
   "codemirror_mode": {
    "name": "ipython",
    "version": 3
   },
   "file_extension": ".py",
   "mimetype": "text/x-python",
   "name": "python",
   "nbconvert_exporter": "python",
   "pygments_lexer": "ipython3",
   "version": "3.11.5"
  }
 },
 "nbformat": 4,
 "nbformat_minor": 5
}

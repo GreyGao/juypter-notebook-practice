{
 "cells": [
  {
   "cell_type": "markdown",
   "id": "c0c7c28a",
   "metadata": {},
   "source": [
    "### 字典结构\n",
    "- 类似js中的空对象{}\n",
    "- key - value 关系"
   ]
  },
  {
   "cell_type": "code",
   "execution_count": 1,
   "id": "636303a0",
   "metadata": {},
   "outputs": [
    {
     "data": {
      "text/plain": [
       "dict"
      ]
     },
     "execution_count": 1,
     "metadata": {},
     "output_type": "execute_result"
    }
   ],
   "source": [
    "gao = {}\n",
    "type(gao)"
   ]
  },
  {
   "cell_type": "code",
   "execution_count": 2,
   "id": "c200eaaf",
   "metadata": {},
   "outputs": [
    {
     "data": {
      "text/plain": [
       "dict"
      ]
     },
     "execution_count": 2,
     "metadata": {},
     "output_type": "execute_result"
    }
   ],
   "source": [
    "gao = dict()\n",
    "type(gao)"
   ]
  },
  {
   "cell_type": "code",
   "execution_count": 3,
   "id": "14f4a6c8",
   "metadata": {},
   "outputs": [
    {
     "data": {
      "text/plain": [
       "{}"
      ]
     },
     "execution_count": 3,
     "metadata": {},
     "output_type": "execute_result"
    }
   ],
   "source": [
    "gao"
   ]
  },
  {
   "cell_type": "markdown",
   "id": "11806bea",
   "metadata": {},
   "source": [
    "### 字典的操作"
   ]
  },
  {
   "cell_type": "code",
   "execution_count": 4,
   "id": "07040b36",
   "metadata": {},
   "outputs": [
    {
     "data": {
      "text/plain": [
       "{'name': 'greygao'}"
      ]
     },
     "execution_count": 4,
     "metadata": {},
     "output_type": "execute_result"
    }
   ],
   "source": [
    "gao['name'] = 'greygao'\n",
    "gao"
   ]
  },
  {
   "cell_type": "code",
   "execution_count": 5,
   "id": "72389c0a",
   "metadata": {},
   "outputs": [
    {
     "data": {
      "text/plain": [
       "{'name': 'greygao', 'age': 32}"
      ]
     },
     "execution_count": 5,
     "metadata": {},
     "output_type": "execute_result"
    }
   ],
   "source": [
    "gao['age'] = 32\n",
    "gao"
   ]
  },
  {
   "cell_type": "code",
   "execution_count": 6,
   "id": "cd2fa98e",
   "metadata": {},
   "outputs": [
    {
     "data": {
      "text/plain": [
       "32"
      ]
     },
     "execution_count": 6,
     "metadata": {},
     "output_type": "execute_result"
    }
   ],
   "source": [
    "gao['age']"
   ]
  },
  {
   "cell_type": "markdown",
   "id": "eaaea0cb",
   "metadata": {},
   "source": [
    "和js不同，无法通过gao.age获得取值"
   ]
  },
  {
   "cell_type": "code",
   "execution_count": 8,
   "id": "69385360",
   "metadata": {},
   "outputs": [
    {
     "data": {
      "text/plain": [
       "{'name': 'GreyGao', 'age': 32}"
      ]
     },
     "execution_count": 8,
     "metadata": {},
     "output_type": "execute_result"
    }
   ],
   "source": [
    "gao['name'] = 'GreyGao'\n",
    "gao"
   ]
  },
  {
   "cell_type": "code",
   "execution_count": 9,
   "id": "f0724d8f",
   "metadata": {
    "scrolled": true
   },
   "outputs": [
    {
     "ename": "KeyError",
     "evalue": "'sex'",
     "output_type": "error",
     "traceback": [
      "\u001b[0;31m---------------------------------------------------------------------------\u001b[0m",
      "\u001b[0;31mKeyError\u001b[0m                                  Traceback (most recent call last)",
      "Cell \u001b[0;32mIn[9], line 1\u001b[0m\n\u001b[0;32m----> 1\u001b[0m gao[\u001b[38;5;124m'\u001b[39m\u001b[38;5;124msex\u001b[39m\u001b[38;5;124m'\u001b[39m]\n",
      "\u001b[0;31mKeyError\u001b[0m: 'sex'"
     ]
    }
   ],
   "source": [
    "gao['sex']"
   ]
  },
  {
   "cell_type": "markdown",
   "id": "568ba129",
   "metadata": {},
   "source": [
    "不存在的key直接读取会报错，而不会像js一样得到undifined"
   ]
  },
  {
   "cell_type": "markdown",
   "id": "4a9057b4",
   "metadata": {},
   "source": [
    "#### 另一种赋值方法"
   ]
  },
  {
   "cell_type": "code",
   "execution_count": 3,
   "id": "86b727a7",
   "metadata": {},
   "outputs": [
    {
     "data": {
      "text/plain": [
       "{'name': 'asura', 'age': 32}"
      ]
     },
     "execution_count": 3,
     "metadata": {},
     "output_type": "execute_result"
    }
   ],
   "source": [
    "gao = dict([('name','asura'), ('age',32)])\n",
    "gao"
   ]
  },
  {
   "cell_type": "markdown",
   "id": "a36c8764",
   "metadata": {},
   "source": [
    "#### 取值的两种方式\n",
    "- get方法可取默认值"
   ]
  },
  {
   "cell_type": "code",
   "execution_count": 5,
   "id": "9b2392f5",
   "metadata": {},
   "outputs": [
    {
     "name": "stdout",
     "output_type": "stream",
     "text": [
      "asura\n",
      "32\n",
      "164\n"
     ]
    }
   ],
   "source": [
    "print(gao['name'])\n",
    "print(gao.get('age'))\n",
    "print(gao.get('height', 164))"
   ]
  },
  {
   "cell_type": "markdown",
   "id": "91e63616",
   "metadata": {},
   "source": [
    "#### 弹出"
   ]
  },
  {
   "cell_type": "code",
   "execution_count": 6,
   "id": "3dd09844",
   "metadata": {},
   "outputs": [
    {
     "data": {
      "text/plain": [
       "{'name': 'asura', 'age': 32, 'height': 164}"
      ]
     },
     "execution_count": 6,
     "metadata": {},
     "output_type": "execute_result"
    }
   ],
   "source": [
    "gao['height'] = 164\n",
    "gao"
   ]
  },
  {
   "cell_type": "code",
   "execution_count": 7,
   "id": "bc31e25f",
   "metadata": {},
   "outputs": [
    {
     "data": {
      "text/plain": [
       "{'name': 'asura', 'age': 32}"
      ]
     },
     "execution_count": 7,
     "metadata": {},
     "output_type": "execute_result"
    }
   ],
   "source": [
    "gao.pop('height')\n",
    "gao"
   ]
  },
  {
   "cell_type": "markdown",
   "id": "56422939",
   "metadata": {},
   "source": [
    "#### 合并更新\n",
    "- 后一项字典中的元素全部合并至前一项中，已经存在的key则更新"
   ]
  },
  {
   "cell_type": "code",
   "execution_count": 9,
   "id": "42057e40",
   "metadata": {},
   "outputs": [
    {
     "data": {
      "text/plain": [
       "{'name': 'asura', 'age': 32}"
      ]
     },
     "execution_count": 9,
     "metadata": {},
     "output_type": "execute_result"
    }
   ],
   "source": [
    "gao1 = {'name': 'grey'}\n",
    "gao2 = {'name': 'asura', 'age': 32}\n",
    "gao1.update(gao2)\n",
    "gao1"
   ]
  },
  {
   "cell_type": "markdown",
   "id": "a9090298",
   "metadata": {},
   "source": [
    "#### 判断存在"
   ]
  },
  {
   "cell_type": "code",
   "execution_count": 11,
   "id": "9bbc2a3f",
   "metadata": {},
   "outputs": [
    {
     "data": {
      "text/plain": [
       "True"
      ]
     },
     "execution_count": 11,
     "metadata": {},
     "output_type": "execute_result"
    }
   ],
   "source": [
    "'name' in gao1"
   ]
  },
  {
   "cell_type": "code",
   "execution_count": 12,
   "id": "acd5ba09",
   "metadata": {},
   "outputs": [
    {
     "data": {
      "text/plain": [
       "False"
      ]
     },
     "execution_count": 12,
     "metadata": {},
     "output_type": "execute_result"
    }
   ],
   "source": [
    "'height' in gao1"
   ]
  },
  {
   "cell_type": "markdown",
   "id": "6e1cd8bc",
   "metadata": {},
   "source": [
    "#### 获取keys、values"
   ]
  },
  {
   "cell_type": "code",
   "execution_count": 13,
   "id": "73b73cd0",
   "metadata": {},
   "outputs": [
    {
     "data": {
      "text/plain": [
       "dict_keys(['name', 'age'])"
      ]
     },
     "execution_count": 13,
     "metadata": {},
     "output_type": "execute_result"
    }
   ],
   "source": [
    "gao1.keys()"
   ]
  },
  {
   "cell_type": "code",
   "execution_count": 14,
   "id": "12479d72",
   "metadata": {},
   "outputs": [
    {
     "data": {
      "text/plain": [
       "dict_values(['asura', 32])"
      ]
     },
     "execution_count": 14,
     "metadata": {},
     "output_type": "execute_result"
    }
   ],
   "source": [
    "gao1.values()"
   ]
  },
  {
   "cell_type": "code",
   "execution_count": 15,
   "id": "867aa9ac",
   "metadata": {},
   "outputs": [
    {
     "data": {
      "text/plain": [
       "dict_items([('name', 'asura'), ('age', 32)])"
      ]
     },
     "execution_count": 15,
     "metadata": {},
     "output_type": "execute_result"
    }
   ],
   "source": [
    "gao1.items()"
   ]
  },
  {
   "cell_type": "code",
   "execution_count": null,
   "id": "f636b991",
   "metadata": {},
   "outputs": [],
   "source": []
  }
 ],
 "metadata": {
  "kernelspec": {
   "display_name": "Python 3 (ipykernel)",
   "language": "python",
   "name": "python3"
  },
  "language_info": {
   "codemirror_mode": {
    "name": "ipython",
    "version": 3
   },
   "file_extension": ".py",
   "mimetype": "text/x-python",
   "name": "python",
   "nbconvert_exporter": "python",
   "pygments_lexer": "ipython3",
   "version": "3.11.5"
  }
 },
 "nbformat": 4,
 "nbformat_minor": 5
}

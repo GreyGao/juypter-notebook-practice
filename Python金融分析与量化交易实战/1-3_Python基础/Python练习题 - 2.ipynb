{
 "cells": [
  {
   "cell_type": "markdown",
   "id": "cf0843f0",
   "metadata": {},
   "source": [
    "### Python练习题2"
   ]
  },
  {
   "cell_type": "markdown",
   "id": "096fcb49",
   "metadata": {},
   "source": [
    "（一）利用递归方法求5!"
   ]
  },
  {
   "cell_type": "code",
   "execution_count": 1,
   "id": "10e54da1",
   "metadata": {},
   "outputs": [
    {
     "name": "stdout",
     "output_type": "stream",
     "text": [
      "5!的结果为: 120\n"
     ]
    }
   ],
   "source": [
    "def factorial(n):\n",
    "  if n == 1:\n",
    "    return 1\n",
    "  return n * factorial(n - 1)\n",
    "\n",
    "\n",
    "num = 5\n",
    "print(f'{num}!的结果为:', factorial(num))\n"
   ]
  },
  {
   "cell_type": "markdown",
   "id": "3cc17c7b",
   "metadata": {},
   "source": [
    "（二）利用递归函数调用方式，将所输入的5个字符，以相反顺序打印出来"
   ]
  },
  {
   "cell_type": "code",
   "execution_count": 3,
   "id": "60819fcc",
   "metadata": {},
   "outputs": [
    {
     "name": "stdout",
     "output_type": "stream",
     "text": [
      "相反顺序打印出来的字符为: layor\n"
     ]
    }
   ],
   "source": [
    "def reverse(s):\n",
    "  if len(s) == 0:\n",
    "    return s\n",
    "  else:\n",
    "    return s[-1] + reverse(s[0:-1])\n",
    "  \n",
    "# 输入5个字符\n",
    "input_str = input(\"请输入5个字符: \")\n",
    "\n",
    "reversed_str = reverse(input_str)\n",
    "print(\"相反顺序打印出来的字符为:\", reversed_str)"
   ]
  },
  {
   "cell_type": "markdown",
   "id": "22c845a9",
   "metadata": {},
   "source": [
    "（三）按逗号分隔列表"
   ]
  },
  {
   "cell_type": "code",
   "execution_count": 5,
   "id": "265caaab",
   "metadata": {},
   "outputs": [
    {
     "name": "stdout",
     "output_type": "stream",
     "text": [
      "按逗号分隔列表: hello,grey,gao\n"
     ]
    }
   ],
   "source": [
    "def join_with_comma(arr):\n",
    "  return ','.join(arr)\n",
    "\n",
    "# 输入列表\n",
    "input_arr = ['hello', 'grey', 'gao']\n",
    "result = join_with_comma(input_arr)\n",
    "print(\"按逗号分隔列表:\", result)"
   ]
  },
  {
   "cell_type": "markdown",
   "id": "aa1695a2",
   "metadata": {},
   "source": [
    "（四）将一个数组逆序输出"
   ]
  },
  {
   "cell_type": "code",
   "execution_count": 7,
   "id": "5732c1eb",
   "metadata": {},
   "outputs": [
    {
     "name": "stdout",
     "output_type": "stream",
     "text": [
      "将一个数组逆序输出: ['gao', 'grey', 'hello']\n"
     ]
    }
   ],
   "source": [
    "def reverse_arr(arr):\n",
    "  result = []\n",
    "  for item in arr:\n",
    "    result.insert(0, item)\n",
    "  return result\n",
    "\n",
    "# 输入列表\n",
    "input_arr = ['hello', 'grey', 'gao']\n",
    "result = reverse_arr(input_arr)\n",
    "print(\"将一个数组逆序输出:\", result)"
   ]
  },
  {
   "cell_type": "markdown",
   "id": "551ddbfa",
   "metadata": {},
   "source": [
    "（五）两个 3 行 3 列的矩阵，实现其对应位置的数据相加，并返回一个新矩阵"
   ]
  },
  {
   "cell_type": "code",
   "execution_count": 9,
   "id": "397bc2e3",
   "metadata": {},
   "outputs": [
    {
     "name": "stdout",
     "output_type": "stream",
     "text": [
      "矩阵相加： [[10, 10, 10], [10, 10, 10], [10, 10, 10]]\n"
     ]
    }
   ],
   "source": [
    "def add_matrices(a, b):\n",
    "    result = []\n",
    "    # 创建新矩阵，其中的元素是矩阵a和b对应元素的和\n",
    "    for i in range(len(a)):\n",
    "        item = []\n",
    "        for j in range(len(b)):\n",
    "            item.append(a[i][j] + b[i][j])\n",
    "        result.append(item)\n",
    "    return result\n",
    "\n",
    "# 定义两个3x3矩阵\n",
    "matrix1 = [\n",
    "    [1, 2, 3],\n",
    "    [4, 5, 6],\n",
    "    [7, 8, 9]\n",
    "]\n",
    "\n",
    "matrix2 = [\n",
    "    [9, 8, 7],\n",
    "    [6, 5, 4],\n",
    "    [3, 2, 1]\n",
    "]\n",
    "\n",
    "# 矩阵相加\n",
    "result_matrix = add_matrices(matrix1, matrix2)\n",
    "print('矩阵相加：', result_matrix)"
   ]
  },
  {
   "cell_type": "markdown",
   "id": "7c88b645",
   "metadata": {},
   "source": [
    "（六）匿名函数求和"
   ]
  },
  {
   "cell_type": "code",
   "execution_count": 3,
   "id": "724e1ee3",
   "metadata": {},
   "outputs": [
    {
     "name": "stdout",
     "output_type": "stream",
     "text": [
      "15\n"
     ]
    }
   ],
   "source": [
    "sum = lambda x,y:x+y\n",
    "\n",
    "print(sum(4,11))"
   ]
  },
  {
   "cell_type": "markdown",
   "id": "dca9fba6",
   "metadata": {},
   "source": [
    "（七）查找字符串的位置"
   ]
  },
  {
   "cell_type": "code",
   "execution_count": 4,
   "id": "a9d42b62",
   "metadata": {},
   "outputs": [
    {
     "name": "stdout",
     "output_type": "stream",
     "text": [
      "3\n"
     ]
    }
   ],
   "source": [
    "s1 = 'asdffgdhfdjhgj'\n",
    "s2 = 'ffg'\n",
    "print (s1.find(s2))"
   ]
  },
  {
   "cell_type": "markdown",
   "id": "8b4787b2",
   "metadata": {},
   "source": [
    "（八）在字典中找到年龄最大的人，并输出"
   ]
  },
  {
   "cell_type": "code",
   "execution_count": 8,
   "id": "a2f74670",
   "metadata": {},
   "outputs": [
    {
     "name": "stdout",
     "output_type": "stream",
     "text": [
      "('zhaoyun', 88)\n"
     ]
    }
   ],
   "source": [
    "def findMaxAge(dict):\n",
    "    max = None\n",
    "    for item in dict.items():\n",
    "        if max == None:\n",
    "            max = item\n",
    "        elif item[1] > max[1]:\n",
    "            max = item\n",
    "    return max\n",
    "\n",
    "\n",
    "people = {'laowang':40,'tangyudi':30, 'zhaoyun': 88 ,'zhangsan':45}\n",
    "print(findMaxAge(people))"
   ]
  },
  {
   "cell_type": "markdown",
   "id": "a3eaa790",
   "metadata": {},
   "source": [
    "（九）列表转换为字典"
   ]
  },
  {
   "cell_type": "code",
   "execution_count": 11,
   "id": "3e35ba95",
   "metadata": {},
   "outputs": [
    {
     "name": "stdout",
     "output_type": "stream",
     "text": [
      "{'gao': 12, 'asura': 32, 'orange': 33, 'ye': 15}\n"
     ]
    }
   ],
   "source": [
    "def listToDict(arr1, arr2):\n",
    "    result = {}\n",
    "    for i in range(len(arr1)):\n",
    "        result[arr1[i]] = arr2[i]\n",
    "\n",
    "    return result\n",
    "\n",
    "people = ['gao', 'asura', 'orange', 'ye']\n",
    "age = [12, 32, 33, 15]\n",
    "print(listToDict(people, age))"
   ]
  },
  {
   "cell_type": "markdown",
   "id": "7e64c45a",
   "metadata": {},
   "source": [
    "（十）从键盘输入一个字符串，将小写字母全部转换成大写字母，然后输出到一个磁盘文件\"test\"中保存"
   ]
  },
  {
   "cell_type": "code",
   "execution_count": 15,
   "id": "c89852fa",
   "metadata": {},
   "outputs": [
    {
     "name": "stdout",
     "output_type": "stream",
     "text": [
      "请输入一个字符串：hello world, i'm new to python! ha\n",
      "HELLO WORLD, I'M NEW TO PYTHON! HA\n"
     ]
    }
   ],
   "source": [
    "input_str = input('请输入一个字符串：')\n",
    "result = input_str.upper()\n",
    "\n",
    "txt = open('./data/test.txt', 'w')\n",
    "txt.write(result)\n",
    "txt.close()\n",
    "\n",
    "txt = open('./data/test.txt', 'r')\n",
    "print(txt.read())\n",
    "txt.close()"
   ]
  }
 ],
 "metadata": {
  "kernelspec": {
   "display_name": "Python 3 (ipykernel)",
   "language": "python",
   "name": "python3"
  },
  "language_info": {
   "codemirror_mode": {
    "name": "ipython",
    "version": 3
   },
   "file_extension": ".py",
   "mimetype": "text/x-python",
   "name": "python",
   "nbconvert_exporter": "python",
   "pygments_lexer": "ipython3",
   "version": "3.11.5"
  }
 },
 "nbformat": 4,
 "nbformat_minor": 5
}

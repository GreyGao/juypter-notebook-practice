{
 "cells": [
  {
   "cell_type": "markdown",
   "id": "2fcff68d",
   "metadata": {},
   "source": [
    "#### 字符串赋值"
   ]
  },
  {
   "cell_type": "code",
   "execution_count": 1,
   "id": "011acfaa",
   "metadata": {},
   "outputs": [],
   "source": [
    "gao_str = 'hello python'"
   ]
  },
  {
   "cell_type": "code",
   "execution_count": 2,
   "id": "1d85f941",
   "metadata": {},
   "outputs": [
    {
     "name": "stdout",
     "output_type": "stream",
     "text": [
      "hello python\n"
     ]
    }
   ],
   "source": [
    "print(gao_str)"
   ]
  },
  {
   "cell_type": "code",
   "execution_count": 3,
   "id": "907c0fa9",
   "metadata": {},
   "outputs": [],
   "source": [
    "gao= 'hello' + ' python2'"
   ]
  },
  {
   "cell_type": "code",
   "execution_count": 4,
   "id": "9605921f",
   "metadata": {},
   "outputs": [
    {
     "name": "stdout",
     "output_type": "stream",
     "text": [
      "hello python2\n"
     ]
    }
   ],
   "source": [
    "print(gao)"
   ]
  },
  {
   "cell_type": "code",
   "execution_count": 5,
   "id": "08c0db82",
   "metadata": {},
   "outputs": [
    {
     "data": {
      "text/plain": [
       "'hello pythonhello pythonhello python'"
      ]
     },
     "execution_count": 5,
     "metadata": {},
     "output_type": "execute_result"
    }
   ],
   "source": [
    "gao_str * 3"
   ]
  },
  {
   "cell_type": "code",
   "execution_count": 6,
   "id": "b9432dcf",
   "metadata": {},
   "outputs": [
    {
     "data": {
      "text/plain": [
       "12"
      ]
     },
     "execution_count": 6,
     "metadata": {},
     "output_type": "execute_result"
    }
   ],
   "source": [
    "len(gao_str)"
   ]
  },
  {
   "cell_type": "markdown",
   "id": "3d36f2e8",
   "metadata": {},
   "source": [
    "#### 字符串操作"
   ]
  },
  {
   "cell_type": "code",
   "execution_count": 9,
   "id": "2b004d9d",
   "metadata": {},
   "outputs": [
    {
     "data": {
      "text/plain": [
       "['1', '2', '3', '4', '5']"
      ]
     },
     "execution_count": 9,
     "metadata": {},
     "output_type": "execute_result"
    }
   ],
   "source": [
    "gao_str = '1 2 3 4 5'\n",
    "gao_str.split()"
   ]
  },
  {
   "cell_type": "code",
   "execution_count": 14,
   "id": "27a30b15",
   "metadata": {},
   "outputs": [
    {
     "name": "stdout",
     "output_type": "stream",
     "text": [
      "['1', '2', '3', '4', '5']\n"
     ]
    }
   ],
   "source": [
    "gao_str = '1,2,3,4,5'\n",
    "gao = gao_str.split(',')\n",
    "print(gao)"
   ]
  },
  {
   "cell_type": "code",
   "execution_count": 18,
   "id": "4f9e6984",
   "metadata": {},
   "outputs": [
    {
     "name": "stdout",
     "output_type": "stream",
     "text": [
      "12345\n"
     ]
    }
   ],
   "source": [
    "gao_str = ''\n",
    "gao_str = gao_str.join(gao)\n",
    "print(gao_str)"
   ]
  },
  {
   "cell_type": "code",
   "execution_count": 19,
   "id": "3b6a951c",
   "metadata": {},
   "outputs": [
    {
     "data": {
      "text/plain": [
       "'hello world'"
      ]
     },
     "execution_count": 19,
     "metadata": {},
     "output_type": "execute_result"
    }
   ],
   "source": [
    "gao_str2 = 'hello python'\n",
    "gao_str2.replace('python', 'world')"
   ]
  },
  {
   "cell_type": "code",
   "execution_count": 20,
   "id": "09b00373",
   "metadata": {},
   "outputs": [
    {
     "data": {
      "text/plain": [
       "'hello python'"
      ]
     },
     "execution_count": 20,
     "metadata": {},
     "output_type": "execute_result"
    }
   ],
   "source": [
    "gao_str2"
   ]
  },
  {
   "cell_type": "markdown",
   "id": "130e08f0",
   "metadata": {},
   "source": [
    "原值不会被改变"
   ]
  },
  {
   "cell_type": "code",
   "execution_count": 21,
   "id": "1dcf014f",
   "metadata": {},
   "outputs": [
    {
     "data": {
      "text/plain": [
       "'HELLO PYTHON'"
      ]
     },
     "execution_count": 21,
     "metadata": {},
     "output_type": "execute_result"
    }
   ],
   "source": [
    "gao_str2.upper()"
   ]
  },
  {
   "cell_type": "code",
   "execution_count": 22,
   "id": "cf0f036c",
   "metadata": {},
   "outputs": [
    {
     "data": {
      "text/plain": [
       "'hello python'"
      ]
     },
     "execution_count": 22,
     "metadata": {},
     "output_type": "execute_result"
    }
   ],
   "source": [
    "gao_str3 = 'HELLO PYTHON'\n",
    "gao_str3.lower()"
   ]
  },
  {
   "cell_type": "code",
   "execution_count": 24,
   "id": "42b620ff",
   "metadata": {},
   "outputs": [
    {
     "data": {
      "text/plain": [
       "'hello   python'"
      ]
     },
     "execution_count": 24,
     "metadata": {},
     "output_type": "execute_result"
    }
   ],
   "source": [
    "gao_str4 = '    hello   python    '\n",
    "gao_str4.strip()"
   ]
  },
  {
   "cell_type": "code",
   "execution_count": 25,
   "id": "1e11f466",
   "metadata": {},
   "outputs": [
    {
     "data": {
      "text/plain": [
       "'hello   python    '"
      ]
     },
     "execution_count": 25,
     "metadata": {},
     "output_type": "execute_result"
    }
   ],
   "source": [
    "gao_str4.lstrip()"
   ]
  },
  {
   "cell_type": "markdown",
   "id": "91781f05",
   "metadata": {},
   "source": [
    "#### 格式化字符串"
   ]
  },
  {
   "cell_type": "code",
   "execution_count": 26,
   "id": "475c4ba3",
   "metadata": {},
   "outputs": [
    {
     "data": {
      "text/plain": [
       "'gao wang f'"
      ]
     },
     "execution_count": 26,
     "metadata": {},
     "output_type": "execute_result"
    }
   ],
   "source": [
    "'{} {} {}'.format('gao', 'wang', 'f')"
   ]
  },
  {
   "cell_type": "code",
   "execution_count": 27,
   "id": "b97b92e0",
   "metadata": {},
   "outputs": [
    {
     "data": {
      "text/plain": [
       "'f wang gao'"
      ]
     },
     "execution_count": 27,
     "metadata": {},
     "output_type": "execute_result"
    }
   ],
   "source": [
    "'{2} {1} {0}'.format('gao', 'wang', 'f')"
   ]
  },
  {
   "cell_type": "code",
   "execution_count": 28,
   "id": "61d17c22",
   "metadata": {},
   "outputs": [
    {
     "data": {
      "text/plain": [
       "'gao 32 famale'"
      ]
     },
     "execution_count": 28,
     "metadata": {},
     "output_type": "execute_result"
    }
   ],
   "source": [
    "'{name} {age} {gender}'.format(name='gao', age=32, gender='famale')"
   ]
  },
  {
   "cell_type": "code",
   "execution_count": 29,
   "id": "ff734c57",
   "metadata": {},
   "outputs": [
    {
     "name": "stdout",
     "output_type": "stream",
     "text": [
      "grey gao: 164 76.000000\n"
     ]
    }
   ],
   "source": [
    "gao = 'grey gao:'\n",
    "f = 76.0\n",
    "h = 164\n",
    "result = '%s %d %f' % (gao, h, f)\n",
    "print(result)"
   ]
  },
  {
   "cell_type": "code",
   "execution_count": null,
   "id": "101552fd",
   "metadata": {},
   "outputs": [],
   "source": []
  }
 ],
 "metadata": {
  "kernelspec": {
   "display_name": "Python 3 (ipykernel)",
   "language": "python",
   "name": "python3"
  },
  "language_info": {
   "codemirror_mode": {
    "name": "ipython",
    "version": 3
   },
   "file_extension": ".py",
   "mimetype": "text/x-python",
   "name": "python",
   "nbconvert_exporter": "python",
   "pygments_lexer": "ipython3",
   "version": "3.11.5"
  }
 },
 "nbformat": 4,
 "nbformat_minor": 5
}

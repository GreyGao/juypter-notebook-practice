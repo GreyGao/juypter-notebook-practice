{
 "cells": [
  {
   "cell_type": "code",
   "execution_count": 1,
   "id": "4bd691dc",
   "metadata": {},
   "outputs": [],
   "source": [
    "import time"
   ]
  },
  {
   "cell_type": "markdown",
   "id": "a2f4560b",
   "metadata": {},
   "source": [
    "### 时间戳"
   ]
  },
  {
   "cell_type": "code",
   "execution_count": 2,
   "id": "89a6ff95",
   "metadata": {},
   "outputs": [
    {
     "name": "stdout",
     "output_type": "stream",
     "text": [
      "1699416751.966773\n"
     ]
    }
   ],
   "source": [
    "print(time.time())"
   ]
  },
  {
   "cell_type": "markdown",
   "id": "623755dd",
   "metadata": {},
   "source": [
    "### 格式化时间"
   ]
  },
  {
   "cell_type": "code",
   "execution_count": 5,
   "id": "9cf35b15",
   "metadata": {},
   "outputs": [
    {
     "name": "stdout",
     "output_type": "stream",
     "text": [
      "time.struct_time(tm_year=2023, tm_mon=11, tm_mday=8, tm_hour=12, tm_min=15, tm_sec=6, tm_wday=2, tm_yday=312, tm_isdst=0)\n"
     ]
    }
   ],
   "source": [
    "time_dict = time.localtime(time.time())\n",
    "print(time_dict)"
   ]
  },
  {
   "cell_type": "code",
   "execution_count": 6,
   "id": "6c74e22e",
   "metadata": {},
   "outputs": [
    {
     "name": "stdout",
     "output_type": "stream",
     "text": [
      "Wed Nov  8 12:15:06 2023\n"
     ]
    }
   ],
   "source": [
    "print(time.asctime(time_dict))"
   ]
  },
  {
   "cell_type": "code",
   "execution_count": 7,
   "id": "cb520420",
   "metadata": {},
   "outputs": [
    {
     "name": "stdout",
     "output_type": "stream",
     "text": [
      "2023-11-08 12:15:06\n"
     ]
    }
   ],
   "source": [
    "print(time.strftime('%Y-%m-%d %H:%M:%S', time_dict))"
   ]
  },
  {
   "cell_type": "code",
   "execution_count": 8,
   "id": "c7c2bee1",
   "metadata": {},
   "outputs": [
    {
     "name": "stdout",
     "output_type": "stream",
     "text": [
      "2023-11-08 12:18:41\n"
     ]
    }
   ],
   "source": [
    "print(time.strftime('%Y-%m-%d %H:%M:%S', time.localtime()))"
   ]
  },
  {
   "cell_type": "markdown",
   "id": "63027057",
   "metadata": {},
   "source": [
    "### 日历"
   ]
  },
  {
   "cell_type": "code",
   "execution_count": 9,
   "id": "96e61783",
   "metadata": {
    "scrolled": true
   },
   "outputs": [
    {
     "name": "stdout",
     "output_type": "stream",
     "text": [
      "   November 2023\n",
      "Mo Tu We Th Fr Sa Su\n",
      "       1  2  3  4  5\n",
      " 6  7  8  9 10 11 12\n",
      "13 14 15 16 17 18 19\n",
      "20 21 22 23 24 25 26\n",
      "27 28 29 30\n",
      "\n"
     ]
    }
   ],
   "source": [
    "import calendar\n",
    "\n",
    "print(calendar.month(2023, 11))"
   ]
  }
 ],
 "metadata": {
  "kernelspec": {
   "display_name": "Python 3 (ipykernel)",
   "language": "python",
   "name": "python3"
  },
  "language_info": {
   "codemirror_mode": {
    "name": "ipython",
    "version": 3
   },
   "file_extension": ".py",
   "mimetype": "text/x-python",
   "name": "python",
   "nbconvert_exporter": "python",
   "pygments_lexer": "ipython3",
   "version": "3.11.5"
  }
 },
 "nbformat": 4,
 "nbformat_minor": 5
}

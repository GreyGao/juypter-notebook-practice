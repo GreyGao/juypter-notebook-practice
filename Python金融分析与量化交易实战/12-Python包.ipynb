{
 "cells": [
  {
   "cell_type": "markdown",
   "id": "ee59c4c1",
   "metadata": {},
   "source": [
    "### 写入py文件"
   ]
  },
  {
   "cell_type": "code",
   "execution_count": 6,
   "id": "507ae3ab",
   "metadata": {},
   "outputs": [
    {
     "name": "stdout",
     "output_type": "stream",
     "text": [
      "Overwriting gao.py\n"
     ]
    }
   ],
   "source": [
    "%%writefile gao.py\n",
    "\n",
    "gao_v = 10\n",
    "\n",
    "def sum(arr):\n",
    "    result = 0\n",
    "    for i in range(len(arr)):\n",
    "        result += arr[i]\n",
    "    return result\n",
    "\n",
    "gao_list = [1,2,3,4,5]\n",
    "print(sum(gao_list))"
   ]
  },
  {
   "cell_type": "markdown",
   "id": "4aa1b2d9",
   "metadata": {},
   "source": [
    "### 读取py文件"
   ]
  },
  {
   "cell_type": "code",
   "execution_count": 7,
   "id": "96152377",
   "metadata": {},
   "outputs": [
    {
     "name": "stdout",
     "output_type": "stream",
     "text": [
      "15\n"
     ]
    }
   ],
   "source": [
    "%run gao.py"
   ]
  },
  {
   "cell_type": "markdown",
   "id": "0d97ddf1",
   "metadata": {},
   "source": [
    "### 导入模块/工具包"
   ]
  },
  {
   "cell_type": "code",
   "execution_count": 8,
   "id": "5ea99983",
   "metadata": {},
   "outputs": [
    {
     "name": "stdout",
     "output_type": "stream",
     "text": [
      "15\n"
     ]
    }
   ],
   "source": [
    "import gao"
   ]
  },
  {
   "cell_type": "code",
   "execution_count": 9,
   "id": "11340bad",
   "metadata": {},
   "outputs": [
    {
     "data": {
      "text/plain": [
       "<module 'gao' from '/Users/greygao/Desktop/self/python/notebook/Python金融分析与量化交易实战/gao.py'>"
      ]
     },
     "execution_count": 9,
     "metadata": {},
     "output_type": "execute_result"
    }
   ],
   "source": [
    "gao"
   ]
  },
  {
   "cell_type": "markdown",
   "id": "c9b2e45f",
   "metadata": {},
   "source": [
    "#### 读取模块变量"
   ]
  },
  {
   "cell_type": "code",
   "execution_count": 11,
   "id": "785507fc",
   "metadata": {},
   "outputs": [
    {
     "data": {
      "text/plain": [
       "10"
      ]
     },
     "execution_count": 11,
     "metadata": {},
     "output_type": "execute_result"
    }
   ],
   "source": [
    "gao.gao_v"
   ]
  },
  {
   "cell_type": "code",
   "execution_count": 12,
   "id": "c9a72c7a",
   "metadata": {},
   "outputs": [
    {
     "data": {
      "text/plain": [
       "22"
      ]
     },
     "execution_count": 12,
     "metadata": {},
     "output_type": "execute_result"
    }
   ],
   "source": [
    "gao_list2=[4,5,6,7]\n",
    "gao.sum(gao_list2)"
   ]
  },
  {
   "cell_type": "markdown",
   "id": "ed63c535",
   "metadata": {},
   "source": [
    "#### 改变模块变量"
   ]
  },
  {
   "cell_type": "code",
   "execution_count": 14,
   "id": "d974be0e",
   "metadata": {},
   "outputs": [
    {
     "data": {
      "text/plain": [
       "99"
      ]
     },
     "execution_count": 14,
     "metadata": {},
     "output_type": "execute_result"
    }
   ],
   "source": [
    "gao.gao_v = 99\n",
    "gao.gao_v"
   ]
  },
  {
   "cell_type": "markdown",
   "id": "a796cd95",
   "metadata": {},
   "source": [
    "#### 重命名包名"
   ]
  },
  {
   "cell_type": "code",
   "execution_count": 15,
   "id": "2ad15ed7",
   "metadata": {},
   "outputs": [],
   "source": [
    "import gao as tg"
   ]
  },
  {
   "cell_type": "code",
   "execution_count": 16,
   "id": "dc8c4b90",
   "metadata": {},
   "outputs": [
    {
     "data": {
      "text/plain": [
       "99"
      ]
     },
     "execution_count": 16,
     "metadata": {},
     "output_type": "execute_result"
    }
   ],
   "source": [
    "tg.gao_v"
   ]
  },
  {
   "cell_type": "markdown",
   "id": "34ea0925",
   "metadata": {},
   "source": [
    "#### 解构导入变量、方法"
   ]
  },
  {
   "cell_type": "code",
   "execution_count": 17,
   "id": "d5a95e49",
   "metadata": {},
   "outputs": [
    {
     "data": {
      "text/plain": [
       "[1, 2, 3, 4, 5]"
      ]
     },
     "execution_count": 17,
     "metadata": {},
     "output_type": "execute_result"
    }
   ],
   "source": [
    "from gao import gao_v, gao_list\n",
    "\n",
    "gao_list"
   ]
  },
  {
   "cell_type": "markdown",
   "id": "e9f057f4",
   "metadata": {},
   "source": [
    "#### 全部导入"
   ]
  },
  {
   "cell_type": "code",
   "execution_count": 18,
   "id": "1e2811db",
   "metadata": {},
   "outputs": [],
   "source": [
    "from gao import *"
   ]
  },
  {
   "cell_type": "markdown",
   "id": "47bce6ca",
   "metadata": {},
   "source": [
    "### 举例"
   ]
  },
  {
   "cell_type": "code",
   "execution_count": 21,
   "id": "22e4082b",
   "metadata": {},
   "outputs": [
    {
     "data": {
      "text/plain": [
       "'/Users/greygao/Desktop/self/python/notebook/Python金融分析与量化交易实战'"
      ]
     },
     "execution_count": 21,
     "metadata": {},
     "output_type": "execute_result"
    }
   ],
   "source": [
    "import os\n",
    "os.path.abspath('.')"
   ]
  }
 ],
 "metadata": {
  "kernelspec": {
   "display_name": "Python 3 (ipykernel)",
   "language": "python",
   "name": "python3"
  },
  "language_info": {
   "codemirror_mode": {
    "name": "ipython",
    "version": 3
   },
   "file_extension": ".py",
   "mimetype": "text/x-python",
   "name": "python",
   "nbconvert_exporter": "python",
   "pygments_lexer": "ipython3",
   "version": "3.11.5"
  }
 },
 "nbformat": 4,
 "nbformat_minor": 5
}

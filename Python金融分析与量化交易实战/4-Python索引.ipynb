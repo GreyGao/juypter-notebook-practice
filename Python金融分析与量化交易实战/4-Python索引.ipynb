{
 "cells": [
  {
   "cell_type": "markdown",
   "id": "2fd10e75",
   "metadata": {},
   "source": [
    "### 索引\n",
    "- 从0正向开始\n",
    "- 从-1反向开始"
   ]
  },
  {
   "cell_type": "code",
   "execution_count": 2,
   "id": "83a2fc68",
   "metadata": {},
   "outputs": [
    {
     "data": {
      "text/plain": [
       "'g'"
      ]
     },
     "execution_count": 2,
     "metadata": {},
     "output_type": "execute_result"
    }
   ],
   "source": [
    "gao = 'grey gao'\n",
    "gao[0]"
   ]
  },
  {
   "cell_type": "code",
   "execution_count": 3,
   "id": "afca047d",
   "metadata": {},
   "outputs": [
    {
     "data": {
      "text/plain": [
       "'o'"
      ]
     },
     "execution_count": 3,
     "metadata": {},
     "output_type": "execute_result"
    }
   ],
   "source": [
    "gao[-1]"
   ]
  },
  {
   "cell_type": "code",
   "execution_count": 4,
   "id": "5fb93028",
   "metadata": {},
   "outputs": [
    {
     "ename": "IndexError",
     "evalue": "string index out of range",
     "output_type": "error",
     "traceback": [
      "\u001b[0;31m---------------------------------------------------------------------------\u001b[0m",
      "\u001b[0;31mIndexError\u001b[0m                                Traceback (most recent call last)",
      "Cell \u001b[0;32mIn[4], line 1\u001b[0m\n\u001b[0;32m----> 1\u001b[0m gao[\u001b[38;5;241m10\u001b[39m]\n",
      "\u001b[0;31mIndexError\u001b[0m: string index out of range"
     ]
    }
   ],
   "source": [
    "gao[10]"
   ]
  },
  {
   "cell_type": "markdown",
   "id": "878d5cb3",
   "metadata": {},
   "source": [
    "索引不能越界"
   ]
  },
  {
   "cell_type": "markdown",
   "id": "d8577abd",
   "metadata": {},
   "source": [
    "### 切片\n",
    "- 用:表示从哪到哪\n",
    "- 左闭又开"
   ]
  },
  {
   "cell_type": "code",
   "execution_count": 5,
   "id": "5b52f9c5",
   "metadata": {},
   "outputs": [
    {
     "data": {
      "text/plain": [
       "'grey'"
      ]
     },
     "execution_count": 5,
     "metadata": {},
     "output_type": "execute_result"
    }
   ],
   "source": [
    "gao[0:4]"
   ]
  },
  {
   "cell_type": "code",
   "execution_count": 7,
   "id": "c5906097",
   "metadata": {},
   "outputs": [
    {
     "data": {
      "text/plain": [
       "'gao'"
      ]
     },
     "execution_count": 7,
     "metadata": {},
     "output_type": "execute_result"
    }
   ],
   "source": [
    "gao[5:]"
   ]
  },
  {
   "cell_type": "code",
   "execution_count": 9,
   "id": "01777011",
   "metadata": {},
   "outputs": [
    {
     "data": {
      "text/plain": [
       "'grey'"
      ]
     },
     "execution_count": 9,
     "metadata": {},
     "output_type": "execute_result"
    }
   ],
   "source": [
    "gao[:4]"
   ]
  },
  {
   "cell_type": "code",
   "execution_count": 10,
   "id": "30788886",
   "metadata": {},
   "outputs": [
    {
     "data": {
      "text/plain": [
       "'grey ga'"
      ]
     },
     "execution_count": 10,
     "metadata": {},
     "output_type": "execute_result"
    }
   ],
   "source": [
    "gao[:-1]"
   ]
  },
  {
   "cell_type": "code",
   "execution_count": 11,
   "id": "65e49cfa",
   "metadata": {},
   "outputs": [
    {
     "data": {
      "text/plain": [
       "'grey'"
      ]
     },
     "execution_count": 11,
     "metadata": {},
     "output_type": "execute_result"
    }
   ],
   "source": [
    "gao[0:-4]"
   ]
  },
  {
   "cell_type": "code",
   "execution_count": 12,
   "id": "d772700f",
   "metadata": {},
   "outputs": [
    {
     "data": {
      "text/plain": [
       "'grey gao'"
      ]
     },
     "execution_count": 12,
     "metadata": {},
     "output_type": "execute_result"
    }
   ],
   "source": [
    "gao[:]"
   ]
  },
  {
   "cell_type": "markdown",
   "id": "9d05ceec",
   "metadata": {},
   "source": [
    "#### 每2个idx取一个值"
   ]
  },
  {
   "cell_type": "code",
   "execution_count": 13,
   "id": "df61f38d",
   "metadata": {},
   "outputs": [
    {
     "data": {
      "text/plain": [
       "'ge a'"
      ]
     },
     "execution_count": 13,
     "metadata": {},
     "output_type": "execute_result"
    }
   ],
   "source": [
    "gao[::2]"
   ]
  },
  {
   "cell_type": "code",
   "execution_count": null,
   "id": "d6f1883c",
   "metadata": {},
   "outputs": [],
   "source": []
  }
 ],
 "metadata": {
  "kernelspec": {
   "display_name": "Python 3 (ipykernel)",
   "language": "python",
   "name": "python3"
  },
  "language_info": {
   "codemirror_mode": {
    "name": "ipython",
    "version": 3
   },
   "file_extension": ".py",
   "mimetype": "text/x-python",
   "name": "python",
   "nbconvert_exporter": "python",
   "pygments_lexer": "ipython3",
   "version": "3.11.5"
  }
 },
 "nbformat": 4,
 "nbformat_minor": 5
}

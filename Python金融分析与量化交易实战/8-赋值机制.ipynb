{
 "cells": [
  {
   "cell_type": "markdown",
   "id": "add84b3c",
   "metadata": {},
   "source": [
    "### 内存指向\n",
    "- 通过id获取变量在内存中的赋值指向"
   ]
  },
  {
   "cell_type": "code",
   "execution_count": 2,
   "id": "d197ef81",
   "metadata": {},
   "outputs": [],
   "source": [
    "gao = '1234'\n",
    "grey = gao"
   ]
  },
  {
   "cell_type": "code",
   "execution_count": 3,
   "id": "255d3f3f",
   "metadata": {},
   "outputs": [
    {
     "data": {
      "text/plain": [
       "4394893424"
      ]
     },
     "execution_count": 3,
     "metadata": {},
     "output_type": "execute_result"
    }
   ],
   "source": [
    "id(gao)"
   ]
  },
  {
   "cell_type": "code",
   "execution_count": 4,
   "id": "0c2819f4",
   "metadata": {},
   "outputs": [
    {
     "data": {
      "text/plain": [
       "4394893424"
      ]
     },
     "execution_count": 4,
     "metadata": {},
     "output_type": "execute_result"
    }
   ],
   "source": [
    "id(grey)"
   ]
  },
  {
   "cell_type": "code",
   "execution_count": 5,
   "id": "5104bc61",
   "metadata": {},
   "outputs": [
    {
     "data": {
      "text/plain": [
       "True"
      ]
     },
     "execution_count": 5,
     "metadata": {},
     "output_type": "execute_result"
    }
   ],
   "source": [
    "grey is gao"
   ]
  },
  {
   "cell_type": "code",
   "execution_count": 6,
   "id": "4b4124d5",
   "metadata": {},
   "outputs": [
    {
     "data": {
      "text/plain": [
       "4395045168"
      ]
     },
     "execution_count": 6,
     "metadata": {},
     "output_type": "execute_result"
    }
   ],
   "source": [
    "grey = '341'\n",
    "id(grey)"
   ]
  },
  {
   "cell_type": "code",
   "execution_count": 7,
   "id": "78fe5cfc",
   "metadata": {},
   "outputs": [
    {
     "data": {
      "text/plain": [
       "False"
      ]
     },
     "execution_count": 7,
     "metadata": {},
     "output_type": "execute_result"
    }
   ],
   "source": [
    "grey is gao"
   ]
  },
  {
   "cell_type": "code",
   "execution_count": 8,
   "id": "641495e2",
   "metadata": {},
   "outputs": [],
   "source": [
    "grey = 1\n",
    "gao = 1"
   ]
  },
  {
   "cell_type": "code",
   "execution_count": 9,
   "id": "afe78323",
   "metadata": {},
   "outputs": [
    {
     "data": {
      "text/plain": [
       "4342242648"
      ]
     },
     "execution_count": 9,
     "metadata": {},
     "output_type": "execute_result"
    }
   ],
   "source": [
    "id(grey)"
   ]
  },
  {
   "cell_type": "code",
   "execution_count": 10,
   "id": "5bf2dfd7",
   "metadata": {},
   "outputs": [
    {
     "data": {
      "text/plain": [
       "4342242648"
      ]
     },
     "execution_count": 10,
     "metadata": {},
     "output_type": "execute_result"
    }
   ],
   "source": [
    "id(gao)"
   ]
  },
  {
   "cell_type": "markdown",
   "id": "0ac00833",
   "metadata": {},
   "source": [
    "- 赋值变量相同，并不等于指向了同一块内存空间\n",
    "- 当数字较小时，在py中指定在了同一块空间中"
   ]
  }
 ],
 "metadata": {
  "kernelspec": {
   "display_name": "Python 3 (ipykernel)",
   "language": "python",
   "name": "python3"
  },
  "language_info": {
   "codemirror_mode": {
    "name": "ipython",
    "version": 3
   },
   "file_extension": ".py",
   "mimetype": "text/x-python",
   "name": "python",
   "nbconvert_exporter": "python",
   "pygments_lexer": "ipython3",
   "version": "3.11.5"
  }
 },
 "nbformat": 4,
 "nbformat_minor": 5
}

{
 "cells": [
  {
   "cell_type": "markdown",
   "id": "1a4efc93",
   "metadata": {},
   "source": [
    "### Python练习题1"
   ]
  },
  {
   "cell_type": "markdown",
   "id": "f2062588",
   "metadata": {},
   "source": [
    "（一）有四个数字：1、2、3、4，能组成多少个互不相同且无重复数字的三位数？各是多少？"
   ]
  },
  {
   "cell_type": "code",
   "execution_count": 5,
   "id": "de2dac21",
   "metadata": {},
   "outputs": [
    {
     "name": "stdout",
     "output_type": "stream",
     "text": [
      "能组成24个三位数\n",
      "{132, 134, 142, 143, 412, 413, 421, 423, 431, 432, 312, 314, 321, 324, 213, 214, 341, 342, 231, 234, 241, 243, 123, 124}\n"
     ]
    }
   ],
   "source": [
    "result = set([])\n",
    "for i in range(1,5):\n",
    "  for j in range(1,5):\n",
    "    for n in range(1,5):\n",
    "      if i != j and i != n and j != n:\n",
    "        num = 100* i + 10 * j + n\n",
    "        result.add(num)\n",
    "        # print(num)\n",
    "\n",
    "print(f'能组成%d个三位数' %len(result))\n",
    "print(result)"
   ]
  },
  {
   "cell_type": "markdown",
   "id": "5d2510af",
   "metadata": {},
   "source": [
    "（二）企业发放的奖金根据利润提成。利润(I)低于或等于10万元时，奖金可提10%；利润高于10万元，低于20万元时，低于10万元的部分按10%提成，高于10万元的部分，可提成7.5%；20万到40万之间时，高于20万元的部分，可提成5%；40万到60万之间时高于40万元的部分，可提成3%；60万到100万之间时，高于60万元的部分，可提成1.5%，高于100万元时，超过100万元的部分按1%提成，从键盘输入当月利润I，求应发放奖金总数？"
   ]
  },
  {
   "cell_type": "code",
   "execution_count": 24,
   "id": "869a9a2a",
   "metadata": {},
   "outputs": [
    {
     "name": "stdout",
     "output_type": "stream",
     "text": [
      "当年利润为2000000.0\n",
      "1000000区间计算金额: 1000000.0\n",
      "1000000区间奖金比例为1.0%, 金额为: 10000.0\n",
      "剩余计算金额: 1000000\n",
      "600000区间计算金额: 400000\n",
      "600000区间奖金比例为1.5%, 金额为: 6000.0\n",
      "剩余计算金额: 600000\n",
      "400000区间计算金额: 200000\n",
      "400000区间奖金比例为3.0%, 金额为: 6000.0\n",
      "剩余计算金额: 400000\n",
      "200000区间计算金额: 200000\n",
      "200000区间奖金比例为5.0%, 金额为: 10000.0\n",
      "剩余计算金额: 200000\n",
      "100000区间计算金额: 100000\n",
      "100000区间奖金比例为7.5%, 金额为: 7500.0\n",
      "剩余计算金额: 100000\n",
      "0区间计算金额: 100000\n",
      "0区间奖金比例为10.0%, 金额为: 10000.0\n",
      "剩余计算金额: 0\n",
      "当年奖金为49500.0\n"
     ]
    }
   ],
   "source": [
    "profit = float(input(\"请输入当年利润\"))\n",
    "bonus = 0\n",
    "block = [1000000, 600000, 400000, 200000, 100000, 0]\n",
    "rates = [0.01, 0.015, 0.03, 0.05, 0.075, 0.1]\n",
    "print(f'当年利润为{profit}')\n",
    "for i in range(len(block)):\n",
    "    b = block[i]\n",
    "    rate = rates[i]\n",
    "    curr = profit - b\n",
    "    curr_bonus = curr * rate\n",
    "    profit = b\n",
    "    bonus += curr_bonus\n",
    "    print(f\"{b}区间计算金额:\", curr)\n",
    "    print(f\"{b}区间奖金比例为{rate * 100}%, 金额为:\", curr_bonus)\n",
    "    print(\"剩余计算金额:\", profit)\n",
    "print(f'当年奖金为{bonus}')"
   ]
  },
  {
   "cell_type": "code",
   "execution_count": 23,
   "id": "6997d10b",
   "metadata": {},
   "outputs": [
    {
     "name": "stdout",
     "output_type": "stream",
     "text": [
      "应发放奖金总数：89450.0元\n"
     ]
    }
   ],
   "source": [
    "# 来自ChatGPT\n",
    "def calculate_bonus(profit):\n",
    "    thresholds = [1000000, 600000, 400000, 200000, 100000, 0]\n",
    "    rates = [0.01, 0.015, 0.03, 0.05, 0.075, 0.1]\n",
    "    bonus = 0\n",
    "    for i in range(len(thresholds)):\n",
    "        if profit > thresholds[i]:\n",
    "            bonus += (profit - thresholds[i]) * rates[i]\n",
    "            profit = thresholds[i]\n",
    "    return bonus\n",
    "\n",
    "# 从键盘输入利润\n",
    "profit_input = float(input(\"请输入当月利润I（元）：\"))\n",
    "bonus_total = calculate_bonus(profit_input)\n",
    "print(f\"应发放奖金总数：{bonus_total}元\")"
   ]
  },
  {
   "cell_type": "markdown",
   "id": "f8469394",
   "metadata": {},
   "source": [
    "（三）输入三个整数x,y,z，请把这三个数由小到大输出"
   ]
  },
  {
   "cell_type": "code",
   "execution_count": 27,
   "id": "fe263234",
   "metadata": {},
   "outputs": [
    {
     "name": "stdout",
     "output_type": "stream",
     "text": [
      "input: 123\n",
      "input: 55\n",
      "input: 19494\n",
      "[55, 123, 19494]\n"
     ]
    }
   ],
   "source": [
    "arr = []\n",
    "for i in range(3):\n",
    "  input_num = int(input('请输入整数：'))\n",
    "  print('input:', input_num)\n",
    "  arr.append(input_num)\n",
    "\n",
    "arr.sort()\n",
    "print(arr)"
   ]
  },
  {
   "cell_type": "code",
   "execution_count": 28,
   "id": "4dde75d6",
   "metadata": {},
   "outputs": [
    {
     "name": "stdout",
     "output_type": "stream",
     "text": [
      "由小到大的顺序为:  [1, 424, 777]\n"
     ]
    }
   ],
   "source": [
    "# 来自ChatGPT\n",
    "\n",
    "# 输入三个整数\n",
    "x = int(input(\"请输入整数x: \"))\n",
    "y = int(input(\"请输入整数y: \"))\n",
    "z = int(input(\"请输入整数z: \"))\n",
    "\n",
    "# 将它们放入一个列表\n",
    "numbers = [x, y, z]\n",
    "\n",
    "# 对列表进行排序\n",
    "numbers.sort()\n",
    "\n",
    "# 输出排序后的列表\n",
    "print(\"由小到大的顺序为: \", numbers)"
   ]
  },
  {
   "cell_type": "markdown",
   "id": "c332a311",
   "metadata": {},
   "source": [
    "（四）将一个列表的数据复制到另一个列表中"
   ]
  },
  {
   "cell_type": "code",
   "execution_count": 30,
   "id": "2d66504a",
   "metadata": {},
   "outputs": [
    {
     "name": "stdout",
     "output_type": "stream",
     "text": [
      "复制后列表数据： ['123', '321', '444', '555']\n",
      "4454083072\n",
      "4559810688\n"
     ]
    }
   ],
   "source": [
    "def copy_list(data):\n",
    "  result = []\n",
    "  for item in data:\n",
    "    result.append(item)\n",
    "  return result\n",
    "\n",
    "list1 = ['123', '321', '444', '555']\n",
    "list2 = copy_list(list1)\n",
    "print('复制后列表数据：', list2)\n",
    "print(id(list1))\n",
    "print(id(list2))"
   ]
  },
  {
   "cell_type": "code",
   "execution_count": 31,
   "id": "7ea5d614",
   "metadata": {},
   "outputs": [
    {
     "name": "stdout",
     "output_type": "stream",
     "text": [
      "复制后列表数据： ['123', '321', '444', '555']\n",
      "4559152448\n",
      "4559718528\n"
     ]
    }
   ],
   "source": [
    "# 更加简洁的方式\n",
    "def copy_list(data):\n",
    "  return data[:]\n",
    "\n",
    "list1 = ['123', '321', '444', '555']\n",
    "list2 = copy_list(list1)\n",
    "print('复制后列表数据：', list2)\n",
    "print(id(list1))\n",
    "print(id(list2))"
   ]
  },
  {
   "cell_type": "markdown",
   "id": "b446c59c",
   "metadata": {},
   "source": [
    "（五）暂停一秒输出,并格式化当前时间。使用 time 模块的 sleep() 函数。"
   ]
  },
  {
   "cell_type": "code",
   "execution_count": 36,
   "id": "a6711002",
   "metadata": {},
   "outputs": [
    {
     "name": "stdout",
     "output_type": "stream",
     "text": [
      "2023-11-08 15:52:56\n",
      "2023-11-08 15:52:57\n",
      "2023-11-08 15:52:59\n"
     ]
    }
   ],
   "source": [
    "import time\n",
    "\n",
    "print(time.strftime('%Y-%m-%d %H:%M:%S', time.localtime()))\n",
    "time.sleep(1)\n",
    "print(time.strftime('%Y-%m-%d %H:%M:%S', time.localtime()))\n",
    "time.sleep(2)\n",
    "print(time.strftime('%Y-%m-%d %H:%M:%S', time.localtime()))"
   ]
  },
  {
   "cell_type": "markdown",
   "id": "6f025ec0",
   "metadata": {},
   "source": [
    "（六）打印出所有的\"水仙花数\"，所谓\"水仙花数\"是指一个三位数，其各位数字立方和等于该数本身。例如：153是一个\"水仙花数\"，因为153=1的三次方＋5的三次方＋3的三次方。"
   ]
  },
  {
   "cell_type": "code",
   "execution_count": 43,
   "id": "fa7db6a0",
   "metadata": {},
   "outputs": [
    {
     "name": "stdout",
     "output_type": "stream",
     "text": [
      "153\n",
      "370\n",
      "371\n",
      "407\n"
     ]
    }
   ],
   "source": [
    "for i in range(100, 1000):\n",
    "  str_i = str(i)\n",
    "  if int(str_i[0])**3 + int(str_i[1])**3 + int(str_i[2])**3 == i:\n",
    "    print(i)"
   ]
  },
  {
   "cell_type": "markdown",
   "id": "be35831c",
   "metadata": {},
   "source": [
    "（七）输入一行字符，分别统计出其中英文字母、空格、数字和其它字符的个数。"
   ]
  },
  {
   "cell_type": "code",
   "execution_count": 45,
   "id": "2955f846",
   "metadata": {},
   "outputs": [
    {
     "name": "stdout",
     "output_type": "stream",
     "text": [
      "输入内容： 当你运行这段代码并输入一行字符时，它会统计并输出你输入的英文字母、空格、数字和其他字符的个数。这里用到的 isalpha(), isspace(), isdigit() 分别是Python字符串的方法，用于判断字符是否为字母、空格、数字。其他类型的字符都会被归类到其他字符中。\n",
      "英文字母有 117 个\n",
      "空格有 4 个\n",
      "数字有 0 个\n",
      "其他字符有 17 个\n"
     ]
    }
   ],
   "source": [
    "# 输入一行字符\n",
    "s = input(\"请输入一行字符: \")\n",
    "\n",
    "# 初始化计数器\n",
    "letter_c = 0\n",
    "space_c = 0\n",
    "digit_c = 0\n",
    "other_c = 0\n",
    "\n",
    "# 遍历字符串中的每个字符并分类计数\n",
    "for char in s:\n",
    "  if char.isalpha():\n",
    "    letter_c += 1\n",
    "  elif char.isspace():\n",
    "    space_c += 1\n",
    "  elif char.isdigit():\n",
    "    digit_c += 1\n",
    "  else:\n",
    "    other_c += 1\n",
    "\n",
    "# 输出结果\n",
    "print(f\"输入内容：\", s)\n",
    "print(f\"英文字母有 {letter_c} 个\")\n",
    "print(f\"空格有 {space_c} 个\")\n",
    "print(f\"数字有 {digit_c} 个\")\n",
    "print(f\"其他字符有 {other_c} 个\") "
   ]
  },
  {
   "cell_type": "markdown",
   "id": "5febe5f6",
   "metadata": {
    "collapsed": true
   },
   "source": [
    "（八）一球从100米高度自由落下，每次落地后反跳回原高度的一半；再落下，求它在第10次落地时，共经过多少米？第10次反弹多高？"
   ]
  },
  {
   "cell_type": "code",
   "execution_count": 13,
   "id": "35b87f49",
   "metadata": {},
   "outputs": [
    {
     "name": "stdout",
     "output_type": "stream",
     "text": [
      "第1次落地，反弹高度为50.0米，经过150.0米\n",
      "第2次落地，反弹高度为25.0米，经过225.0米\n",
      "第3次落地，反弹高度为12.5米，经过262.5米\n",
      "第4次落地，反弹高度为6.25米，经过281.25米\n",
      "第5次落地，反弹高度为3.125米，经过290.625米\n",
      "第6次落地，反弹高度为1.5625米，经过295.3125米\n",
      "第7次落地，反弹高度为0.78125米，经过297.65625米\n",
      "第8次落地，反弹高度为0.390625米，经过298.828125米\n",
      "第9次落地，反弹高度为0.1953125米，经过299.4140625米\n",
      "第10次落地，反弹高度为0.09765625米，经过299.609375米\n"
     ]
    }
   ],
   "source": [
    "height = 100\n",
    "mileage = 0\n",
    "\n",
    "for i in range(1, 11):\n",
    "  if i == 10:\n",
    "    mileage += height # 最后一次落地后不计算反弹后高度\n",
    "  else:\n",
    "    mileage += (height + height / 2)\n",
    "  height = float(height) / 2\n",
    "  print(f'第{i}次落地，反弹高度为{height}米，经过{mileage}米')"
   ]
  },
  {
   "cell_type": "code",
   "execution_count": 8,
   "id": "5e071ebc",
   "metadata": {},
   "outputs": [
    {
     "name": "stdout",
     "output_type": "stream",
     "text": [
      "第10次落地时，共经过 299.609375 米。\n",
      "第10次反弹的高度为 0.09765625 米。\n"
     ]
    }
   ],
   "source": [
    "# 来自ChatGPT\n",
    "\n",
    "initial_height = 100  # 初始高度\n",
    "total_distance = 0  # 总经过的距离\n",
    "bounce_height = initial_height  # 每次反弹后的高度\n",
    "\n",
    "for i in range(1, 11):  # 从第1次落地到第10次落地\n",
    "    total_distance += bounce_height\n",
    "    bounce_height /= 2\n",
    "    if i < 10:  # 最后一次落地不再反弹\n",
    "        total_distance += bounce_height\n",
    "\n",
    "print(f\"第10次落地时，共经过 {total_distance} 米。\")\n",
    "print(f\"第10次反弹的高度为 {bounce_height} 米。\")"
   ]
  }
 ],
 "metadata": {
  "kernelspec": {
   "display_name": "Python 3 (ipykernel)",
   "language": "python",
   "name": "python3"
  },
  "language_info": {
   "codemirror_mode": {
    "name": "ipython",
    "version": 3
   },
   "file_extension": ".py",
   "mimetype": "text/x-python",
   "name": "python",
   "nbconvert_exporter": "python",
   "pygments_lexer": "ipython3",
   "version": "3.11.5"
  }
 },
 "nbformat": 4,
 "nbformat_minor": 5
}
